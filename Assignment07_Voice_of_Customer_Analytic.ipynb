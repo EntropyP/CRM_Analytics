{
  "nbformat": 4,
  "nbformat_minor": 0,
  "metadata": {
    "colab": {
      "name": "Assignment07 : Voice of Customer Analytic.ipynb",
      "provenance": [],
      "collapsed_sections": [],
      "include_colab_link": true
    },
    "kernelspec": {
      "name": "python3",
      "display_name": "Python 3"
    },
    "language_info": {
      "name": "python"
    }
  },
  "cells": [
    {
      "cell_type": "markdown",
      "metadata": {
        "id": "view-in-github",
        "colab_type": "text"
      },
      "source": [
        "<a href=\"https://colab.research.google.com/github/EntropyP/CRM_Analytics/blob/main/Assignment07_Voice_of_Customer_Analytic.ipynb\" target=\"_parent\"><img src=\"https://colab.research.google.com/assets/colab-badge.svg\" alt=\"Open In Colab\"/></a>"
      ]
    },
    {
      "cell_type": "markdown",
      "metadata": {
        "id": "bgn-77ep8Oim"
      },
      "source": [
        "# **Assignment07 : Voice of Customer Analytics**\n",
        "The objective is to perform Voice of Customer Analytics for the review data from Wongnai dataset (Food and beverage user reviews)\n",
        "\n",
        "Note that the summarization section will be in Thai."
      ]
    },
    {
      "cell_type": "markdown",
      "metadata": {
        "id": "GVdIVxlu8vmj"
      },
      "source": [
        "# **Set up**"
      ]
    },
    {
      "cell_type": "code",
      "metadata": {
        "id": "bF2rn-l5Rp4U"
      },
      "source": [
        "!pip install pythainlp\n",
        "!pip install tensorflow_text\n",
        "!pip install umap-learn"
      ],
      "execution_count": null,
      "outputs": []
    },
    {
      "cell_type": "code",
      "metadata": {
        "colab": {
          "base_uri": "https://localhost:8080/"
        },
        "id": "uZlNTUJe8-An",
        "outputId": "381c9f82-9e05-4bc3-f738-8923328b8506"
      },
      "source": [
        "from google.colab import drive\n",
        "drive.mount('/content/drive')"
      ],
      "execution_count": 2,
      "outputs": [
        {
          "output_type": "stream",
          "name": "stdout",
          "text": [
            "Mounted at /content/drive\n"
          ]
        }
      ]
    },
    {
      "cell_type": "markdown",
      "metadata": {
        "id": "5iTZs_I38z3x"
      },
      "source": [
        "#**Install and import dependencies**"
      ]
    },
    {
      "cell_type": "code",
      "metadata": {
        "id": "7GvuznzISB-h"
      },
      "source": [
        "import numpy as np\n",
        "import pandas as pd\n",
        "pd.set_option('display.max_colwidth', 50)\n",
        "import re\n",
        "\n",
        "import tensorflow as tf\n",
        "import tensorflow_hub as hub\n",
        "import tensorflow_text\n",
        "import umap\n",
        "\n",
        "from sklearn.cluster import KMeans\n",
        "import matplotlib.pyplot as plt\n",
        "\n",
        "from sklearn.cluster import AgglomerativeClustering\n",
        "from sklearn.neighbors import kneighbors_graph\n",
        "\n",
        "import pythainlp\n",
        "from pythainlp.corpus.common import thai_words\n",
        "from pythainlp.util import Trie\n",
        "import collections\n"
      ],
      "execution_count": 3,
      "outputs": []
    },
    {
      "cell_type": "code",
      "metadata": {
        "id": "fUq1dSYcS5yM"
      },
      "source": [
        "module_url = 'https://tfhub.dev/google/universal-sentence-encoder-multilingual/3' \n",
        "#'https://tfhub.dev/google/universal-sentence-encoder-multilingual/3' for a large model\n",
        "\n",
        "model = hub.load(module_url)"
      ],
      "execution_count": 4,
      "outputs": []
    },
    {
      "cell_type": "code",
      "metadata": {
        "id": "dZiaG3R4b6kN"
      },
      "source": [
        "df = pd.read_csv('/content/drive/My Drive/BADS7105 CRM/Wongnai Reviews - Small.csv')"
      ],
      "execution_count": 5,
      "outputs": []
    },
    {
      "cell_type": "code",
      "metadata": {
        "colab": {
          "base_uri": "https://localhost:8080/",
          "height": 206
        },
        "id": "gonSv6i4cVs1",
        "outputId": "69358350-4bb8-48eb-9cf1-7c34f88f2b99"
      },
      "source": [
        "df.head()"
      ],
      "execution_count": 6,
      "outputs": [
        {
          "output_type": "execute_result",
          "data": {
            "text/html": [
              "<div>\n",
              "<style scoped>\n",
              "    .dataframe tbody tr th:only-of-type {\n",
              "        vertical-align: middle;\n",
              "    }\n",
              "\n",
              "    .dataframe tbody tr th {\n",
              "        vertical-align: top;\n",
              "    }\n",
              "\n",
              "    .dataframe thead th {\n",
              "        text-align: right;\n",
              "    }\n",
              "</style>\n",
              "<table border=\"1\" class=\"dataframe\">\n",
              "  <thead>\n",
              "    <tr style=\"text-align: right;\">\n",
              "      <th></th>\n",
              "      <th>Review ID</th>\n",
              "      <th>Review</th>\n",
              "    </tr>\n",
              "  </thead>\n",
              "  <tbody>\n",
              "    <tr>\n",
              "      <th>0</th>\n",
              "      <td>1</td>\n",
              "      <td>เป็นคนที่ชอบทาน Macchiato เป็นประจำ มีวันนึงเด...</td>\n",
              "    </tr>\n",
              "    <tr>\n",
              "      <th>1</th>\n",
              "      <td>2</td>\n",
              "      <td>Art of Coffee Kasetsart เป็นร้านกาแฟรสชาติเยี่...</td>\n",
              "    </tr>\n",
              "    <tr>\n",
              "      <th>2</th>\n",
              "      <td>3</td>\n",
              "      <td>กวงทะเลเผา อาหารทะเลเค้าสดจริงๆเนื้อปูหวานไม่ค...</td>\n",
              "    </tr>\n",
              "    <tr>\n",
              "      <th>3</th>\n",
              "      <td>4</td>\n",
              "      <td>วันนี้มีโอกาสตื่นเช้าครับเลยถึงโอกาสออกมาหาอะไ...</td>\n",
              "    </tr>\n",
              "    <tr>\n",
              "      <th>4</th>\n",
              "      <td>5</td>\n",
              "      <td>ชอบมาทานร้านนี้ถ้าอยากกินอาหารเวียดนามใกล้บ้าน...</td>\n",
              "    </tr>\n",
              "  </tbody>\n",
              "</table>\n",
              "</div>"
            ],
            "text/plain": [
              "   Review ID                                             Review\n",
              "0          1  เป็นคนที่ชอบทาน Macchiato เป็นประจำ มีวันนึงเด...\n",
              "1          2  Art of Coffee Kasetsart เป็นร้านกาแฟรสชาติเยี่...\n",
              "2          3  กวงทะเลเผา อาหารทะเลเค้าสดจริงๆเนื้อปูหวานไม่ค...\n",
              "3          4  วันนี้มีโอกาสตื่นเช้าครับเลยถึงโอกาสออกมาหาอะไ...\n",
              "4          5  ชอบมาทานร้านนี้ถ้าอยากกินอาหารเวียดนามใกล้บ้าน..."
            ]
          },
          "metadata": {},
          "execution_count": 6
        }
      ]
    },
    {
      "cell_type": "markdown",
      "metadata": {
        "id": "Oowl7VYeP3gK"
      },
      "source": [
        "#**Document embedding and dimension reduction**"
      ]
    },
    {
      "cell_type": "code",
      "metadata": {
        "colab": {
          "base_uri": "https://localhost:8080/"
        },
        "id": "e29WZmM4cCOS",
        "outputId": "11be2cd2-54b4-43a4-9f1b-90e5bba51bc4"
      },
      "source": [
        "#embed sentences using Universal Sentence Encoder (USE)\n",
        "\n",
        "embed_comments_array = model(df['Review'].values).numpy()\n",
        "embed_comments_array"
      ],
      "execution_count": 7,
      "outputs": [
        {
          "output_type": "execute_result",
          "data": {
            "text/plain": [
              "array([[ 0.08993827,  0.01941084,  0.03787038, ..., -0.03488849,\n",
              "         0.06299512,  0.04635989],\n",
              "       [ 0.00634244,  0.00814594,  0.03071941, ..., -0.01478723,\n",
              "        -0.03080936, -0.03316405],\n",
              "       [ 0.0633687 , -0.02027139, -0.05077003, ..., -0.06530775,\n",
              "        -0.00952999, -0.03439987],\n",
              "       ...,\n",
              "       [ 0.08775924,  0.03609736,  0.01263062, ..., -0.03102781,\n",
              "        -0.03361677,  0.01928871],\n",
              "       [ 0.05691195,  0.05381691, -0.0399575 , ..., -0.06598807,\n",
              "        -0.05390478, -0.01037725],\n",
              "       [ 0.0777048 ,  0.05080631,  0.02680681, ..., -0.0061413 ,\n",
              "        -0.01313567,  0.02236264]], dtype=float32)"
            ]
          },
          "metadata": {},
          "execution_count": 7
        }
      ]
    },
    {
      "cell_type": "markdown",
      "metadata": {
        "id": "s5qq2RQlQJbV"
      },
      "source": [
        "#**Document clustering using KMeans**"
      ]
    },
    {
      "cell_type": "code",
      "metadata": {
        "colab": {
          "base_uri": "https://localhost:8080/",
          "height": 313
        },
        "id": "2IkMb1UIF3k5",
        "outputId": "9adf2542-8f63-4aab-e696-c7820f95ecf0"
      },
      "source": [
        "#run kmeans with various number of k. evaluate no. of k based on the elbow plot\n",
        "\n",
        "wcss=[]\n",
        "max_k = 10\n",
        "for i in range(1, max_k):\n",
        "  kmeans = KMeans(i)\n",
        "  kmeans.fit(embed_comments_array)\n",
        "  wcss_iter = kmeans.inertia_\n",
        "  wcss.append(wcss_iter)\n",
        "\n",
        "number_clusters = range(1, max_k)\n",
        "plt.plot(number_clusters,wcss)\n",
        "plt.title('The Elbow title')\n",
        "plt.xlabel('Number of clusters')\n",
        "plt.ylabel('WCSS')"
      ],
      "execution_count": 8,
      "outputs": [
        {
          "output_type": "execute_result",
          "data": {
            "text/plain": [
              "Text(0, 0.5, 'WCSS')"
            ]
          },
          "metadata": {},
          "execution_count": 8
        },
        {
          "output_type": "display_data",
          "data": {
            "image/png": "[encoded data removed]",
            "text/plain": [
              "<Figure size 432x288 with 1 Axes>"
            ]
          },
          "metadata": {
            "needs_background": "light"
          }
        }
      ]
    },
    {
      "cell_type": "markdown",
      "metadata": {
        "id": "gjPS4_4v-CNM"
      },
      "source": [
        "Choose K = 4, divided in to 4 clusters"
      ]
    },
    {
      "cell_type": "code",
      "metadata": {
        "id": "1o0czkMVdSJ5"
      },
      "source": [
        "#run kmeans with no. of clusters you see fit the most\n",
        "\n",
        "k = 4\n",
        "\n",
        "kmeans = KMeans(n_clusters = k)\n",
        "kmeans.fit(embed_comments_array)\n",
        "\n",
        "df['KMeans ID'] = kmeans.labels_"
      ],
      "execution_count": 9,
      "outputs": []
    },
    {
      "cell_type": "code",
      "metadata": {
        "id": "bf3R2QBr3oOq"
      },
      "source": [
        "#merge all reviews of each cluster into one big sentence \n",
        "\n",
        "df_kmeans = pd.DataFrame(columns=[\"KMeans ID\", \"texts\"])\n",
        "\n",
        "\n",
        "for i in range(0, k):\n",
        "  row = []\n",
        "  row.append(i)\n",
        "  row.append(df['Review'][df['KMeans ID'] == i].to_string())\n",
        "  df_kmeans.loc[len(df_kmeans)] = row"
      ],
      "execution_count": 10,
      "outputs": []
    },
    {
      "cell_type": "code",
      "metadata": {
        "colab": {
          "base_uri": "https://localhost:8080/",
          "height": 175
        },
        "id": "UFo_nqQEL08U",
        "outputId": "84aa9292-40c2-4eb5-c54e-e058bce65fd5"
      },
      "source": [
        "df_kmeans"
      ],
      "execution_count": 11,
      "outputs": [
        {
          "output_type": "execute_result",
          "data": {
            "text/html": [
              "<div>\n",
              "<style scoped>\n",
              "    .dataframe tbody tr th:only-of-type {\n",
              "        vertical-align: middle;\n",
              "    }\n",
              "\n",
              "    .dataframe tbody tr th {\n",
              "        vertical-align: top;\n",
              "    }\n",
              "\n",
              "    .dataframe thead th {\n",
              "        text-align: right;\n",
              "    }\n",
              "</style>\n",
              "<table border=\"1\" class=\"dataframe\">\n",
              "  <thead>\n",
              "    <tr style=\"text-align: right;\">\n",
              "      <th></th>\n",
              "      <th>KMeans ID</th>\n",
              "      <th>texts</th>\n",
              "    </tr>\n",
              "  </thead>\n",
              "  <tbody>\n",
              "    <tr>\n",
              "      <th>0</th>\n",
              "      <td>0</td>\n",
              "      <td>2      กวงทะเลเผา อาหารทะเลเค้าสดจริงๆเนื้อปูห...</td>\n",
              "    </tr>\n",
              "    <tr>\n",
              "      <th>1</th>\n",
              "      <td>1</td>\n",
              "      <td>13     เคยเป็นไหมกันไหมคะ หลังอาหารมื้อใหญ่ ต่...</td>\n",
              "    </tr>\n",
              "    <tr>\n",
              "      <th>2</th>\n",
              "      <td>2</td>\n",
              "      <td>0      เป็นคนที่ชอบทาน Macchiato เป็นประจำ มีว...</td>\n",
              "    </tr>\n",
              "    <tr>\n",
              "      <th>3</th>\n",
              "      <td>3</td>\n",
              "      <td>3      วันนี้มีโอกาสตื่นเช้าครับเลยถึงโอกาสออก...</td>\n",
              "    </tr>\n",
              "  </tbody>\n",
              "</table>\n",
              "</div>"
            ],
            "text/plain": [
              "  KMeans ID                                              texts\n",
              "0         0  2      กวงทะเลเผา อาหารทะเลเค้าสดจริงๆเนื้อปูห...\n",
              "1         1  13     เคยเป็นไหมกันไหมคะ หลังอาหารมื้อใหญ่ ต่...\n",
              "2         2  0      เป็นคนที่ชอบทาน Macchiato เป็นประจำ มีว...\n",
              "3         3  3      วันนี้มีโอกาสตื่นเช้าครับเลยถึงโอกาสออก..."
            ]
          },
          "metadata": {},
          "execution_count": 11
        }
      ]
    },
    {
      "cell_type": "markdown",
      "metadata": {
        "id": "CYmFB5vu-LwJ"
      },
      "source": [
        "Remove special characters"
      ]
    },
    {
      "cell_type": "code",
      "metadata": {
        "id": "JydvwIz5NcaI"
      },
      "source": [
        "#create regex compiler for removal of a character you don't want\n",
        "\n",
        "special_characters = \"/[!@#$%^&*']/g\"\n",
        "\n",
        "specialchar_pattern = re.compile(special_characters)"
      ],
      "execution_count": 12,
      "outputs": []
    },
    {
      "cell_type": "markdown",
      "metadata": {
        "id": "AK3Fg9nb-QJL"
      },
      "source": [
        "Remove emojicon"
      ]
    },
    {
      "cell_type": "code",
      "metadata": {
        "id": "R8ymEA_2EhGi"
      },
      "source": [
        "#create regex compiler for removal of any emoji\n",
        "\n",
        "emoji_pattern = re.compile(\"[\"\n",
        "        u\"\\U0001F600-\\U0001F64F\"  # emoticons\n",
        "        u\"\\U0001F300-\\U0001F5FF\"  # symbols & pictographs\n",
        "        u\"\\U0001F680-\\U0001F6FF\"  # transport & map symbols\n",
        "        u\"\\U0001F1E0-\\U0001F1FF\"  # flags (iOS)\n",
        "                           \"]+\", flags=re.UNICODE)"
      ],
      "execution_count": 13,
      "outputs": []
    },
    {
      "cell_type": "markdown",
      "metadata": {
        "id": "12dVBNZZ-UbV"
      },
      "source": [
        "Remove any numbers"
      ]
    },
    {
      "cell_type": "code",
      "metadata": {
        "id": "9Q93YKJZK5ak"
      },
      "source": [
        "#create regex compiler for removal of digit\n",
        "\n",
        "number_pattern = re.compile(\"[0-9]\")"
      ],
      "execution_count": 14,
      "outputs": []
    },
    {
      "cell_type": "markdown",
      "metadata": {
        "id": "RcA0PUL2-X2o"
      },
      "source": [
        "Remove white space"
      ]
    },
    {
      "cell_type": "code",
      "metadata": {
        "id": "sHZ0HKlXNeSi"
      },
      "source": [
        "#create regex compiler for removal of white space\n",
        "\n",
        "space_pattern = re.compile(\"\\s+\")"
      ],
      "execution_count": 15,
      "outputs": []
    },
    {
      "cell_type": "markdown",
      "metadata": {
        "id": "kmfC5l_y-bzh"
      },
      "source": [
        "Remove dot"
      ]
    },
    {
      "cell_type": "code",
      "metadata": {
        "id": "-orHzqLkNupd"
      },
      "source": [
        "#create regex compiler for removal of .\n",
        "\n",
        "dot_pattern = re.compile(r\"\\.+\")"
      ],
      "execution_count": 16,
      "outputs": []
    },
    {
      "cell_type": "markdown",
      "metadata": {
        "id": "GJsxmrl8-e2b"
      },
      "source": [
        "Remove back slash"
      ]
    },
    {
      "cell_type": "code",
      "metadata": {
        "id": "v7bW9th9N7oG"
      },
      "source": [
        "#create regex compiler for removal of \\\n",
        "\n",
        "backslash_pattern = re.compile(r\"\\\\+\")"
      ],
      "execution_count": 17,
      "outputs": []
    },
    {
      "cell_type": "markdown",
      "metadata": {
        "id": "tWBg2xxR-lvm"
      },
      "source": [
        "#**Word Tokenization**"
      ]
    },
    {
      "cell_type": "code",
      "metadata": {
        "id": "ZGVvQhZz4tGs"
      },
      "source": [
        "#define a function to tokenize a sentence into words - you can define words you want to remove as well as new words for tokenization\n",
        "\n",
        "stopwords = list(pythainlp.corpus.thai_stopwords())\n",
        "removed_words = ['u', 'b', 'n', 'nn', 'nn-', '\\n', 'ร้าน', 'กิน', 'ทาน', 'ผม','กก','สวัสดี', 'เก','ก','า','ร้า','เรา','ฉัน']\n",
        "screening_words = stopwords + removed_words\n",
        "\n",
        "new_words = {\"สตารบัก\", \"ปลาร้า\",\"ไม่อร่อย\",\"เรา\",\"หนอ\",\"เสนอ\"}\n",
        "\n",
        "words = new_words.union(thai_words())\n",
        "\n",
        "custom_dictionary_trie = Trie(words)\n",
        "\n",
        "def tokenize_to_list(sentence):\n",
        "  merged = []\n",
        "  words = pythainlp.word_tokenize(str(sentence), engine='longest', custom_dict=custom_dictionary_trie)\n",
        "  for word in words:\n",
        "    if word not in screening_words:\n",
        "      merged.append(word)\n",
        "  return merged"
      ],
      "execution_count": 18,
      "outputs": []
    },
    {
      "cell_type": "code",
      "metadata": {
        "id": "MnN1ekEoL9ug"
      },
      "source": [
        "#clean and tokenize sentences. count the occurences of each word\n",
        "\n",
        "df_kmeans['texts'] = df_kmeans['texts'].apply(lambda x: emoji_pattern.sub(r'', x))\n",
        "df_kmeans['texts'] = df_kmeans['texts'].apply(lambda x: specialchar_pattern.sub(r'', x))\n",
        "df_kmeans['texts'] = df_kmeans['texts'].apply(lambda x: number_pattern.sub(r'', x))\n",
        "df_kmeans['texts'] = df_kmeans['texts'].apply(lambda x: space_pattern.sub(r'', x))\n",
        "df_kmeans['texts'] = df_kmeans['texts'].apply(lambda x: dot_pattern.sub(r'', x))\n",
        "df_kmeans['texts'] = df_kmeans['texts'].apply(lambda x: backslash_pattern.sub(r'', x))\n",
        "df_kmeans['texts_tokenized'] = df_kmeans['texts'].apply(lambda x: tokenize_to_list(x))\n",
        "df_kmeans['texts_count'] = df_kmeans['texts_tokenized'].apply(lambda x: collections.Counter(x).most_common())"
      ],
      "execution_count": 19,
      "outputs": []
    },
    {
      "cell_type": "code",
      "metadata": {
        "colab": {
          "base_uri": "https://localhost:8080/",
          "height": 175
        },
        "id": "G0jG1yO889B2",
        "outputId": "6b62febe-1be7-4ee7-e4fd-b3a3a1218276"
      },
      "source": [
        "#results of tokenization\n",
        "pd.set_option('display.max_colwidth', 50)\n",
        "\n",
        "df_kmeans"
      ],
      "execution_count": 20,
      "outputs": [
        {
          "output_type": "execute_result",
          "data": {
            "text/html": [
              "<div>\n",
              "<style scoped>\n",
              "    .dataframe tbody tr th:only-of-type {\n",
              "        vertical-align: middle;\n",
              "    }\n",
              "\n",
              "    .dataframe tbody tr th {\n",
              "        vertical-align: top;\n",
              "    }\n",
              "\n",
              "    .dataframe thead th {\n",
              "        text-align: right;\n",
              "    }\n",
              "</style>\n",
              "<table border=\"1\" class=\"dataframe\">\n",
              "  <thead>\n",
              "    <tr style=\"text-align: right;\">\n",
              "      <th></th>\n",
              "      <th>KMeans ID</th>\n",
              "      <th>texts</th>\n",
              "      <th>texts_tokenized</th>\n",
              "      <th>texts_count</th>\n",
              "    </tr>\n",
              "  </thead>\n",
              "  <tbody>\n",
              "    <tr>\n",
              "      <th>0</th>\n",
              "      <td>0</td>\n",
              "      <td>กวงทะเลเผาอาหารทะเลเค้าสดจริงๆเนื้อปูหวานไม่คส...</td>\n",
              "      <td>[วง, ทะเล, เผา, อาหารทะเล, เค้า, สด, เนื้อ, ปู...</td>\n",
              "      <td>[(ร้านอาหาร, 8), (อาหาร, 7), (ราคา, 4), (ซอย, ...</td>\n",
              "    </tr>\n",
              "    <tr>\n",
              "      <th>1</th>\n",
              "      <td>1</td>\n",
              "      <td>เคยเป็นไหมกันไหมคะหลังอาหารมื้อใหญ่ต่อให้อิ่เป...</td>\n",
              "      <td>[ไหม, ไหม, หลังอาหาร, มื้อ, อิ่, เครื่องดื่ม, ...</td>\n",
              "      <td>[(ชา, 18), (ไข่มุก, 14), (นม, 12), (เครื่องดื่...</td>\n",
              "    </tr>\n",
              "    <tr>\n",
              "      <th>2</th>\n",
              "      <td>2</td>\n",
              "      <td>เป็นคนที่ชอบทานMacchiatoเป็นประจำมีวันนึงเดArt...</td>\n",
              "      <td>[คน, ชอบ, macchiato, เป็นประจำ, นึง, เด, artof...</td>\n",
              "      <td>[(ร้านกาแฟ, 22), (กาแฟ, 18), (ชอบ, 6), (คน, 5)...</td>\n",
              "    </tr>\n",
              "    <tr>\n",
              "      <th>3</th>\n",
              "      <td>3</td>\n",
              "      <td>วันนี้มีโอกาสตื่นเช้าครับเลยถึงโอกาสออกมาหาอะไ...</td>\n",
              "      <td>[มีโอกาส, ตื่น, เช้า, โอกาส, ออกมา, หา, อะ, ไช...</td>\n",
              "      <td>[(อร่อย, 8), (รีวิว, 7), (ครั้งแรก, 5), (ชอบ, ...</td>\n",
              "    </tr>\n",
              "  </tbody>\n",
              "</table>\n",
              "</div>"
            ],
            "text/plain": [
              "  KMeans ID  ...                                        texts_count\n",
              "0         0  ...  [(ร้านอาหาร, 8), (อาหาร, 7), (ราคา, 4), (ซอย, ...\n",
              "1         1  ...  [(ชา, 18), (ไข่มุก, 14), (นม, 12), (เครื่องดื่...\n",
              "2         2  ...  [(ร้านกาแฟ, 22), (กาแฟ, 18), (ชอบ, 6), (คน, 5)...\n",
              "3         3  ...  [(อร่อย, 8), (รีวิว, 7), (ครั้งแรก, 5), (ชอบ, ...\n",
              "\n",
              "[4 rows x 4 columns]"
            ]
          },
          "metadata": {},
          "execution_count": 20
        }
      ]
    },
    {
      "cell_type": "markdown",
      "metadata": {
        "id": "AUcV15Op-3wp"
      },
      "source": [
        "#**Understanding each clusters**"
      ]
    },
    {
      "cell_type": "markdown",
      "metadata": {
        "id": "A0lFf0lz-8fs"
      },
      "source": [
        "Show top keywords of each cluster"
      ]
    },
    {
      "cell_type": "code",
      "metadata": {
        "colab": {
          "base_uri": "https://localhost:8080/"
        },
        "id": "n0LZ5H8_Dqvn",
        "outputId": "efe2e8d0-b11e-49b2-81fd-a2d4010a6686"
      },
      "source": [
        "top_N_words = 20\n",
        "\n",
        "for i in range(0, len(df_kmeans)):\n",
        "  print(f\"Cluster ID : {i}\\n\")\n",
        "  print(f\"Most common words include : {list(df_kmeans['texts_count'][i])[:top_N_words]}\\n\")\n",
        "\n",
        "#tune a model by remove unwanted characters and words and add more words to a custom dictionary"
      ],
      "execution_count": 21,
      "outputs": [
        {
          "output_type": "stream",
          "name": "stdout",
          "text": [
            "Cluster ID : 0\n",
            "\n",
            "Most common words include : [('ร้านอาหาร', 8), ('อาหาร', 7), ('ราคา', 4), ('ซอย', 4), ('รสชาติ', 4), ('รีวิว', 3), ('ไทย', 3), ('คน', 3), ('รอบ', 3), ('เมนู', 3), ('อร่อย', 3), ('กาแฟ', 3), ('วง', 2), ('เพื่อนๆ', 2), ('อร้าน', 2), ('สไตล์', 2), ('บ้าน', 2), ('นอ', 2), ('ร่อย', 2), ('ยำ', 2)]\n",
            "\n",
            "Cluster ID : 1\n",
            "\n",
            "Most common words include : [('ชา', 18), ('ไข่มุก', 14), ('นม', 12), ('เครื่องดื่ม', 4), ('รีวิว', 3), ('ลอง', 3), ('ติด', 3), ('ไต้หวัน', 3), ('ไหม', 2), ('ชาเขียว', 2), ('นิว', 2), ('คุง', 2), ('เจอ', 2), ('ochaya', 2), ('มากๆ', 2), ('aprilstore', 2), ('ตั้งอยู่', 2), ('สยาม', 2), ('คน', 2), ('สไตล์', 2)]\n",
            "\n",
            "Cluster ID : 2\n",
            "\n",
            "Most common words include : [('ร้านกาแฟ', 22), ('กาแฟ', 18), ('ชอบ', 6), ('คน', 5), ('เม', 5), ('บรรยากาศ', 5), ('นึง', 4), ('กา', 4), ('นก', 4), ('วัง', 4), ('น', 4), ('คาเฟ่', 4), ('นั่ง', 4), ('เจอ', 4), ('ซอน', 4), ('ดี', 4), ('หา', 4), ('ตกแต่ง', 4), ('ตั้งอยู่', 4), (':', 3)]\n",
            "\n",
            "Cluster ID : 3\n",
            "\n",
            "Most common words include : [('อร่อย', 8), ('รีวิว', 7), ('ครั้งแรก', 5), ('ชอบ', 5), ('ร้านอาหาร', 5), ('หา', 4), ('บ้าน', 4), ('ถนน', 4), ('ส้มตำ', 4), ('แวะ', 4), ('ลอง', 4), ('ซื้อ', 4), ('มีโอกาส', 3), ('โอกาส', 3), ('คิว', 3), ('นะคะ', 3), ('เลือก', 3), ('พาย', 3), ('ขาย', 3), ('คน', 3)]\n",
            "\n"
          ]
        }
      ]
    },
    {
      "cell_type": "markdown",
      "metadata": {
        "id": "KcnYjwPo_B_4"
      },
      "source": [
        "Show the original review for the interesring key words."
      ]
    },
    {
      "cell_type": "code",
      "metadata": {
        "colab": {
          "base_uri": "https://localhost:8080/",
          "height": 493
        },
        "id": "76bPozqQEDZt",
        "outputId": "1931420e-5320-4409-fe0e-c214ccecbed5"
      },
      "source": [
        "pd.set_option('display.max_colwidth', None)\n",
        "df[df[\"Review\"].str.contains(\"ไร้\")]"
      ],
      "execution_count": 22,
      "outputs": [
        {
          "output_type": "execute_result",
          "data": {
            "text/html": [
              "<div>\n",
              "<style scoped>\n",
              "    .dataframe tbody tr th:only-of-type {\n",
              "        vertical-align: middle;\n",
              "    }\n",
              "\n",
              "    .dataframe tbody tr th {\n",
              "        vertical-align: top;\n",
              "    }\n",
              "\n",
              "    .dataframe thead th {\n",
              "        text-align: right;\n",
              "    }\n",
              "</style>\n",
              "<table border=\"1\" class=\"dataframe\">\n",
              "  <thead>\n",
              "    <tr style=\"text-align: right;\">\n",
              "      <th></th>\n",
              "      <th>Review ID</th>\n",
              "      <th>Review</th>\n",
              "      <th>KMeans ID</th>\n",
              "    </tr>\n",
              "  </thead>\n",
              "  <tbody>\n",
              "    <tr>\n",
              "      <th>71</th>\n",
              "      <td>72</td>\n",
              "      <td>จริงๆจะไปกินร้านอื่นครับที่อยู่ในซอยเดียวกัน แต่ดันแวะร้านนี้ก่อนถึงที่หมาย 555+ บรรยากาศภายนอกตอนค่ำผมนึึกว่าร้านคาราโอเกะนั่งดิ๊งค์ซะอีก ก้อเล่นติดไฟเป็นสีๆกระพริบๆ แต่พอเอาเข้าจริงต้องบอกว่าเก๋ไก๋ สไตส์ลูกทุ่งคันทรี กินกันตรงชั้น2ระเบียงร้าน ผมได้ลอง3เมนู จานแรก ส้มตำปูม้า รสชาติแซ่บดี ใช้ปูุม้าขนาดใหญ่น้องๆsizeปูนึ่งทีเดียว ปูสด เนื้อเยอะสะใสเนื้อปูหวานฉ่ำไม่คาว สุดยอดมั๊กๆ จานทีี่2 กุ้งแช่น้ำปลา จานนี้ส่วนตัวคิดว่ารสชาติธรรมดา กุ้งตัวเล็กๆไปหน่อย แต่เขาทำสะอาดดี ผ่าเอาเส้นดำหลังกุ้งออกเกลี้ยงเลย ซึ่งผิดกับร้านอื่นๆทีี่เคยกินทีี่มักจะผ่าให้แต่ไม่เอาเส้นหลังออกให้ครับ จานที่3 ปลาช่อนระเบียงไม้ วิธีทำเหมือนกะนึ่งมะนาว แต่เป็นต้มยำน้ำข้น ข้นคักจริงๆใส่นมสดหอมมันมากมาย ปลาช่อนสดตัวใหญ่sizeกำลังดี เนื้อใสไม่ยุยไร้คาว อร่อยมากกก ซึ่งเขาว่าเป็นเมนูเอกของร้าน สมราคาคุยครับ อร่อยจริงๆคอนเฟิร์ม  ที่จอดรถสะดวก บริการดี เจ้าของเป็นกันเอง ราคาผมว่า ไม่แพงนะ ร้านอยู่ลึกไปหน่อยแต่ชิมรสชาติแล้วต้องบอกว่า ไม่ผิดหวังครับ</td>\n",
              "      <td>0</td>\n",
              "    </tr>\n",
              "    <tr>\n",
              "      <th>204</th>\n",
              "      <td>205</td>\n",
              "      <td>สวัสดีเพื่อนๆพี่ๆชาวนักชิมแห่ง wongnai.com ทุกท่านครับ \\nผม Captain Ton ขออาสาส่งความสุขให้ทุกท่านกันอีกครั้งครับ \\nสามารถติดตามรีวิวต่างๆของผมได้ที่ http://www.facebook.com/CaptainTonEatTravel และ IG ค้นหา Captain_Ton ได้เลยครับ มาติดตามความอร่อยกับผมกันเยอะๆนะครับ \\n\\nคำว่า\"บุฟเฟต์\" ราวกับความสุขของเหล่าคนชอบกินและชอบความคุ้ม วันนี้ผมจะพาทุกคนมาหาความสุขกันที่ร้าน MK Buffet สาขาฟิวเจอร์ปาร์รังสิตกันครับเพราะว่าที่นี่เป็นสาขาเดียวที่มีสุกี้บุฟเฟ่ต์ ให้ทานได้ไม่อั้นตลอดทั้งวัน และทุกวันทำการ ต่างจากสาขาอื่นที่ยกเว้นเสาร์-อาทิตย์บ้าง แต่มาที่นี่ได้ทานชัวร์ครับ \\n\\nส่วนราคานั้นก็มี 2 ราคาตามช่วงเวลาได้แก่ 10.00-17.00ราคา319บาท net และหลัง 17.00เป็นต้นไป 349บาท net \\nจะไปทานเวลาไหนต้องจ่ายเท่าไหร่ก็ต้องวางแผนให้ดีนะครับ ส่วนเรื่องอาหารนั้นก็มีมากมายหลากหลายมาก ดูจากรูปแล้วกันนะครับ \\n\\nเข้ามาถึงในร้านก็เลือกที่นั่งได้ตามสะดวกเลย แต่ว่ามาเที่ยงๆแบบนี้คนเยอะมากหาที่นั่งแทบไม่ได้เลย เข้ามานั่งเกือบในสุดเลย \\n\\nสักพักพนักงานก็จะมาสอบถามว่ารับเป็นบุฟเฟต์ หรือ A la carte มาถึงถิ่นขนาดนี้แล้วก็ต้องจัดเต็ม!!! \\nก่อนทานก็ต้องอ่านกฎระเบียบการทานด้วยนะครับ มิเช่นนั้นท่านอาจจะถูกปรับเอาได้ เดี๋ยวหาว่าไม่เตือนนะ \\nสั่งเมนูที่ท่านคิดว่าอยากทาน อร่อย และคุ้ม จัดเต็มด้วย สมุดตามในฉัน(เมนู)ได้เลย \\n\\nไม่นานนักหม้อน้ำซุปสีแดงอันเป็นเอกลักษณ์ก็ถูกยกออกมาพร้อมน้ำซุปในหม้อ ปิดฝาเอาไว้ก่อน รอเดือดก่อนนะ \\nน้ำจิ้มของMK ก็หนีไม่พ้นเจ้า2สูตร ทั้งน้ำจิ้มสุกี้สูตรดั้งเดิมและสูตรเด็กน้อย รสชาติที่คุ้นเคย \\nแต่รู้สึกว่าสูตรดั้งเดิมมันจะเปรี้ยวๆไปหน่อยนะหรือเค้าปรับสูตรใหม่เพื่อลดมะนาวหว่า ??? ช่างมันเถอะ \\nส่วนใครที่เคยบ่นว่าMKหวงพริก หวงกระเทียม แต่สาขาที่นี่ไม่ใช่นะครับ ให้มาเป็นถาดวางไว้บนโต๊ะเติมได้ตามใจเลย สะใจดีจัง \\n\\nน้ำดื่มของที่นี่ก็มีหลายอย่างนะครับ ทั้งชาจีนต้นตำรับ ชานมสูตรเข้มขันสุดๆ กาแฟ ชาเขียว และน้ำอัดลมมีให้เลือกค่อนข้างหลากหลายดีครับ แต่ที่ผมติดใจที่สุดก็ต้องเจ้านี่เลย ชานมสูตรเข้มข้นมาก ถ้าใส่ไข่มุกอีกหน่อยนี้ร้านดังๆเจ๊งแน่นอน พูดเล่นนะครับแต่มันอร่อยจริงๆนะ \\n\\nไม่นานนักอาหารที่สั่งไปค่อยๆทยอยมาแล้วครับ มาในทาวเวอร์สีแดงตามแบบฉบับดั้งเดิม และติ่มซำเนื้อแน่นรสชาติเยี่ยมที่ผมเดินทางมาถึงที่นี่ก็เพื่อเจ้าสิ่งนี้นี่แหละครับ จิ้มกับจิ๊กโฉ่วสูตรเฉพาะของทางร้าน อร่อยสมกับที่เดินทางมาจริงๆ \\n\\nขนมจีบหมูอร่อยแป้งบางเนื้อแน่นสุดๆ ขนมจีบกุ้งเนื้อแน่นเคี้ยวกี่คำก็เจอกุ้ง ฮะเก่าเนื้อแน่นแต่แป้งแต่แป้งเละไปหน่อยไม่ค่อยปลื้ม \\n\\nส่วนหมี่หยกของร้าน MK เหมือนจะเป็นเกรด B หรืออย่างไร เส้นใหญ่ เหนียว กระด้าง ติดกันเป็นพรืด ไม่เหมือนที่เคยทานเมื่อก่อน ผิดหวังเล็กน้อย \\n\\nกางออกของสดมาดูกันจะๆ ว่ามีอะไรบ้าง ดูสด น่าอร่อยไม่มีปัญหาเรื่องกลิ่นและสีสันครับ นำจับต้มให้สุกตามระเบียบ คงไม่มีใครทานดิบๆเย็นๆสินะ อิอิ \\n\\nจับเนื้อมาลวกๆลองชิมดูครับ นุ่มเด้งมากแต่ไม่ค่อยชอบเท่าไหร่ส่วนตัวคิดว่าเหมือนเนื้อปลอมเลย มันเด้งๆไร้กลิ่นเนื้อชืดมากเลยครับ แต่พอทานกับน้ำจิ้มของที่นี่ก็พอถูไถไปได้ \\n\\nทานไปทานมาชักเริ่มเบื่อ เริ่มเลี่ยน สั่งซาลาเปาหมูแดงมา1เข่ง ไส้อร่อยมากครับ แต่แป้งค่อนข้างจืด และกระด้าง สรุปคือไม่ผ่านครับ \\n\\nอิ่มแล้วก็ตบท้ายด้วยของหวานอย่างไอศกรีมเชอร์เบตมะนาว และทับทิมกรอบครับ ไอศกรีมเชอร์เบตของที่นี่เข้มข้นหอมกลิ่นมะนาวดีครับ \\n\\nและทับทิมกรอบที่น้ำเเข็งมาล้นหน้า รสชาติใสๆ หอมกลิ่นควันเทียนเล็กน้อย ผสมเนื้อมะพร้าวอ่อนด้วย รสชาติใช้ได้ครับ \\n\\nโดยรวมแล้วความเห็นส่วนตัว ผมคิดว่าค่อนข้างคุ้มกับราคา คุณภาพ และความหลากหลายที่ได้รับ ผมให้คะแนน4/5 สำหรับร้านนี้ครับ \\n\\nครั้งหน้าผม Captain Ton จะอาสาพากิน พาเที่ยวครั้งต่อไปอย่าลืมติดตามผมได้ที่นี่ และ FB นะครับ ^ ^</td>\n",
              "      <td>3</td>\n",
              "    </tr>\n",
              "  </tbody>\n",
              "</table>\n",
              "</div>"
            ],
            "text/plain": [
              "     Review ID  ... KMeans ID\n",
              "71          72  ...         0\n",
              "204        205  ...         3\n",
              "\n",
              "[2 rows x 3 columns]"
            ]
          },
          "metadata": {},
          "execution_count": 22
        }
      ]
    },
    {
      "cell_type": "code",
      "metadata": {
        "colab": {
          "base_uri": "https://localhost:8080/",
          "height": 1000
        },
        "id": "ZtoVE5L0IjyZ",
        "outputId": "98e4c879-46e8-428a-f647-d8497b4e01a5"
      },
      "source": [
        "df[df[\"Review\"].str.contains(\"ไม่อร่อย\")]"
      ],
      "execution_count": 23,
      "outputs": [
        {
          "output_type": "execute_result",
          "data": {
            "text/html": [
              "<div>\n",
              "<style scoped>\n",
              "    .dataframe tbody tr th:only-of-type {\n",
              "        vertical-align: middle;\n",
              "    }\n",
              "\n",
              "    .dataframe tbody tr th {\n",
              "        vertical-align: top;\n",
              "    }\n",
              "\n",
              "    .dataframe thead th {\n",
              "        text-align: right;\n",
              "    }\n",
              "</style>\n",
              "<table border=\"1\" class=\"dataframe\">\n",
              "  <thead>\n",
              "    <tr style=\"text-align: right;\">\n",
              "      <th></th>\n",
              "      <th>Review ID</th>\n",
              "      <th>Review</th>\n",
              "      <th>KMeans ID</th>\n",
              "    </tr>\n",
              "  </thead>\n",
              "  <tbody>\n",
              "    <tr>\n",
              "      <th>2</th>\n",
              "      <td>3</td>\n",
              "      <td>กวงทะเลเผา อาหารทะเลเค้าสดจริงๆเนื้อปูหวานไม่คาวเลยเนื้อกุ้งก็ทั้งหอมและมัน น้ำจ้ิมก็อร่อยเจ้มจ้นมีอาหารอร่อยหลากหลายรายการ ออส่วนมาในกระทะร้อนฉ่า เสริ์ฟทีมีแต่คนหันมามองเพราะเสียงดังมากกกกก เรียกความสนใจได้ดี แต่อร่อยนะแนะนำเลย ปลาหมึกไข่เค็มเมนูนี้แคเลทเตอรอลอาจจะสูงไปสักหน่อยแต่ห้ามพลาดเด็ดขาดเลยค่ะเพราะอร่อยมากยากบรรยาย ยิ่งทานตอนร้อนๆๆนะ \\nฮื้อ ขออีกจาน กุ้งอบวุ้นเส้นรสชาติดีก็อร่อยใช้ได้แต่มันมากๆ หมูสามชั้นก้นกระทะน้ำม้นงี้เยิ่มเลยถ้าทานช้าหายร้อนแล้วจะไม่อร่อยทันทีปูผัดพริกไทยดำ เนื้อปูสดรสชาติเข้มข้น หอมกลิ่นเครื่องเทศผัดจนเข้าไปผสมกับเนื้อปูกันเลยทีเดียว จานนี้ก็ห้ามพลาดเด็ดขาด ควรสั่งอย่างยิ่งโป๊ะแตก รสไม่จัดจ้านเท่าไรแต่ขอบอกแก้เลี่ยนได้ดีและคนไม่กินเผ็ดจะถูกใจมากเช่นนานา เพราะพอเข้าปากนะหือชุ่มคอ กินน้ำหมดหม้อเลยข้าวผัดปูไม่แนะนำตามหลักอาหารจีนถึงเราสั่งเป็นรายการแรกแต่ชอบเอามาส่งทีหลังแล้วจะทานกะอะไรล่ะกินกับจะเกลี้ยงหมดแล้วที่สำคัญไม่อร่อยค่ะถ้าจะสั่งก็จานเล็กๆพอ ปลากระพงทอดน้ำปลาเมนูนี้ก็ห้ามพลาดนะ ปลางี้กร๊อบกรอบ เนื้อปลาก็สดด้วยใส่น้ำจ้ิมเข้าไปแจ่มมากกกกหอยลายผัดพริกเผา ถึงเครื่องพริกเผาเข้าเนื้อกันสุดๆยำวุ้นเส้นรวมมิตรทะเลอยากรู้จังเค้าใช้วุ้นเส้นยี่ห้ออะไรมันเหนียวนุ่ม น้ำยำก็จี๊ดจ๊าด เมนูพื้นๆแต้ก็ห้ามพลาดเด็ดขาดเลยค่ะส้มตำปูม้า ก็งั้นๆแหละคอส้มตำจะรู้ว่ายังไม่แซ่บไม่ผ่านค่ะสลัดกุ้งกรอบ จานนี่ไม่ได้ชิม เพราะอิ่มแบบไม่ไหวแล้ว แต่เพื่อนนะตักกินไม่หยุดแล้วพูดว่าอร่อย ตักใส่ปากอีกก็บอกอีกอร่อยจัง อร่อยมาก เลยคิดว่าจานนี้คงจะอร่อยมากอ่ะนะตบท้ายด้วยข้าวเหนียวมะม่วงหอม มัน อร่อยแต่จานใหญ่มากกก ขอพูดถึงบรรยากาศร้านหน่อยนึงก่อนจะปิดจ๊อบ ร้านไม่ค่อยสะอาดเท่าไรค่ะที่ให้สามดาวเพราะบรรยากาศร้านนี่แหละแต่ก็ร้านอาหารจีนส่วนใหญ่เค้าก็ประมาณนี้กัน เสียงดัง กลิ่นไม่หอม การกินแข่งขันสูง555 เหมือนมาแข่งกินประมาณนั้น แต่ทุกเมนูก็ต้องให้สี่ดาวขึ้นนะ เพราะอาหารอร่อยจริ๊งจริงค่ะ</td>\n",
              "      <td>0</td>\n",
              "    </tr>\n",
              "    <tr>\n",
              "      <th>6</th>\n",
              "      <td>7</td>\n",
              "      <td>สวัสดีเพื่อนๆสมาชิกนักรีวิวร้านอาหารชาว Wongnai.com ทุกท่านครับ\\nไปกินไปเที่ยวถ่ายรูปเก็บความประทับใจมาฝากทุกคนสไตล์ Captain Ton กันอีกแล้วครับ\\n\\nวันนี้ได้รับคำแนะนำจากคุณด๊ะ (อย่าเรียกว่าเชิญนะเพราะมื้อนี้เสียเงินเอง) PR ของโรงแรม LE FENIX แนะนำมา\\nว่าตอนนี้กำลังมีเทศกาลบุฟเฟต์เบอร์เกอร์ พร้อมอาหารกลางวันแบบสุดคุ้ม ในราคาเพียง 229 บาท\\nพอดีว่าบ้านอยู่รามอินทรา ต้องถ่อไปไกลยันสุขุมวิท ก็ต้องคิดกันนิดนึง อืม.... ได้ครับ ตอบตกลงไป \\nพร้อมจองที่ไว้แล้ว ออกเดินทางกันได้เลย.... ได้ยินของถูกเป็นไม่ได้เชียว-*-\\n\\nมาถึงก็เดินลงมาจากสถานีรถไฟฟ้านานา เดินตรงมาอีกนิดนึง ถึงหน้าปากซอย เปิด Google Maps ดู\\nจะเดินเข้าไปก็กระไรอยู่นะ ไกลมาก... นั่งวินเข้าไปเลยก็แล้วกัน\\n\\nถึงแล้วโรงแรม LE FENIX ดูเล็กนิดเดียวเอง ส่วนตัวคิดว่ามันจะใหญ่กว่านี้ซะอีก\\nไปๆเดินเข้าไปกัน ก่อนจะเข้าไปถามพี่ยามก่อนว่าห้องอาหารอยู่ชั้นไหน พี่ยามบอกชั้น 3 เลยครับ\\nไม่รอช้าขึ้นลิฟต์ไปกันเลย\\n\\nออกมาจากลิฟต์ปุ๊ป ชนเข้ากับห้องอาหารแบบไม่ต้องเดินหาให้เมื่อยเลย ไม่รอช้า\\nถ่ายรูปบรรยากาศมาให้ชมกันก่อนครับ ดูบรรยากาศสบายๆ น่านั่งนานๆดีครับ \\n\\nมุมติดหน้าต่างก็ดูนั่งสบาย รับแสงกลางวันมองรถวิ่งไปมาเบาๆ น่านั่งไปอีกแบบ\\nก่อนจะเดินสำรวจก็ต้องบอกน้องๆเด็กเสิร์ฟกันก่อน เดี๋ยวแตกตื่นกันอีก คุณด๊ะ แนะนำมา\\nจองไว้ 2 ที่ครับ น้องวิ่งเข้าไปในครัวแล้วบอกว่าพี่เขามาแล้ว... วิ่งกลับออกมาบอกเราว่า\\nถ่ายรูปได้เลยค่ะ คุณด๊ะให้เตรียมไว้หมดแล้ว งั้นผมไม่เกรงใจนะครับ เริ่มถ่ายเรียงกันเลย\\nว่ามีอะไรให้เราทานกันบ้าง ผมจะไล่จากไลน์ด้านในออกไปนะครับ เริ่มจากมุมของทานเล่นกันก่อน\\n\\nข้าวผัดและไก่ผัดเม็ดมะม่วงหิมพานต์\\nผักโขมอบชีส และเส้นสปาเก็ตตี้\\nไวท์ซอสแฮมเห็ด และซอสมะเขือเทศ\\nไก่เทริยากิ ดูสีมันเข้มข้นมาก \\nหมูผัดซอสเม๊กซิกัน\\nซุปมะเขือเทศข้นๆ\\nขนมปังพร้อมเครื่องปิ้ง และมีบาร์ให้ตัดขนาดได้ตามใจ\\nเหล่าผลไม้สดบนน้ำแข็ง\\nเค้กและเครปต่างๆ\\nไอศกรีมรสสรอเบอรี่ในถังน้ำแข็งท๊อปปิ้งเครื่องต่างๆได้ตามสไตล์เรา\\nขนมไทยๆอย่างลอดช่อง ก็มีให้บริการ\\nน้ำดื่มต่างๆ พร้อมแก้วใบจิ๋ว\\nชา กาแฟร้อน พร้อมนมและครีมสูตรต่างๆ เติมน้ำตาลได้ตามใจ\\n\\nหมดบาร์ด้านนอกแล้วมาสำรวจบาร์ตรงกลางกันบ้าง\\nสลัดสูตรต่างๆที่เชฟปรุงมาให้พร้อมทาน\\nก๋วยเตี๋ยวลุยสวนแบบไทยๆ\\nยำวุ้นเส้น และลาบไก่\\nหมูมะนาวสีสันจัดจ้าน\\nซูชิหน้าต่างๆ\\nสลัดบาร์พร้อมน้ำสลัดสูตรต่างๆ มีให้เลือกเยอะมาก\\nสำรวจเสร็จแล้ว กลับมานั่งพักที่โต๊ะกันก่อน\\n\\nสำรวจเมนูเบอร์เกอร์กันก่อน ดูแล้วก็มีไม่กี่อย่างนะ เอางี้ละกันสั่งมาทุกอย่างเลยอย่างละ 2 ชิ้น\\nสั่งที่พนักงานได้เลย ถึงเราไม่สั่งก็มีน้องพนักงานมาวนที่โต๊ะให้เราสั่งได้สะดวกเลยครับ\\nไปตักอาหารอื่นๆ แล้วมาเริ่มชิมกันดีกว่า\\n\\nเริ่มออเดิร์ฟเบาๆกับขนมปังหน้าหมูกรอบๆหอมๆ โอโคโนมิยากิ กรอบนอกนุ่มใน \\nและของทานเล่นสไตล์เม็กซิกัน เรียกว่าอะไรไม่รู้ แต่มีรสเปรี้ยวหวานเผ็ดๆ ทานกับแป้งกรอบๆอร่อยดีครับ\\n\\nสปาเก็ตตี้ไวท์วอสแฮมเห็ด ไวท์ซอสเข้มข้น รสกลมกล่อม หอมกลิ่นแฮม ทานกับเส้นสปาเก็ตตี้\\nที่ลวกมากำลังดี เหนียวนุ่มอร่อยมาก จานนี้แนะนำเลยครับ\\n\\nตามมาด้วยสลัดสูตรตามใจ Captain Ton ผักสดกรอบเย็นๆได้มาตรฐาน \\nแต่น้ำสลัดนี้รสเข้มข้นอร่อยมาก เข้มข้นสะใจดีจริงๆ\\n\\nผักโขมอบชีสรสเข้มข้น เปรี้ยวครีมชีสเค็มๆและหอม \\nที่สำคัญมันเข้มข้นมากๆ ระวังจะเลี่ยนกันไปก่อนนะครับ \\n\\nจานนี้เป็นรวมอาหารไทย และสลัดแบบฝรั่งไว้ในจานเดียวกัน\\nเริ่มจากข้าวผัด จืดมาก เหมือนกินข้าวเปล่าเลยล่ะ แต่เอานะสไตล์ฝรั่ง\\nไก่ผัดมะม่วงหิมพาต์ ไก่นำไปชุบแป้งทอกแล้วนำมาผัดด้วยซอสสูตรเข้มข้น อร่อยม๊าก\\nหมูมะนาวที่นี่ก็รสเปรี้ยวเค็ม ตัดหวานนิดๆพอกลมกล่อม หมูก็นุ่ม อร่อยอีกแล้ว\\nลาบไก่ บอกได้คำเดียวว่าแซ่บมาก!!! เอาเป็นว่าอาหารไทยของที่นี่อร่อยสำหรับเราแต่ฝรั่งคงร้องจ๊ากเลยล่ะ\\nส่วนสลัดทั้งแฮมเมลอน ไส้กรอกแอปเปิ้ลเขียว น้ำสลัดปรุงรสชาติมารสมันๆเปรี้ยวๆ ส่วนตัวว่า\\nไม่ค่อยเข้ากันเท่าไหร่ แต่ผู้ช่วยบอกว่าอร่อยดี อืม... ลิ้นใครลิ้นมันนะ \\n\\nหมูผัดซอสเม๊กซิกันรสเข้มข้น หอมกลิ่นเหล้าจีนมาก ตอนแรกนึกว่าอาหารจีนด้วยซ้ำ หมูนุ่ม\\nอร่อยซอสเผ็ดๆ พอสะดุ้งแล้วก็หายไป อร่อยมากครับ จานนี้แนะนำอีกแล้ว\\n\\nสปาเก็ตตี้ซอสมะเขือเทศ น้ำนองเขียว มะเขือเทศแบบว่าใสๆจืดๆหอมๆ ไม่ค่อยปลื้มครับ\\n\\nผัดผักรวมกุ้ง อ้าวไม่มีในไลน์เมื่อกี้นิ ผู้ช่วยบอกว่าไก่ผัดเม็ดมะม่วงหมด เห็นเชฟเอามาเติม\\nเลยตักมาให้ชิมดู กุ้งเด้งกรอบ ผักก็กรอบแต่ซอสข้นจนถึงเค็มไปหน่อย ผมว่าทานกับข้าวสวยคงลงตัวเลยล่ะ\\n\\nซุปมะเขือเทศรสเข้มข้นมาก เหมือนจะใส่แครอทและครีมลงไปอีก \\nสำหรับผมว่าเลี่ยนและเหม็นมะเขือเทศไปหน่อย ลงมติกันว่าไม่ผ่านครับ\\n\\nหมดไลน์อาหารไปแล้ว มาชิมเบอร์เกอร์ที่เราสั่งไปดีกว่า กับHawaiianหมู \\nรสหวานเปรี้ยวของสับปะรด เข้ากับหมูสับผสมหอมใหญ่และแครอท ที่ถูกนำมาทำเป็นไส้อย่างดีอร่อยครับ\\n\\nHawaiianเนื้อ รสไม่ต่างจากเมื่อกี้เท่าไหร่ แต่ว่าหอมกลิ่นเนื้อเพิ่มมากอีกหน่อย อร่อยเข้าไปอีก\\n\\nเบอร์เกอร์เห็ด มีแต่เห็ดอัดแน่นๆเลย แต่รสชาตินั้นค่อนข้างจืดไปหน่อย \\nแต่สำหรับคนชอบเห็ด เมนูนี้ห้ามพลาดครับ \\n\\nเบอร์เกอร์กอร์ดอนบลูหมู ที่เป็น Signature คุณด๊ะแนะนำมา ไหนล่ะชีสอ่ะ???\\nลองเปิดดููสักหน่อย อ๋ออยู่นี่เอง ส่วนรสชาตินั้นอร่อยมากครับ หอมกลิ่มแฮมและเซดด้าชีส\\nรสเค็มๆมันๆกำลังดี อร่อยสมกับที่เป็นเมนนูแนะนำเชียวล่ะ\\n\\nเบอร์เกอร์ปลาทอด ส่วนตัวผมว่าจืดไปหน่อย น่าจะเพิ่มมายองเนส\\nหรือทาร์ทาร์ซอสลงไปอีกนิด จะแจ่มมาก\\n\\nเบอร์เกอร์คลาสิคหมู รสหมูผสมหัวหอมและแครอท ตัดกับชีสเค็มๆ อร่อยดีครับ\\nเบอร์เกอร์ไก่คลาสิค ไก่มาเป็บแบบชิ้นๆต่างจากเมื่อกี้ หมักมาไม่เข้มข้นมาก จืดกว่าหมูอีก\\nเบอร์เกอร์เนื้อคลาสิค อร่อยได้รสเนื้อหอมๆ กับชีสเค็มๆ รสชาติที่ผมคุ้นเคย\\n\\nเบอร์เกอร์ไก่เม๊กซิกกัน รสชาติแบบเดียวกับหมูเม๊กซิกันที่เป็นจานๆเมื่อกี้เลย อร่อยดีครับ\\nเบอร์เกอร์ไก่เทริยากิ จืดไปหน่อย หมักมาไม่ค่อยเข้าเนื้อ จานนี้ไม่ผ่านครับ\\n\\nชิลลี่ชีสเบอร์เกอร์เนื้อปรุงรสแบบเม๊กซิกัน รสเผ็ดๆหอมๆทานเข้ากับชีสรสมันๆ เค็มๆอร่อยครับ\\nเบอร์เกอร์เนื้อโรส ที่หอมและนุ่มชุ่มฉ่ำมาก ใครรักเนื้อจานนี้ห้ามพลาด แนะนำเลยครับ เนื้อชั้นเยี่ยมจริงๆ\\n\\nไปตบท้ายของหวานกัน มองไปอีกที คนเยอะมาก แน่นร้านเชียวล่ะ \\nก็ราคาถูกและก็รสชาติใช้ได้นี่นา คนเยอะก็ไม่แปลกเนอะ\\n\\nตบท้ายด้วยเค้ก ราสเบอรี่ บลูเบอรี่ เทรามิสุ และคัสตาร์ต บอกได้เลยว่าไม่อร่อย\\nเลยเรียกน้องเด็กเสริฟมาถาม ได้ความมาว่าสั่งมาจากโรงแรมอื่น ต้องขออภัยด้วย\\nเป็นโรงแรมดังอีกต่างหาก เอาเป็นว่า \"เรื่องนี้ริวจะไม่ยุ่ง\"\\n\\nทานไอศกรีมสตรอเบอรี่กับเครปกลิ่นหอมไข่ ท๊อปปิ้งด้วยแอปเปิ้ลผัดเนยกับชินเนม่อน\\nไอศกรีมละลายเร็วมาก ถ่ายรูปแทบไม่ทันเชียวล่ะ\\n\\nคิดบิลออกมา ราคา 458 บาท Netแล้ว อันที่จริงราคานี้ไม่รวมน้ำดื่ม แต่มีลูกค้าจาก En.... มาด้วย\\nจึงมีบริการให้ ถ้าไม่มีมาวันธรรมดาก็จะมีน้ำแก้วใหญ่ให้บริการ มีเก็บค่าน้ำอีกนิดหน่อยนะครับ\\nเทศกาลเบอร์เกอร์นี้ มีไปจนถึงวันที่ 31 ต.ค. 56 นี้เท่านั้นนะครับ โดยรวมแล้วผมให้คะแนน 4/5 ก่อน\\nเพราะของทานต่างๆมีน้อย แต่สมราคา อร่อยบ้างไม่อร่อยบ้าง ให้คะแนนเท่านี้ก่อนนะ\\n\\nครั้งหน้าผม Captain Ton จะพาทุกท่านไปกินไปเที่ยวตามสไตล์ของผมที่ไหนอีก \\nติดตามกันได้ที่นี่ และ https://www.facebook.com/CaptainTonEatTravel หรือตามเครดิตในรูปได้เลยนะครับ</td>\n",
              "      <td>0</td>\n",
              "    </tr>\n",
              "    <tr>\n",
              "      <th>11</th>\n",
              "      <td>12</td>\n",
              "      <td>โลตัสพัฒนาการมีร้านชีทเค้กน่าหม่ำอยู่ร้านนึงค่ะ ร้านนี้มีสาขาที่ทองหล่อและเมเจอร์เอกมัยด้วยนะคะ ภายในตู้แช่เรียงรายด้วยชีทเค้กเพี้ยบ น่าทานทั้งน้านน เลือกไม่ถูกเลยค่ะ ตอนนี้มีโปรโมชั่นซื้อ 3 แถม 1 ด้วย โอ้แม่เจ้า อยากทานหมดเลยอ่ะ แต่ด้วยทุนทรัพย์เลยเลือกมา 4 ชิ้นค่ะ ประกอบด้วย Blueberrt Cheesecake Brownie Cheesecake Apple Crumble Pie และ Mocha cake ชีทเค้กเค้าอร่อยมาก เนื้องี้เนียนเว่อร์ ขนมปังด้านล่างไม่แตกละเอียด ถือว่าทำได้ดีค่ะ Crumble Pie ก็อร่อยใช้ได้หอมดีค่ะ แต่ที่ไม่อร่อยเท่าไหร่คือเค้กกาแฟ ชั้นที่เป็นขนมปังเนื้อร่วนๆ ไม่อร่อยเลย แต่ครีมพอใช้ได้ค่ะ ราคาส่วนใหญ่ 100 บาทขึ้นไปค่ะ นอกจากเค้กแล้วยังมีพวกเครื่องดื่มพวกชา กาแฟ ขายด้วยค่ะ ร้านตกแต่งสไตล์คนทำงานไป จิบชา ชิมเค้กไปค่ะ ดูสะอาดสะอ้านดี พนักงานต้อนรับดีค่ะ ว่างก็มานั่งชิวกันนะคะ ร้านอยู่หัวมุมตรงข้ามเค้าท์เตอร์คิดเงินของโลตัสเลยค่ะ</td>\n",
              "      <td>2</td>\n",
              "    </tr>\n",
              "    <tr>\n",
              "      <th>16</th>\n",
              "      <td>17</td>\n",
              "      <td>ไปทานมาเพราะเห็นเปิดแบบบุฟเฟต์ทุกวันเสาร์อาทิตย์ บ่ายสองถึงหกโมงเย็น 2คน 1200++฿(บัตรastorspgใช้ลดได้ตามปกติ) โดยจะเลือกเครื่องดื่มได้คนละชนิด(ถ้าเป็นชาก็เติมนำ้ร้อนได้) ของที่เสิร์ฟแบบชั้นๆจะมีสโคนและของคาว และขนมหวานจะอยู่ในไลน์มีเค้กเกือบ10ชนิด ทำมาสูงใหญ่อลังการมาก(เหมือนเป็นเค้ก2ชั้น) ชอคโกแลตต่างๆ มาคารอง(ไม่อร่อย) และมีขนมในถ้วยเล็กๆอีกนิดหน่อย\\n\\nรลชาติขนมหลายๆอย่างอยู่ในเกณฑ์ดี เค้กหลายชนิดมีเอกลักษณ์ดี ไม่เหมือนตามตู้เค้กร้านกาแฟ บรรยากาศดีมาก ควรโทรมาจองก่อนเพื่อให้ได้โต๊ะฝั่งที่มีวิวสนามกอล์ฟ&amp;สนามม้า มีเปียโนเล่น การบริการดีสมเป็นแบรนด์หรูเครือสตาร์วูด\\n\\nข้อเสียคือ ไม่สามารถเปลี่ยนเครื่องดื่มได้ และของคาวมีน้อยไปหน่อย(มีแค่แซนวิชทูน่า แซลมอนรมควัน และครัวซองเนื้อ)\\n\\n</td>\n",
              "      <td>2</td>\n",
              "    </tr>\n",
              "    <tr>\n",
              "      <th>34</th>\n",
              "      <td>35</td>\n",
              "      <td>เดินผ่านร้านนี้มาหลายครั้งแล้วค่ะ สังเกตว่าร้านนี้เป็นที่สนใจของชาวต่างชาติม๊ากมาก วันนี้ได้ฤกษ์ดีหิ้วท้องกิ่วๆ มารอเพื่อนที่ร้านนี้ ลองชิมขนมหวานรองท้องและพักขากันหน่อยก่อนไปจัดอาหารคาว\\n\\nร้าน Yello Dellow Dessert ตั้งอยู่บริเวณตรงข้ามกับร้านวัตสัน ร้านอีฟแอนด์บอย และใกล้ๆ กับเดลิย่าค่ะ เดินหาไม่ยากนะคะ หน้าร้านจะเห็นเมนูน้ำผลไม้และของหวานที่ทำจากมะม่วงแปะอยู่เห็นค่อนข้างชัดเจน\\n\\n+ Gravity (75 บาท)\\nเมนูไอศกรีมมะม่วงเสิร์ฟมาในน้ำมะม่วงปั่น ตกแต่งด้วยเนื้อมะม่วงหั่นเต๋าและสาคูที่เหมือนไข่มุกในชานมไข่มุกค่ะ สำหรับไอศกรีมรสชาติค่อนข้างหวาน แต่ไม่หวานมากเกินไป รสชาติช่วยกันกับน้ำมะม่วงปั่นซึ่งมีรสเปรี้ยวอมหวานทำให้อร่อยและไม่เลี่ยนค่ะ ถือว่าไอศกรีมเป็นตัวชูโรงในถ้วยนี้เลย เนื้อมะม่วงเปรี้ยวอมหวาน เข้าใจค่ะว่าฤดูนี้ไม่ใช่ฤดูกาลปกติ มะม่วงเลยไม่อร่อยเท่าที่ควร ส่วนสาคูค่อนข้างนิ่มค่ะ กินรวมๆ แล้วอร่อย สดชื่นดี ^^\\n\\nใครผ่านมาแถวนี้มาลองกันได้นะคะ พนักงานค่อนข้างโอเค เรานั่งรอเพื่อนนานแล้ว นางยังไม่มีท่าทีว่าจะมาไล่เราออกจากร้านเลยค่ะ ฮ่าๆ\\n</td>\n",
              "      <td>3</td>\n",
              "    </tr>\n",
              "    <tr>\n",
              "      <th>85</th>\n",
              "      <td>86</td>\n",
              "      <td>ตอนแรกนึกว่าไม่อร่อยเลยลองเล่นๆ ปรากฎ อร่อยมาก แก้วใหญ่ 40บาทโอ้ยยถูกจริง แต่คนขายจะดูนิ่งๆๆ ลุงแกดูเหมือนหุ่นยนต์ แต่ภายในร้านดูเงียบ สรุปคือบรรยากาศยังไม่ถูกใจ แต่ถ้ากาแฟยกนิ้วให้เลย. คุณภาพคับแก้วจริงๆ รสชาติไม่แพ้ร้านที่เคยกินมาเลย</td>\n",
              "      <td>3</td>\n",
              "    </tr>\n",
              "    <tr>\n",
              "      <th>116</th>\n",
              "      <td>117</td>\n",
              "      <td>\\n---------เกริ่นๆ\\n\\nคือเมาไง เด็กๆอย่าเอาเป็นเยี่ยงอย่างนะจ๊ะ ช่วงนี้ลานเบียร์กำลังอู้ฟู่ เปิดกันเป็นดอกเห็ด อากาศก็เป็นใจเหลือเกินให้ตายสิ\\nแล้วพอสึมๆได้ที่ ร้านเค้าก็จะเตะเราออก ถูกมะ\\nพอร้านเตะเราออก เพื่อนๆก็จะครวญครางว่า โอยยยยพาไปหาอะไรร้อนๆกินหน่อยยยย ชายสี่ก็ได้\\nเออ ก็เลยเป็นที่มาของเมนูอาหารดึกๆเพื่อคนอยากสร่างเมา นอกจากบะหมี่ร้อนๆ ข้าวมันไก่ยอดฮิตแล้วนั้น ก็จะมีพวกร้านข้าวต้มและติ่วซำอะไรแบบนี้แหละที่อาแปะแกยังไม่นอน\\nวันนี้เราก็จะพาไปร้านสุดฮิต ที่ที่จริงแทบจะไม่ต้องรีวิว\\nแตไหนๆก็ไหนๆแล้ว เอาซักหน่อยละกันเนาะ ^^\\n\\n\\n---------เกี่ยวกับร้าน\\n\\nโชคดีติ่มซำ เป็นแบรนด์ร้านติ่มซำที่ถ้าจะให้เปรียบก็เหมือนกับชายสี่ของบะหมี่นั่นเอง มีอยู่เยอะหลายที่ เออ อาจจะไม่เยอะขนาดชายสีีที่มีแทบทุกปากซอย แต่ก็มีเยอะพอที่จะนั่ง taxi จากสาขาหนึ่งไปอีกสาขาหนึ่งในราคาไม่เกิน 80 บาท  ชัวร์!! (เคยลองนะ จากลาดพร้าว มาอารีย์ ไปจุฬา ประสาทนิดนึง)\\nเมนูนอกจากติ่มซำแปดล้านอย่างแล้วก็จะมีพวกอะไรที่พึงจะนึ่งได้ ทั้งแบบอร่อยในเข่ง และมาเป็นถ้วยๆร้อนๆ\\nสาขานี้เค้าเก๋ตรงที่มีซุ้มกาแฟด้วยนะเออ!\\nร้านเค้าเปิด 24 ชั่วโมง ที่จอดรถก็เยอะแยะครับตอนดึกๆ เพราะสองข้างถนนโล่งมาก \\nมา BTS ก็สะดวกครับ เดินมาจากสะพานไม่ใกลก็ถึงร้านแล้ว ^^\\n\\n\\n----------อาหารๆๆ\\n\\nจะบอกว่าร้านนี้เก๋ก็พูดไม่ได้ เพราะเมนูมันก็เหมือนโชคดีทุกสาขาแหละ\\nแต่จะบอกว่าจริงๆเค้าเ้ปิด 24 โมง และมีอาหารเช้าน่าทานด้วยนะ เช่นหมั่นโถวทอด และไข่กะทะ\\nรสชาติก็ใช้ได้ แต่ไข่กะทะอาจจะแอบแข็งไปนิดนึง\\nส่วนติ่มซำต่างๆคุณภาพก็เรื่อยๆครับ อาจจะไม่อร่อยนุ่มนึ่งสวยๆแบบตามโรงแรม แต่เทียบกับราคาก็พอถูๆไถๆได้เน้อ\\nขอติตรงที่รุ้สึกว่าบางคร่ั้งนึ่งมาแบบไม่พอดีอะครับ ติ้มซำยังแข็งจับกันเป็นก้อนยังกะเนื้อร้าย \\n\\nส่วนเครื่องดื่ม เก็กฮวย refill แนะนำครับ ถ้าหิวน้ำมากๆและอยากกรึ๊บอะไรที่มากกว่าน้ำเปล่า\\nแต่อย่าสั่งโอวัลตินเย็นนะครับ รสชาติเหมือนเทผงทุลีโอวัลตินผสมกับน้ำทั้งทะเลสาป คือจืดมากกกกกกกกกกกกกกกกกกกกกกกกกกกก ดูดจนหมดนึกว่าตัวเองสั่งน้ำเปล่า!!\\n\\n\\nการบริการ---ดีครับ ยิ้มแย้ม รับออเดอร์ด้วยใบหน้าเต็มใจบริการ อิอิ\\nร้านเหมาะสำหรับ----คนที่หิวไส้กิ่วกลางดึก และเหล่าสาวกนั่งเล่น-เดโม่-ลานเบียร์-ข้าวสาร-อตก หรืออะไรที่ทำให้สติคุณเบลอ และพร้อมจะทานอะไรร้อนๆกลางดึกตลอดเว\\nจุดเด่นของร้าน----เปิด 24 ชั่วโมง \\nจุดด้อยของร้านล่ะ----ติ่มซำงั๊นๆ และหาเอกลักษณ์ยาก จากการที่ร้านเป็น franchise \\nอยากมาอีกมั๊ย----ถ้าเมามาแถวนี้อีกก็คงแบกร่างล้นแอลกอฮอล์มาอีกครับ 555 เป็นที่พึ่งที่ดีจริงๆ มีห้องน้ำด้วย\\n\\n:D</td>\n",
              "      <td>3</td>\n",
              "    </tr>\n",
              "    <tr>\n",
              "      <th>135</th>\n",
              "      <td>136</td>\n",
              "      <td>ร้านนี้อยูในซอยตรงข้ามไปรษณีย์กลาง เข้ามากินทดลองความขลัง ความเก่าแก่ของร้านนี้ สั่งก๋วยเตี๋ยวเป็ด ได้เนื้อเป็ดสับมาทั้งกระดูก 1 ชิ้น ก๋วยเตี๋ยวน่องไก่ ได้ไก่ชิ้นใหญ่กว่า เป็ดพอได้ แต่เสียน้ำซุปไม่อร่อย ขนมปังสังขยา ขนมปังไม่อร่อยด้านๆ ไม่ฟู สังขยาก็น้อยไม่พอจิ้ม สั่งกาแฟเย็น กะโอเลี้ยง ใสมากไม่อร่อยเลย ร้านข้างทางชงอร่อยกว่าเยอะอ่ะ</td>\n",
              "      <td>0</td>\n",
              "    </tr>\n",
              "    <tr>\n",
              "      <th>142</th>\n",
              "      <td>143</td>\n",
              "      <td>เห็นว่าใกล้ทึ่ทำงาน เลยลองดูค่ะ ครั้งแรก ลองมื้อเย็น จะสั่งอะไรก็บอกหมด ไม่มี พนักงานบอกว่าไม่่ค่อยมีแขกเลยไม่มีของ อ้าววว ด้วยความหิว เลยถามว่ามีอะไร เขาแนะนำมา2-3 อย่าง ก็เลือก เป็น sirloin steak(ไม่มีแบบเนื้อแบบอื่นให้เลือก) กับ สปาเกตตี้ผัดเบคอน (เพราะยากนักที่จะทำไม่อร่อย) สรุป ไม่อร่อย!! ส่ง steak คืนเลยค่ะ สั่ง medium rare ได้มาแบบ well done ราคาก็มาตรฐานรร.5ดาวค่ะ เขาก็มาขอโทษ แต่ทำให้ใหม่ไม่ได้ เพราะนั่นเป็นชิ้นเดียวที่มี &gt;&lt;  เขาให้น้ำตะไคร้มาเป็นการขอโทษค่ะ แต่ไม่ได้ทานเพราะไม่ชอบ\\n\\nอ่ะ ให้โอกาสอีกครั้ง คราวนี้ไปลองอินเตอร์บุฟเฟ่ต์มื้อเที่ยง อาหารไม่ค่อยมีอะไรมากนัก (เมื่อเทียบกับรร.อื่นๆในระดับราคาเดียวกัน) ที่สำคัญ ไม่อร่อยด้วยนี่สิ พนักงานก็แย่ค่ะ ไม่ค่อยจะมาเก็บจาน จะสั่งกาแฟสด ก็ไม่มีใครมารับออร์เดอร์ (คือว่าน้ำต่างๆ มันรวมในบุฟเฟ่ เลยกะจะทานหลายๆอย่าง แทนที่อาหารที่ไม่อร่อยอ่ะค่ะ ^^) สรุป ไม่ประทับใจอะไรเลย นอกจากร้านสวย \\n\\nทั้งสองมื้อที่ไป มีโต๊ะเราเพียงโต๊ะเดียวเนี่ยค่ะ มื้อเที่ยงนั่น รู้สึกแย่ เนื่องจากว่าจะมีเหมือนพนักงานของรร.เอง มาตักบุฟเฟ่ต์ร่วมกับเราด้วย (มาแย่งsalmonไป แค้นๆ 555) เหมือนแบบ....เอ...นี่เรามากินอาหารที่เขาทำเลี้ยงพนักงานป่าวเนี่ย!! งงๆ ไม่ใช่ว่ารังเกียจพนักงานนะคะ แต่รู้สึกว่ามันไม่ควร อย่างน้อยเอาป้ายรร.ออกก่อนก็ได้นะ (เขาอาจมาจ่ายราคาเต็มแบบลูกค้าทั่วไปก็ได้ แต่พอมีป้ายพนักงานรร.แขวนคอไว้ มันเลยดูไม่ดีน่ะค่ะ แต่ก็แค่ความเห็นส่วนตัวนะคะ)</td>\n",
              "      <td>3</td>\n",
              "    </tr>\n",
              "    <tr>\n",
              "      <th>149</th>\n",
              "      <td>150</td>\n",
              "      <td>จอดรถริมถนนหน้าร้าน ไม่ต้องกังวลที่เหลือเฟือเพราะเป็นถนนซอย \\n\\nอาหารจานเด่นจะเป็นสปาเกตตี ลองมาหลายจานก็อร่อยทั้นั้น เส้น al dante พอดี รสเข้มข้น คาโบนารา ผัดพริกกระเทียม อร่อยหมด ข้าวจานเดียวก็ใช้ได้แต่ไม่เด่นเท่าเส้นราคาก็จะไม่ถึงร้อย แต่พาสต้าจะร้อยขึ้นไปจนสองร้อยกว่า ปีกไก่ทอดสั่งมากินแล้วห่อเหี่ยวมาก ก็แห้งอร่อยใช้ได้แต่จานนึงมีปีกกลางผ่าครึ่งอยู่ 5 ชิ้น! ขายจานละ 60 จานที่ใส่มาว่าเล็กแล้วยังดูโหรงเหรงเลย ขายแพงขึ้นแต่ปริมาณเหมาะกับหนึ่งจานจะดูดีกว่านี้ คราวหลังเจออย่างนี้จะถ่ายรูปเอาไว้\\n\\nเค้กก็อร่อยดีแต่ค่อนข้างแพง ชี้นละเกือบร้อยถึงร้อยกว่าๆ ทีเด็ดอยู่ที่พวกเครปชอบมากกว่า เบาๆดี  เครปซอสส้ม เครปไส้กล้วยราดช็อก อร่อย\\n\\nกาแฟเป็นส่วนที่น่าผิดหวัง เพราะขึ้นชื่อว่าร้านกาแฟแต่กาแฟไม่อร่อย ลาตเต้ร้อนไม่ร้อนเลยสงสัยสตีมนมไม่ได้ที่ ลาตเต้อาร์ตก็ออกมาน่าเกลียดขนาดไม่มียังดีกว่า ไม่ได้เข้าไปมองว่าใช้เครื่องยี่ห้ออะไร \\n\\nสถานที่เป็นบ้านที่ดัดแปลงเป็นร้าน จะคับแคบหน่อย มีไม่กี่โต๊ะ ตกแต่งบรรยากาศน่ารักดี แอร์ไม่เย็น ถ้าโต๊ะเต็มต้องไปนั่งโต๊ะเสริมอีกห้องนึงซึ่งโต๊ะ เก้าอี้ บรรยากาศแย่กว่ากันมากๆ\\n\\nสรุปอาหารอร่อยแต่ราคาแพงยังกะอยู่ในห้าง ร้านอยู่ในซอยลึกราคาน่าจะเป็นมิตรกว่านี้ แต่ราคานี้คนก็เข้าร้านไม่ขาดสายอยู่แล้ว รถจอดหน้าร้านเต็มตลอด.</td>\n",
              "      <td>3</td>\n",
              "    </tr>\n",
              "    <tr>\n",
              "      <th>170</th>\n",
              "      <td>171</td>\n",
              "      <td>ร้านน่ารักมากคะ สะอาด มีการดูแลน้องแมวอย่างดี และมีกฏเคร่งครัดสำหรับลูกค้าในการเล่นกับน้องแมว\\nบอกก่อนเลยว่าไม่ใช่Cat Loverคะ แต่เพื่อนสาวคลั่งแมวมากก เลยลองไปกันซะหน่อย\\n\\nร้านตกแต่งน่ารักคะ มีทั้งโซนนั่งโต๊ะเก้าอี้โซฟายาว และโซนนั่งพื้น เราได้นั่งตรงโซฟา ด้านบนเพดานเป็นกระจก ยกเพดานสูง รู้สึกโปร่ง สบายมากคะ \\n\\nเมนูืี่นี่จะเป็นพวกเบเกอรี่ เครื่องดื่มก็จะเป็นพวกชา กาแฟ อาหารจะมีสลัดนิดหน่อย แบบเบาๆคะ เราสั่งมา3อย่าง บราวนี่อร่อยคะ เสิร์ฟพร้อมไอศรีมและวิปครีม เค้าตกแต่งมาให้เป็นหน้าแมวด้วย น่ารักอ้ออ และอีกเมนูในรูปเพื่อนไปเลือกที่ตู้มาคะ ก็พอกินได้ ส่วนเมนูสุดท้ายที่สั่งคือ ชีสเค้กบลูเบอรี่ ไม่ได้ถ่ายรูปมาคะเป็นถ้วยเล็กๆ บอกเลยว่าเราทำอร่อยกว่า (จริงคะไม่เวอร์) เพราะมันไม่อร่อยเลยคะT_T พอชิมคำแรกทั้งเราและเพื่อนแบบ เอิ่บ:/  \\n\\nสรุปว่าร้านนี้คิดจะไปกินขนมไปร้านอื่นดีกว่า แต่ถ้าอยากเล่นกับน้องแมว ชมบรรยากาศร้าน ก็ลองไปกันดูนะคะ</td>\n",
              "      <td>2</td>\n",
              "    </tr>\n",
              "    <tr>\n",
              "      <th>235</th>\n",
              "      <td>236</td>\n",
              "      <td>จากพังงา โคกกลอย จะเดินทางไปภูเก็ต จะเห็นร้านอยู่ทางขวามือ สังเกตุได้ง่ายมากป้ายร้านใหญ่ ปละจะมีช้างสีเหลืองๆ อยู่หน้าร้านครับ ทางร้านมีที่จอดรถหน้าร้านเลยครับ จอดได้ประมาณ 10 คัน ร้านนี้ตกแต่งโล่งๆ สบายๆ สวยดีครับ ความสะอาดดีมาก การบริหารดีครับ ผมไปตอนกลางวัน ทางร้านมีบริการข้าวแกง อาหารตามสั่ง และกาแฟสด มาถึงอาหารที่สั่งนะครับ\\n1. แกงส้มผักรวม แกงส้มแบบทางใต้ ใส่ผักมาหลายชนิด ใส่ปลากระพง รสชาติเผ็ด และกลิ่นเครื่องแกงจะแรงๆ โดยรวมแล้ว ไม่ค่อยอร่อย ผักเละ ไปครับ\\n2. ผักเหมียงผัดไข่ ทางร้านทำออกมาแปลกๆ ไม่อร่อย ผักเละครับ และไข่ป่นๆ ยังไง ไม่เหมือนกับร้านอื่น รสชาติธรรมดามากๆ \\n3. ปลามงทอด จานนี้ปลามงเป็นชิ้นเอาไปทอด รสชาติใช้ได้เพราะปลาสด อร่อยครับ ทอดอาจจะเกรียมไปหน่อยแต่ใช้ได้ครับ\\n4. กุ้งผัดซอสมะขาม กุ้งตัวเล็กและให้น้อยมาก ซอสรสชาติดีครับ แต่ทางร้านน่าจะใส่แป้งด้วยมันเลยข้นมากๆ ไม่ประทับใจ\\n5. ชามะนาว ขอบอกว่ารสชาติแปลกๆ ไม่อร่อยครับ \\nโดนรวมแล้ว อาหารร้านนี้ผมเฉยๆ มาก ไม่อร่อยครับ ดีที่ความสะอาด การบริการดี ไม่งั้นคงแย่ แต่เห็นคนมาทานเยอะ คงเป็นแบบข้าวแกงครับ เพื่อนที่ลองทานแนะนำกันบ้างครับ !!</td>\n",
              "      <td>0</td>\n",
              "    </tr>\n",
              "    <tr>\n",
              "      <th>246</th>\n",
              "      <td>247</td>\n",
              "      <td>ด้วยความที่ช่วงนี้เป็นเทศกาลปีใหม่ ร้านจึงปิดกันเยอะ วันนี้ตั้งใจจะมาทานอีกร้านแต่ร้านนั้นปิดคะ ดูซ้ายดูขวา ร้านนี้แล้วกัน เพราะวันนี้อยากทานส้มตำ\\n\\nพอทานไปแล้ว เป็นร้านที่แก้ขัดจริงๆคะ สั่งมาหลายอย่าง (แต่ถ่ายรูปมาน้อย เพราะเสียอารมณ์กับรสชาด) สั่งมาทั้งหมด 6 อย่าง มีเนื้อย่างที่ใช้ได้อย่างเดียว อ้อ..หอยแครงก็โอเค แต่น้ำจิ้มไม่อร่อยคะ</td>\n",
              "      <td>3</td>\n",
              "    </tr>\n",
              "    <tr>\n",
              "      <th>265</th>\n",
              "      <td>266</td>\n",
              "      <td>ก่อนอื่น พูดถึงรสชาติของบุฟเฟ่ต์ก็ต้องบอกว่าเฉยๆ ธรรมดามาก เนื้อทุกแบบหมักด้วยซีอิ๊ว หมูทุกแบบหมักด้วยกิมจิปรุงรส และอาหารก็ไม่ได้สดมากนัก เป็นอารมณ์แบบ โต๊ะอื่นสั่งเหลือแล้วยังไม่ปิ้งก็จะเก็บเนื้อไว้ให้โต๊ะถัดไป แต่ถั่วแดงน้ำแข็งใสอร่อย สั่งเพิ่มถั่วแดงเยอะพิเศษได้ กินแก้เลี้ยน\\n\\nไปคราวนี้สั่งอาหารจานเดี่ยวเพิ่ม (อยู่ในเมนูบุฟเฟ่ต์) เอามากะลองชิม แต่กลายเป็นว่ามาจานใหญ่ หันไปเห็นป้าย \"ปิ้งย่างทานไม่หมดหักชิ้นละ 10 อาหารจานเดี่ยวทานไม่ถึงครึ่งหักเต็มราคา ถ้าคิดว่าทานไม่ไหวสั่งลดปริมาณได้\" ทำให้คิดว่า 'จะโดนหักเท่าไหร่เนี่ย'\\nมาถึงเมนูที่สั่งดีกว่า มีข้าวผัดกิมจิ อร่อยดี แต่ซุปกิมจิไม่อร่อย รสชาติแบบแกงส้มสุดๆ รสชาติไม่ใช่ซุปกิมจิแบบที่เกาหลี (แกงส้มบ้านเราอร่อยกว่า) ซารังราเมนก็มาม่าเกาหลีดีๆ ไม่คุ้ม ตัดกำลังมาก สุดท้ายคือสลัด ...ส้มตำใส่กิมจิดีๆ นี่เอง\\n\\nลืมไปว่า เนื้อที่สั่งมาจะถูกรวมอยู่ในจานเดียวกัน แยกแค่จานเนื้อ จานหมู จานไก่ แต่ไม่ได้สั่งไก่มาเลยไม่รู้ว่ารสชาติเป็นไง ที่สำคัญ เนื้อแต่ละจานมาแบบพูนๆ ชิ้นๆ ไม่ได้ซไลด์บางแบบเบุฟยุ่น\\n\\nบรรยากาศในร้าน ถือว่าใช้ได้ เป็นกันเอง ไม่เอะอะ โต๊ะไม่เยอะมาก นั่งได้โต๊ะละ 4-6 คน และมีคนทยอยเข้าร้านเรื่อยๆพนักงานจะมาช่วยย่างบ้าง (แต่ส่วนตัวอยากย่างเอง) ความแรงไฟพอได้ แต่ไม่เท่ากัน ท่อดูดควันก็ดูดแต่ควันจริงๆ กลิ่นติดตัวมาก ไม่มีสเปร์ยฉีดก่อนออกจากร้าน ไม่มีอ่างล้างมือ ไม่มีลูกอมดับกลิ่นปาก เพราะราคา 330 นี้ควรจะมีของพวกนี้ด้วย\\n\\nที่สำคัญสำหรับช่วงนี้คือ โปรโมชั่นรับปีใหม่จับรางวัลโต๊ะละ 1 ลูก ลด 10% 20% 30% 50% 100)</td>\n",
              "      <td>0</td>\n",
              "    </tr>\n",
              "    <tr>\n",
              "      <th>271</th>\n",
              "      <td>272</td>\n",
              "      <td>หลายคนคงเคยได้ยินข่าวว่าทานชานมไข่มุกมากๆไม่ดี  เพราะแก้วนึงอุดมไปด้วย trans fat (ครีมเทียม) ซึ่งเป็นไขมันไม่ดี  กินมากสะสมเยอะโรคภัยก็ถามหา  ในวันนี้ก็มีร้านทางเลือกชานมไข่มุกที่ห่วงสุขภาพคนทานโผล่ขึ้นมา ในนามว่า \"Herma\" คือทางร้านจะชงสดโดยใช้นมสดแท้ 100% ซึ่งดูเป็นทางเลือกที่น่าสนใจทีเดียวสำหรับคนที่ เสพติดชานมไข่มุกอย่างเราๆ\\n\\n=-= สถานที่ตั้ง =-=\\n\\nร้านมีสาขาแต่ไม่ค่อยมาก  สาขาที่แอมลองอยู่ที่ชั้นสอง Airport link สถานีลาดกระบัง(ชั้นก่อนถึงเคาเตอร์ซื้อตั๋ว) ซึ่งคงเหมาะกับผู้ที่สัญจรใช้บริการ airport link สถานีนี้เป็นประจำค่ะ\\n\\n=-= เมนูที่ชิม =-=\\n\\nขณะที่แอมลองทาน  ทางร้านมีโปรโมชั่นชามน ลดราคาเหลือ แก้วละ 25 บาทอยู่ เลยซื้อมาลองพร้อมเพิ่มไข่มุก 5บาท \\n\\nชิมดูรู้สึกว่ามันเลี่ยนน้อยกว่าที่ชงด้วยครีมเทียมทั่วไปค่ะ  แต่รสชาติค่อนข้างเจือจางไม่เข้มข้นเลย  ไม่หวานไม่ข้น ออกแนวจืดๆ เลยยังไม่ปลื้ม\\nเท่าไร \\n\\nคือไม่แน่ใจว่ามันแนวสุขภาพ\\nเลยต้องหวานน้อย รสบางๆหรือเปล่า  แต่ชิมเสร็จแล้วนึกถึงคำกล่าวที่ว่า  \"ของที่ไม่อ้วน  กินแล้วไม่อร่อย\" ขึ้นมาจับใจ????????</td>\n",
              "      <td>1</td>\n",
              "    </tr>\n",
              "    <tr>\n",
              "      <th>275</th>\n",
              "      <td>276</td>\n",
              "      <td>เห็นรีวิว เลยมาลองทาน ร้านอยู่ไม่ไกลจากบ้าน\\nร้านอยู่หมู่บ้านรัชดานิเวศน์ แยก 11\\nมาทานตอนเที่ยง ร้านเปิด 11.30 ปิดประมาณ 5 ทุ่ม\\n\\nบรรยากาศ : ร้านมีโต๊ะด้านในที่ติดแอร์แค่ 5 ตัว โต๊ะติดกันมากๆ ตกแต่ง ไม่มีอะไรพิเศษ นอกจากจะมีรูปโชว์ที่คนดังมาทาน กับเมนูอาหาร (1/5)\\n\\nบริการ : ดีค่ะ พนักงานน่ารักทุกคน (4/5)\\n\\nอาหาร : เห็นเค้าบอกว่า ไม่แพง ราคาก็ไม่สูงนะ แต่คุณภาพก็ด้อยตามราคา อาหารไม่เจออะไรอร่อย ทุกอย่างออกเค็มไปหมด ทานเสร็จหิวน้ำมากๆ\\n- Sushi 2 คำ 90 บาท มีแต่ของหมด กุ้งหมด ทาโกะหมด ปลาสดใช้ได้ แต่ชิ้นบางเฉียบตามราคา ข้าวไม่ได้เรื่อง แห้ง แข็งนิดๆ ปรุงรสไม่ผ่าน แถมเหยาะโชยุลงมาอีก (ตามรูป) (2/5)\\n- ไข่หวานย่าง 90 บาท ชิ้นเล็กจนไม่รู้จะถ่ายรูปให้สวยได้ยังไง รสชาติก็ธรรมดา ดีที่ทำมาร้อนๆ เลยช่วยชีวิตไว้ได้ (2/5 --&gt; แพงเกิ๊น)\\n- Ebi tempura (250 ลดเหลือ 200) เมนูลดราคาประจำวัน กุ้ง 5 ตัว ทอดมาร้อนๆ อร่อยดี (4/5)\\n- ข้าวหน้าปลาแซลมอน (250) แซลมอนบางที่สุด ที่เคยเห็นมา ข้าวแห้ง ไม่อร่อย โรยงาคั่วมาอีก ให้เสียรสชาติ (แถมเกลียดงาอยู่แล้ว) งาไม่พอ เจอโชยุอีก (ตามรูป.. ไม่ได้เหยาะเองนะคะ อาหารมาแบบนั้น) แล้วผงชมพูๆ ก็ไม่รู้อะไร ลองจิ้มทานดูแล้วออกหวานๆ เลยเขี่ยออก ไม่ทาน (2/5--&gt; ถูกดี ทานแล้วอิ่ม ถ้าเฉพาะรสชาติ 1/5)\\n- california roll (ใช้ voucher 250 เหลือ 159)\\nแถมชาเขียว กับ ซุป 1 ถ้วย รสชาติธรรมดามาก แซลมอนก็แสนจะบาง (2/5)\\n\\nสรุป คงไม่มาอีกแล้ว ราคาขนาดน้ี ไปทานที่อื่นอร่อยกว่าเยอะ บรรยากาศก็โอกว่า\\nสงสัยลิ้นเราจะชาวบ้านไป เข้าไม่ถึงรสชาติอาหารอันล้ำลึกอะ</td>\n",
              "      <td>3</td>\n",
              "    </tr>\n",
              "    <tr>\n",
              "      <th>279</th>\n",
              "      <td>280</td>\n",
              "      <td>รีวิวในครั้งนี้ไม่ใช่สเต็กในร้าน steak lao นะครับ....แต่ผมขอพูดถึงขนมที่ขายอยู่ในร้านนั่นก็คือ \\nbarbe papa(บาร์บี้ปาป้า้) เป็นเหมือนขนมสายไหมกลมๆเล็กๆสีสวยน่าทานครับ...\\nกระปุกละ 50 บาทมีข้างในอยู่ประมาณ 10 ลูกได้...รสชาดจะมีอยู่หลายรสแล้วแต่สีครับ\\nแต่พอผมชิมแล้วผิดหวังมาก..มันมีแค่รสหวานครับ(ไม่อร่อยเลยแถมยังพาลหิวน้ำอีก)(ไม่ต่างกับคุณไปทานน้ำตาลก้อนที่ใส่กับกาแฟแล้วอมช็อคโกแลตหรือรสชาดที่คุณต้องการตามลงไปยังอร่อยซะกว่าครับผมว่า)\\n\\nแต่แพคเกจสวยครับอันนี้ยอมรับซึ่งก็ดูเก๋ไก๋มีสไตล์ครับถ้าจะถือเดินแต่รสชาดผมขอบายครับ...ไม่ปลื้มจริงๆ\\n\\nJust Eat It!!!\\n\\n</td>\n",
              "      <td>3</td>\n",
              "    </tr>\n",
              "    <tr>\n",
              "      <th>284</th>\n",
              "      <td>285</td>\n",
              "      <td>ผมชอบร้านกาแฟในเครือ อเมซอน ซ่งส่วนใหญ่เปิดในปั๊มน้ำมัน\\nแต่ร้านนี้ เปิดในห้าง เป็นร้านการแฟมาตรฐานเลยครับ\\nผมชอบสาขานี้ เพราะ ร้านมันสวยดี เมื่อมันอยู่ในห้าง สีเขียวทำให้สดชื่น\\n\\nผมมากินกาแฟหลายครั้งแล้ว รสชาติก็เป็นมาตรฐานของอเมซอนนะครับ\\nคาปูชิโน่ ก็ไม่โดดเด่น แต่ก็อร่อยมาตรฐาน\\nที่ผมชอบก็คือ สูตร อเมซอนครับ จะดื่มร้อน\\nถ้าธรรมดาก็ 45 บาท\\nถ้า อเมซอนพิเศษ ซึ่งกาแฟจะขมเข้มข้นขึ้น ก็ 50 บาท อันนี้สะใจดี\\nดื่มแล้วตาโตแข็งดี\\n\\nส่วนเค็ก ถ้าเป็นเค๊กที่มีครีมบนหน้า ไม่แนะนำครับ ไม่อร่อย เนื้อเค๊กแข็ง\\nถ้าอยากกิน ก็กินแบบที่เขาทำเล็กๆ น้อยๆ มาขายดีกว่า\\nเพราะคิดว่า ทางร้านเขาคงรับมาขายต่ออีกที เพราะอเมซอนไม่ทำเค็กขายเอง</td>\n",
              "      <td>2</td>\n",
              "    </tr>\n",
              "  </tbody>\n",
              "</table>\n",
              "</div>"
            ],
            "text/plain": [
              "     Review ID  ... KMeans ID\n",
              "2            3  ...         0\n",
              "6            7  ...         0\n",
              "11          12  ...         2\n",
              "16          17  ...         2\n",
              "34          35  ...         3\n",
              "85          86  ...         3\n",
              "116        117  ...         3\n",
              "135        136  ...         0\n",
              "142        143  ...         3\n",
              "149        150  ...         3\n",
              "170        171  ...         2\n",
              "235        236  ...         0\n",
              "246        247  ...         3\n",
              "265        266  ...         0\n",
              "271        272  ...         1\n",
              "275        276  ...         3\n",
              "279        280  ...         3\n",
              "284        285  ...         2\n",
              "\n",
              "[18 rows x 3 columns]"
            ]
          },
          "metadata": {},
          "execution_count": 23
        }
      ]
    },
    {
      "cell_type": "code",
      "metadata": {
        "colab": {
          "base_uri": "https://localhost:8080/",
          "height": 1000
        },
        "id": "Oi14iQKoJR0W",
        "outputId": "caf7c3d5-03dc-464e-f4c4-d63821053bed"
      },
      "source": [
        "df[df[\"Review\"].str.contains(\"ร้า \")]"
      ],
      "execution_count": 24,
      "outputs": [
        {
          "output_type": "execute_result",
          "data": {
            "text/html": [
              "<div>\n",
              "<style scoped>\n",
              "    .dataframe tbody tr th:only-of-type {\n",
              "        vertical-align: middle;\n",
              "    }\n",
              "\n",
              "    .dataframe tbody tr th {\n",
              "        vertical-align: top;\n",
              "    }\n",
              "\n",
              "    .dataframe thead th {\n",
              "        text-align: right;\n",
              "    }\n",
              "</style>\n",
              "<table border=\"1\" class=\"dataframe\">\n",
              "  <thead>\n",
              "    <tr style=\"text-align: right;\">\n",
              "      <th></th>\n",
              "      <th>Review ID</th>\n",
              "      <th>Review</th>\n",
              "      <th>KMeans ID</th>\n",
              "    </tr>\n",
              "  </thead>\n",
              "  <tbody>\n",
              "    <tr>\n",
              "      <th>14</th>\n",
              "      <td>15</td>\n",
              "      <td>ตอนเย็นๆหน่อยถ้าลงจากรถไฟฟ้าราชเทวีแล้วเดินย้อนมาทางสะพานหัวช้าง ตรงฝั่งโรงแรมเอเชีย เราอาจจะเห็นร้านส้มตำเรียงรางอยู่ริมฟุตบาทสามถึงสี่ร้านด้วยกัน \\n\\nหลายคนอาจจะอยากลองกิน แต่ไม่รู้ร้านไหนอร่อยสุด วัดจากคนที่นั่งกินอยู่ก็ไม่ได้ เพราะว่าคนเยอะเหมือนกันเกือบทุกร้าน \\n\\nวันนี้เราก็เลยจะมาบอกค่ะว่าสำหรับเราร้านไหนอร่อยสุด เผื่อว่าจะเป็นทางเลือกให้เพื่อนๆที่กำลังอยากไปลอง แต่ไม่รู้จะกินร้านไหนดี ร้านนี้ไม่มีชื่อร้านนะ เพราะฉะนั้นเราบอกพิกัดเอาน่าจะง่ายสุด \\n\\nร้านนี้ ถ้ามาจากโรงแรมเอเชียจะถึงเป็นร้านแรกเลย อยู่ใกล้ๆกับเซเว่น ประมาณตรงหน้าคริสตจักรพอดีเลย ร้านก็จะเป็นร้านรถเข็นข้างทางทั่วไป แต่ว่าสะอาดนะ \\n\\nแม่ครัวแล้วก็ผู้ช่วยใส่หมวก เก็บผม สวมผ้ากับเปื้อนครบเลย แต่งตัวก็สะอาดสะอ้านดี มาดูอาหารที่เราสั่งกันบ้างดีกว่า \\n\\nเนื่องจากไม่ได้กินส้มตำมานาน วันนี้เราจึงสั่งกันด้วยความคลุ้มคลั่ง ทั้งหมดเก้าอย่าง มาดูตามกันไปทีละอย่างแล้วกัน\\n\\nมาเริ่มที่ ส้มตำไทย อันนี้อร่อย มะละกอกรอบ กุ้งแห้งตัวใหญ่ ไม่เหม็นหืน รสชาติกลมกล่อม หวานพอดี ไม่หวานมาก \\n\\nจานต่อไปเป็นตัวซั่วปูปลาร้า รสชาติปลาร้าเข้มข้น ปลาร้าเป็นปลาร้าต้ม สะอาดและไม่เหม็น รสชาติดี ไม่เผ็ดมาก \\n\\nถัดมาเป็นตับหวาน ตับชิ้นไม่เล็กไม่ใหญ่ พอดีคำ แต่ชิ้นหนา ลวกมากำลังดี ไม่แข็งเกินไป รสชาติอร่อย กลมกล่อม แต่เผ็ดไปนิดนึง \\n\\nจานต่อไปเป็นหมูมะนาว จานนี้เราว่าไม่ค่อยเวิร์ก หมูให้มาเยอะ แต่หมูค่อนข้างแข็ง อาจจะเป็นเพราะลวกนานไป แล้วก็รสชาติยังไม่แซ่บเท่าที่ควร คือมีแต่รสเผ็ดอย่างเดียว จานนี้ไม่ผ่าน (แต่ก็หมดนะ55)\\n\\n ถัดมาเป็นคอหมูย่าง จานนี้ปลื้ม หมูติดมันหน่อยๆ ไม่มันมาก ทำให้ไม่เลี่ยน หมูชิ้นหนา เคี้ยวเต็มปากเต็มคำ จิ้มน้ำจิ้มแจ่ว อร่อยมาก \\n\\nอีกจานเป็นเนื้อย่าง อันนี้เป็นของพี่เรา เอาแบบไม่ติดมัน เลยค่อนข้างแห้งหน่อย แต่ก็ใช้ได้นะ เนื้อไม่เหนียวมาก \\n\\nถัดมาเป็นปลาเผาเกลือ จำไมได้จริงๆว่าเป็นปลาสำลี หรือปลานิล แต่ว่าเนื้อปลาสดดี หวาน เค้าแร่ปลามาสวยดี เลาะก้างตรงกลางออกให้ด้วย ทานง่ายมาก น้ำจิ้มก็อร่อยดี \\n\\nยังไม่หมดยังมีหอยแครงลวกอีก ลวกมากำลังดีไม่สุกเกิน ไม่เลือดเกิน น้ำจิ้มก็แซ่บดี \\n\\nสุดท้ายเป็นจิ้มจุ่มหมู เราเอาแต่เนื้อหมู เป็นหมูสันนอก เนื้อๆเน้นๆไม่ติดมันเลย หมูนุ่ม ไม่แข็งเลย น้ำซุปก็รสชาติกลมกล่อมดี ไม่จืด \\n\\nหมดแล้ว เยอะมาก เก้าอย่าง สาบานว่านี่กินกันสามคน เยอะมาก กินเสร็จแทบกลิ้งกลับ\\n\\n ราคาทั้งหมดนี้รวมเบียร์หนึ่งขวด โค้กลิตร น้ำแข็งสองถัง แล้วก็ข้าวเหนียวสามกระติ๊บประมาณแปดร้อยนิดๆ ไม่ถึงเก้าร้อย คุ้มยิ่งกว่าคุ้มอีก ทั้งอิ่ม ทั้งอร่อย</td>\n",
              "      <td>0</td>\n",
              "    </tr>\n",
              "    <tr>\n",
              "      <th>35</th>\n",
              "      <td>36</td>\n",
              "      <td>ร้านนี้ ใครๆก็รู้จักว่าเป็นร้านกาแฟ แต่อาหารของเค้าก็อร่อยนะ\\nตอนนี้ ถึงแม้คาร์ฟูร์ อ่อนนุช เปลี่ยนเป็นบิ๊กซี เอ็กซ์ตร้า ไปแล้ว  แต่ร้านนี้ก็ยังขายดิบขายดี ถ้าไม่รีบไปแต่วัน ก็ต้องไปคอยให้โต๊ะว่าง จะให้ดี ไปช่วง 11 โมงจะได้เลือกที่นั่งตามสบาย\\n\\nวันนี้ไปกันแค่ 2 คน เลือกจับจองโต๊ะริมหน้าต่าง สั่งเครื่องดื่มประจำ มอคค่าเย็น แต่หน้าเสียดายที่ \"น้ำมะขาม\" ถูกถอดออกจากเมนูแล้ว แต่สาขานี้ยังพอสั่งได้\\nสั่งเมนูแนะนำ ข้าวมัน-แซลมอลย่าง-ส้มตำแอปเปิ้ล ฟิวชั่นฟูดตามสมัยนิยม กับผัดไทเกี๊ยวกรอบกุ้งสด\\nถูกใจแซลมอลย่างชิ้นใหญ่ ย่างพอดีสุก สัมตำอาจจะรสอ่อนไปหน่อย ออกไปทางเปรี้ยวเนื่องจากแอปเปิ้ลเขียวรสเปรี้ยว  ส่วนผัดไทนั้น เกี๊ยวทอดกรอบกำลังดี ไม่มีกลิ่นหืนน้ำมันและไม่ไหม้เกรียม\\n\\nตอนนี้ มีโปรโมชั่นซื้อกาแฟ&amp;ชอคฯ 6 แก้วฟรี 1 แก้ว หมดเขต 15 ต.ค.54 เป็นการฉลองรางวัลชนะเลิศบาริสต้าและลาเต้อาร์ต 12 รางวัล\\n</td>\n",
              "      <td>0</td>\n",
              "    </tr>\n",
              "    <tr>\n",
              "      <th>95</th>\n",
              "      <td>96</td>\n",
              "      <td>กราบขออภัยสำหรับ...คำพูด แต่ผมมีความรู้สึกอย่างนั้นจริงๆ\\n\\n\"แฟชั่นไอซ์แลนด์\" เป็นสถานที่ที่ผมไปบ่อยมาก สำหรับการฝากท้อง การซื้อของ หรือจิบปาถะมากมาย\\nร้านอาหารก็ผ่านมาแล้วมากมาย เรียกได้ว่า ตั้งแต่ร้านน้อยใหญ่ ฟู๊ดคอร์ท ร้านไอติม ร้านกาแฟ แต่วันนี้ผมได้มามาลอง\\nกิน  ร้าน \"โพนยางคำ\" แบบ A La Carte บนสายพาน ก่อนจะย่างเข้าไป ก็ตามธรรมชาติของผม อ่านโปสเตอร์หน้า\\nร้านบ้าง อ่านคำแนะนำตัวใหญ่ๆบ้าง แต่คงอ่านไม่ละเอียดเท่าไหร่ เห็นแว่บ แว๊บแหละ \\n\\n\"เนื้อประมาณเทพ บร่า บรา บรา ทาน 4 จานจ่าน 3 จาน\" และอีกหลายแผ่นโฆษณา แบบลวกๆ\\n\\nเดินเข้าไปเห็นอาหารเรียงรายบนสายพาน ได้โต๊ะด้านหลังๆ ระยะการเดินไปที่โต๊ะสังเกตุอาหารบนสายพานประเมินด้วยสายตา\\n\\nจานของคาว ไม่น่าเกิน 8-9 อย่าง ผัก 3-4 อย่าง ของหวานก็มีบนสายพานอีกนิดหน่อย ก็รู้สึกนิดๆนะว่าเออมันจะมีอะไรกินบ้างหนอ เอาวะไหนไหน ก็เข้ามาแล้ว ลองดูสักตั้งก็ไม่เป็นไร\\n\\nวันนี้ผมมาผู้ใหญ่ กินเยอะ 2 ท่าน ไม่ค่อยกินหุ่นนางงาม 2 ท่าน เด็กเล็กประมาณจิ้มไส้กรอก 2 ชิ้นอิ่ม 3 โลกอนาคต\\nอยู่ได้แบบ สบาย สบาย\\n\\nนั่งแฟ่บ มีเมนู มาวางพร้อมพนักงาน พร้อมสั่ง เมนูคล้ายกับร้านที่แถวนวลจันทร์แต่น้อยกว่าเยอะคือมีส้มตำ หลายตำ\\nคอหมูย่าง ไส้ย่าง เนื้อย่าง .... .... .... เบสิคอีสานฟู๊ด\\n\\nราคาอาหารบนสายพานมีบอกในเมนูชัดเจน ม่วง 19.-  ชมพู 39.-  เขียว 49.-  เหลือง 59.-  แดง 79.-  ขาว 169.- น้ำรีฟิว 29 \\n\\nบนโต๊ะมีเตาให้ 2 แบบ หรือจะเลือกเหมือนกันก็ได้คือ เตากะทะ(เตาดาด) หม้อชาบู (หม้อจุ่ม) น้ำซุป 3-4 อย่างให้เลือก ต้มยำ ชาบู ฯ\\n\\nส่งเตาเสร็จก็หันมาหาของสดบนสายพาน โอแม่เจ้า จาน 19 บาท เห็นจะมีไม่กี่อย่าง ตัวอย่างเช่น ผักบุ้งประมาณ ลวกแล้ว สัก 2 คำตะเกียบผู้หญิงน่าจะหมด สำหรับผมคำเดียวหมด ข้าวเปล่า ตักแบบทัพพีเดียว นึกถึงถ้วยร้านข้าวต้ม ตักมาแบบไม่เต็มถ้วย \\nราคา 19 บาท(เจ๊ด....เห้) ข้าวโพดผ่าแบบแบ่งครึ่ง 3 ครึ่ง 19 บาท \\n\\nหันมามองจาน 39 บาท มีเห็ดฟางแบ่งครึ่ง 6 ชิ้นเท่ากันทุกจาน แทบยังไม่เห็นเนื้อสัตว์ เห็นก็แต่ลูกชิ้นสีแดงคล้ายลูกชิ้นเอ็มเค แต่มันไม่ใช่ เข้าใจว่ากินเข้าไปคงจะ....บรา บร่า บร้า บร๊า บร๋า (ผันได้ 5 เสียงอักษรเสียงกลาง)\\n\\nขยับมามองที่พอกินได้ 49 ขึ้นไปเป็นพวกเนื้อหมูมันมากกว่าครึ่งของชิ้นเนื้อ 1 จาน 4 ชิ้นนิ้ว(กลาง) บางเฉียบ\\n\\nด้วยระบบประมวลผลในสมองที่จบมาทางสายคำนวนเล็งเห็นแล้วว่า เอายันอิ่ม แมร่งคงพอตัวเป็นแน่แท้แล้วท่านเสมา\\n\\nแต่ไม่เป็นไรนะ ไหนมาแล้ว มันต้องลองกินดูว่าสุดท้ายมันจะจบลงที่เท่าไหร่\\n\\nจาน 79 เป็นเนื้อวัวชั้นเลิศ ผมไม่ปฎิเสธว่ามันอร่อย ผมกินสันนอก หรือเซอร์ลอยด์ สักชิ้น ร้านดาดๆก็ต้องมี 400 ขึ้น\\nถ้าเทพๆก็เฉียดพัน ผมว่านื้อที่นี้ที่จานละ 79 บาทที่ถือรสชาดผ่านในราคา 79 บาทคือ เนื้อสันหมักซอส จานละ 4 ชิ้นที่ผมถือว่าคุ้มจริง เนื้อนุ่มตลอด ไม่มีเส้นผังพืดใดๆมารบกวน นิ่มตั้งแต่เคี้ยวแรก นอกนั้นผมว่า \"กระจอก\" \\n\\nผมมาทานที่ที่นี้ไม่ปฏิเสธถึงคุณภาพของอาหาร รสชาด แต่สิ่งที่ผมมักพูดเสมอๆในรีวิวของผมคือ \"มันคุ้มหรือเปล่า\"\\nคุณให้อะไรผู้บริโภค ผมเป็นคนไม่ได้กลัวหรือยำเกรงกับการทานอาหารมื้อละหลายๆเงิน เรียกได้ว่า เจ๊งกับการกินมานับไม่ถ้วน กินมันตั้งแต่ก๋วยเตี๋ยว ยัน.... .... ราคาสวรรค์ แต่สิ่งที่สรรหา คือมันควรคู่กับเงินที่เสียไปหรือเปล่า\\n\\nกินวันนี้ เด็กกินไปไม่กี่คำ ผมกับหลานหนักสุดซัดไปเรื่อยๆ ผู้หญิงสองท่านที่มาด้วยก็ไม่ได้มากมายจนอิ่มอืด รวมถึงตัวผมที่นอกจากไม่ได้พิสมัยกับความไม่หลากหลาย รวมถึงขัดใจกับราคาอาหารต่อหน่วย บอกได้เลยว่าผมไม่ได้ครึ่งกระเพาะ\\nโดนบิลไป 2800 กว่าบาท เดินโง่เสียวุฒิภาวะทางมันสมองออกมาจากร้านเลย\\n\\n\\nถ้าที่นี้ผมพูดได้คำเดียว สำหรับตัวผม \"โง่ฉิบหาย\" (ด่าตัวเองครับ)\\n</td>\n",
              "      <td>3</td>\n",
              "    </tr>\n",
              "    <tr>\n",
              "      <th>165</th>\n",
              "      <td>166</td>\n",
              "      <td>ร้านกาแผนรสิงห์ ณ วังพญาไท กับบรรยากาศคลาสสิค ในสไตล์ยุโรป ณ พระที่นั่งพิมานจักรี  ตัวอาคารก่อด้วยอิฐสวยงาม มี2 ชั้น เก้าฮี้และโต๊ะ ตกแต่งอย่างมีสไตล์มากๆๆ  ราคาของกาแฟจะตกอยู่ที่ประมาณ 45-55 บาท เมนูที่แนะนำคือ เค้กชาไทย กาแฟนรสิงห์ นอกจากนี้ยังมี อาหารคาวอีก คือ ข้าวหมูอบสไตล์ฝรั่งเศสหมูเค็มขนมปังปิ้งสลัดผัก สลัดแฮม ;waffles ร้านนี้เหมาะการถายรูปหรือมากับแฟนมากๆๆ เนื่องจาก บรรยากาศจะโรแมนติก สุดสุดและรับรองการสวีทกันแน่นอนคร้า</td>\n",
              "      <td>2</td>\n",
              "    </tr>\n",
              "    <tr>\n",
              "      <th>195</th>\n",
              "      <td>196</td>\n",
              "      <td>ส้มตำสมุทรปราการ มีร้านอร่อยเด็ด ๆ อยู่หลายร้าน ร้านเด่น ๆ ก็เช่น ส้มตำดนตรีแฟรนไชส์ชื่อดังที่ไม่หวงผงชูรส ร้านส้มตำพระคุณแม่กลางตลาดปากน้ำที่แอนตี้ผงชูรสสุด ๆ แต่อร่อยสุด ๆ เช่นกัน แต่สำหรับเขตบางพลีบางบ่อ ครูเม้งขอยกนิ้วกดไลค์ให้ \"ส้มตำโปงลาง\"\\n\\nสำหรับคนที่มาจากถนนบางนา-ตราด ให้กลับรถที่สะพานกลับรถ กม.29 บริเวณปากทางเข้า ม.เอแบค บางนา เพื่อมาเลี้ยวซ้ายเข้าชุมชนบางบ่อ เมื่อเลี้ยวแล้ว ให้ตรงไปประมาณ 200 เมตร สังเกตหมู่บ้านกัลปพฤกษ์ทางซ้ายมือ แล้วเลี้ยวเข้าไปได้เลย ร้านจะอยู่ทางขวามือเมื่อเลี้ยวเข้ามาได้ 50 เมตร หน้าร้านมีการปลูกต้นไม้เพื่อดักฝ๊่นเยอะ ๆ\\n\\nส่วนคนที่มาจากถนนสุขุมวิทสายเก่า หรือถนนเทพารักษ์ ให้เข้ามาที่บริเวณที่ว่าการอำเภอบางบ่อเสียก่อนจากนั้นขับตรงขึ้นไปผ่านตลาดสด ยาวไปอีก 2 กิโลเมตร จะเห็นหมู่บ้านกัลปพฤกษ์ทางขวามือ ก็เลี้ยวขวาเข้าไปเลยเช่นกัน\\n\\nส้มตำโปงลางเปิดสัปดาห์ละ 6 วันยกเว้นวันอาทิตย์   ร้านเปิดประมาณ 11 โมงเช้า ปิดประมาณ 3 ทุ่ม ควรหลีกเลี่ยงช่วงเที่ยง และ 6 โมงเย็นเพราะจะมีข้าราชการมากินเยอะมาก ส่วนเย็นวันศุกร์จะเป็นการรวมตัวของสาวโรงงานและหัวหน้างานที่วุ่นวายยิ่งกว่า\\n\\nเมื่อจอดรถบริเวณรอบ ๆ ร้านเรียบร้อย ก็เข้าไปเลือกที่นั่ง จะมีกระดาษและดินสอที่โต๊ะ ให้เลือกติ๊กรายการที่ต้องการ แต่กรุณาเลือกด้วยความรอบคอบ แม้ราคาจะไม่สูงคือ จานละ 40-50 บาท แต่หากเลือกหลายอย่าง อาจตกใจกับราคารวมได้\\n\\nครูเม้งขอเรียกร้านนี้ว่าส้มตำตามใบสั่งนะครับ ร้านนี้อยากกินแบบไหนให้จดลงไปในใบสั่งนั่น ห้ามสั่งปากเปล่า พนักงานจะทำไม่รับรู้ เว้นแต่คุณจะรวยมาก มากินบ่อย หรือสั่งครั้งละเป็นพันบาทขึ้นไป อ้อ หรือขับรถเบนซ์มาเท่านั้น จึงจะได้รับบริการที่แตกต่างอย่างเห็นได้ชัด เช่น หากคุณไม่กินเผ็ด ไม่กินปลาร้า จงเขียนสั่งลงไปในใบนั่นด้วย การบอกปากเปล่า อาจทำให้ส้มตำถั่วกระจกของคุณเผ็ดจี๋และกลิ่นตุ ๆ ได้ครับ\\n\\nอาหารเด็ดที่นี่นอกจากส้มตำแล้ว ก็คือไก่ย่าง อร่อยดี แต่เป็นแม่ไก่สาวตัวน้อย ยังไม่โตมาก ย่างขายเป็นตัว และเสิร์ฟเป็นตัวเท่านั้น ราคาตัวละ 120 บาทถ้วน !!! นอกจากนั้นโต๊ะไหนมาก็ต้องสั่ง ก็มี ไก่ทอดน้ำปลา เป็นน่องเล็ก ผ่าแบ ๆ เอาไปหมักซอสถั่วเหลืองจนเค็มลงทอดจนเหลือง เสิร์ฟจานละ 4 ชิ้น 60 บาท .. อีกอย่าง คือ ไก่ทอดโปงลาง ก็คือ ไก่ทอดแบบที่ BTS อ่อนนุช ใช้ส่วนต้นขาไก่ที่มีกระดูกสองชิ้น มาหมักเครื่องเทศและสมุนไพร ลงทอดร้อนจัดแล้วเสิร์ฟเช่นกัน\\n\\nนอกจากนั้นที่สาวโรงงานชอบสั่งก็เช่น เส้นหมี่ลวก มากินกับส้มตำ คงอร่อย เห็นร้อน ควันขึ้นฉุยเลย สั่งกันทุกโต๊ะ นอกจากนั้น ก็มีต้มเกาเหลาลูกชิ้นหมูเอาไว้ซดน้ำเล่น ๆ\\n\\nทุกอย่างครูเม้งชอบหมดนะ เว้นแต่เรื่องความสะอาดนี่แหละ เพราะนอกจากจะไม่ค่ยล้างครกแล้ว ถุงพลาสติกที่ใส่ข้าวเหนียวมาในกระติบ ยังไม่เปลี่ยนอีกด้วย ที่ทราบ เพราะเห็นมากับตา เขามานั่งทำตอนคนซาแล้วใกล้ ๆ โต๊ะที่ครูเม้งทาน หัวหน้าแม่ครัวจะบรรจงเอากระติบเปล่าที่คนกินแล้ว มาจัดถุงให้เข้าที่ แล้วปิดฝาพร้อมใส่ข้าวเหนียวใหม่ลงไปก่อนเสิร์ฟ หรือนี่อาจเป็นเหตุผลที่คนแถวนี้กินแต่ข้าวเปล่ากับเส้นหมี่ของร้านนี้ ไม่กินข้าวเหนียวกระมัง ที่สำคัญ ข้าวเหนียวกระติบละ 10 บาท บางลูกเราอาจคิดว่า 2 บาทเพราะมันน้อยมาก หากไปคนเดียวคงเรียกมาถามละ แต่คนที่ไปด้วยเขาขี้เกรงใจคนสุด ๆ เวลาครูเรียกพวกคนขายมาถาม โดนบ่นทุกที\\n\\nเอาเป็นว่าใครจะลองไปกินก็ระวังเรื่องนี้เอาเองละกัรนะครับ สำหรับครูเม้ง กินเสร็จก็จะแกะถุง เอาออกมาทิ้งครับ เผื่อคนขายจะสำนึก แต่ไม่รู้ว่าที่นี่ล้างหลอดเหมือนร้านส้มตำดนตรีหรือเปล่านะ จำไม่ได้ละ เพราะหลัง ๆ ไม่ได้ไปกินช่วงหลางวันแล้ว ไม่เข้าใจว่าจะลดคอสต์แบบประหลาด ๆ ไปทำไมกัน หลอดที่ล้างนี่คือ หลอดเก่าที่มีคนใช้แล้วนะครับ เอามาล้างแล้วตากแดด พร้อมเสิร์ฟใหม่ เฮ้อ น่ากลัว\\n\\n\\n</td>\n",
              "      <td>3</td>\n",
              "    </tr>\n",
              "    <tr>\n",
              "      <th>197</th>\n",
              "      <td>198</td>\n",
              "      <td>ส้มตำอร่อยนะ ถ้าใครชอบรสจัด ตอนสั่ง สั่งปูปลาร้า กับตำไทยไข่เค็ม เราชอบส้มตำเลยรู้สึกว่าอร่อย แต่แฟนเราบอกว่าเฉยๆ คราวหน้าถ้าได้ไปปายอีกจะไปกิน &gt;_&lt;  รสจัด เส้นมะละกอกรอบ น้ำปลาร้า สุโค่ย หากินรสชาติแบบนี้ในกรุงยากมาก แต่เข้าร้านไปแล้วจะงงว่าต้องสั่งอาหารยังไง ก็เราไม่ใช่คนพื้นที่นี่ ไปครั้งแรก คนก็เยอะๆดูวุ่นวาย ต้องแรกคูปองแล้วพออาหารมาก็ค่อยจ่าย (ตอนแรกแอบเซร็ง serviceไม่ค่อยดี แต่พออาหารมาก็พอจะให้อภัย)</td>\n",
              "      <td>3</td>\n",
              "    </tr>\n",
              "  </tbody>\n",
              "</table>\n",
              "</div>"
            ],
            "text/plain": [
              "     Review ID  ... KMeans ID\n",
              "14          15  ...         0\n",
              "35          36  ...         0\n",
              "95          96  ...         3\n",
              "165        166  ...         2\n",
              "195        196  ...         3\n",
              "197        198  ...         3\n",
              "\n",
              "[6 rows x 3 columns]"
            ]
          },
          "metadata": {},
          "execution_count": 24
        }
      ]
    },
    {
      "cell_type": "code",
      "metadata": {
        "colab": {
          "base_uri": "https://localhost:8080/",
          "height": 876
        },
        "id": "PLkzmoPLKXUF",
        "outputId": "8d7331a3-fa42-4c87-ace5-66d2d5571c1c"
      },
      "source": [
        "df[df[\"Review\"].str.contains(\"นอ \")]"
      ],
      "execution_count": 25,
      "outputs": [
        {
          "output_type": "execute_result",
          "data": {
            "text/html": [
              "<div>\n",
              "<style scoped>\n",
              "    .dataframe tbody tr th:only-of-type {\n",
              "        vertical-align: middle;\n",
              "    }\n",
              "\n",
              "    .dataframe tbody tr th {\n",
              "        vertical-align: top;\n",
              "    }\n",
              "\n",
              "    .dataframe thead th {\n",
              "        text-align: right;\n",
              "    }\n",
              "</style>\n",
              "<table border=\"1\" class=\"dataframe\">\n",
              "  <thead>\n",
              "    <tr style=\"text-align: right;\">\n",
              "      <th></th>\n",
              "      <th>Review ID</th>\n",
              "      <th>Review</th>\n",
              "      <th>KMeans ID</th>\n",
              "    </tr>\n",
              "  </thead>\n",
              "  <tbody>\n",
              "    <tr>\n",
              "      <th>95</th>\n",
              "      <td>96</td>\n",
              "      <td>กราบขออภัยสำหรับ...คำพูด แต่ผมมีความรู้สึกอย่างนั้นจริงๆ\\n\\n\"แฟชั่นไอซ์แลนด์\" เป็นสถานที่ที่ผมไปบ่อยมาก สำหรับการฝากท้อง การซื้อของ หรือจิบปาถะมากมาย\\nร้านอาหารก็ผ่านมาแล้วมากมาย เรียกได้ว่า ตั้งแต่ร้านน้อยใหญ่ ฟู๊ดคอร์ท ร้านไอติม ร้านกาแฟ แต่วันนี้ผมได้มามาลอง\\nกิน  ร้าน \"โพนยางคำ\" แบบ A La Carte บนสายพาน ก่อนจะย่างเข้าไป ก็ตามธรรมชาติของผม อ่านโปสเตอร์หน้า\\nร้านบ้าง อ่านคำแนะนำตัวใหญ่ๆบ้าง แต่คงอ่านไม่ละเอียดเท่าไหร่ เห็นแว่บ แว๊บแหละ \\n\\n\"เนื้อประมาณเทพ บร่า บรา บรา ทาน 4 จานจ่าน 3 จาน\" และอีกหลายแผ่นโฆษณา แบบลวกๆ\\n\\nเดินเข้าไปเห็นอาหารเรียงรายบนสายพาน ได้โต๊ะด้านหลังๆ ระยะการเดินไปที่โต๊ะสังเกตุอาหารบนสายพานประเมินด้วยสายตา\\n\\nจานของคาว ไม่น่าเกิน 8-9 อย่าง ผัก 3-4 อย่าง ของหวานก็มีบนสายพานอีกนิดหน่อย ก็รู้สึกนิดๆนะว่าเออมันจะมีอะไรกินบ้างหนอ เอาวะไหนไหน ก็เข้ามาแล้ว ลองดูสักตั้งก็ไม่เป็นไร\\n\\nวันนี้ผมมาผู้ใหญ่ กินเยอะ 2 ท่าน ไม่ค่อยกินหุ่นนางงาม 2 ท่าน เด็กเล็กประมาณจิ้มไส้กรอก 2 ชิ้นอิ่ม 3 โลกอนาคต\\nอยู่ได้แบบ สบาย สบาย\\n\\nนั่งแฟ่บ มีเมนู มาวางพร้อมพนักงาน พร้อมสั่ง เมนูคล้ายกับร้านที่แถวนวลจันทร์แต่น้อยกว่าเยอะคือมีส้มตำ หลายตำ\\nคอหมูย่าง ไส้ย่าง เนื้อย่าง .... .... .... เบสิคอีสานฟู๊ด\\n\\nราคาอาหารบนสายพานมีบอกในเมนูชัดเจน ม่วง 19.-  ชมพู 39.-  เขียว 49.-  เหลือง 59.-  แดง 79.-  ขาว 169.- น้ำรีฟิว 29 \\n\\nบนโต๊ะมีเตาให้ 2 แบบ หรือจะเลือกเหมือนกันก็ได้คือ เตากะทะ(เตาดาด) หม้อชาบู (หม้อจุ่ม) น้ำซุป 3-4 อย่างให้เลือก ต้มยำ ชาบู ฯ\\n\\nส่งเตาเสร็จก็หันมาหาของสดบนสายพาน โอแม่เจ้า จาน 19 บาท เห็นจะมีไม่กี่อย่าง ตัวอย่างเช่น ผักบุ้งประมาณ ลวกแล้ว สัก 2 คำตะเกียบผู้หญิงน่าจะหมด สำหรับผมคำเดียวหมด ข้าวเปล่า ตักแบบทัพพีเดียว นึกถึงถ้วยร้านข้าวต้ม ตักมาแบบไม่เต็มถ้วย \\nราคา 19 บาท(เจ๊ด....เห้) ข้าวโพดผ่าแบบแบ่งครึ่ง 3 ครึ่ง 19 บาท \\n\\nหันมามองจาน 39 บาท มีเห็ดฟางแบ่งครึ่ง 6 ชิ้นเท่ากันทุกจาน แทบยังไม่เห็นเนื้อสัตว์ เห็นก็แต่ลูกชิ้นสีแดงคล้ายลูกชิ้นเอ็มเค แต่มันไม่ใช่ เข้าใจว่ากินเข้าไปคงจะ....บรา บร่า บร้า บร๊า บร๋า (ผันได้ 5 เสียงอักษรเสียงกลาง)\\n\\nขยับมามองที่พอกินได้ 49 ขึ้นไปเป็นพวกเนื้อหมูมันมากกว่าครึ่งของชิ้นเนื้อ 1 จาน 4 ชิ้นนิ้ว(กลาง) บางเฉียบ\\n\\nด้วยระบบประมวลผลในสมองที่จบมาทางสายคำนวนเล็งเห็นแล้วว่า เอายันอิ่ม แมร่งคงพอตัวเป็นแน่แท้แล้วท่านเสมา\\n\\nแต่ไม่เป็นไรนะ ไหนมาแล้ว มันต้องลองกินดูว่าสุดท้ายมันจะจบลงที่เท่าไหร่\\n\\nจาน 79 เป็นเนื้อวัวชั้นเลิศ ผมไม่ปฎิเสธว่ามันอร่อย ผมกินสันนอก หรือเซอร์ลอยด์ สักชิ้น ร้านดาดๆก็ต้องมี 400 ขึ้น\\nถ้าเทพๆก็เฉียดพัน ผมว่านื้อที่นี้ที่จานละ 79 บาทที่ถือรสชาดผ่านในราคา 79 บาทคือ เนื้อสันหมักซอส จานละ 4 ชิ้นที่ผมถือว่าคุ้มจริง เนื้อนุ่มตลอด ไม่มีเส้นผังพืดใดๆมารบกวน นิ่มตั้งแต่เคี้ยวแรก นอกนั้นผมว่า \"กระจอก\" \\n\\nผมมาทานที่ที่นี้ไม่ปฏิเสธถึงคุณภาพของอาหาร รสชาด แต่สิ่งที่ผมมักพูดเสมอๆในรีวิวของผมคือ \"มันคุ้มหรือเปล่า\"\\nคุณให้อะไรผู้บริโภค ผมเป็นคนไม่ได้กลัวหรือยำเกรงกับการทานอาหารมื้อละหลายๆเงิน เรียกได้ว่า เจ๊งกับการกินมานับไม่ถ้วน กินมันตั้งแต่ก๋วยเตี๋ยว ยัน.... .... ราคาสวรรค์ แต่สิ่งที่สรรหา คือมันควรคู่กับเงินที่เสียไปหรือเปล่า\\n\\nกินวันนี้ เด็กกินไปไม่กี่คำ ผมกับหลานหนักสุดซัดไปเรื่อยๆ ผู้หญิงสองท่านที่มาด้วยก็ไม่ได้มากมายจนอิ่มอืด รวมถึงตัวผมที่นอกจากไม่ได้พิสมัยกับความไม่หลากหลาย รวมถึงขัดใจกับราคาอาหารต่อหน่วย บอกได้เลยว่าผมไม่ได้ครึ่งกระเพาะ\\nโดนบิลไป 2800 กว่าบาท เดินโง่เสียวุฒิภาวะทางมันสมองออกมาจากร้านเลย\\n\\n\\nถ้าที่นี้ผมพูดได้คำเดียว สำหรับตัวผม \"โง่ฉิบหาย\" (ด่าตัวเองครับ)\\n</td>\n",
              "      <td>3</td>\n",
              "    </tr>\n",
              "    <tr>\n",
              "      <th>249</th>\n",
              "      <td>250</td>\n",
              "      <td>ล่วงเลยวันเกิดเพื่อนสนิทอีกคนมานานมากกกก \\n(คือ เดือนที่แล้ว แหะ แหะ)\\nก็เลยพามาสวีทกันตามประสาสาวโสด ????\\n\\nจริงๆ ตอนแรกชวนเจ้าของวันเกิดเดือนกรกฎาคมมา แต่ไม่ว่างมา เลยคิดว่าอาจจะไม่ได้มาแล้ว \\nแต่พอดีเพื่อนอยากมา ก็เลยพามาละกัน\\n(อยากมามาก ถึงขั้นเตรียมdressมาเปลี่ยนกันเลยงี้)\\n\\nเจ้าของเรือ จะแจ้งเวลาออกเรือมาล่วงหน้า เพราะมี 2 รอบ คือ \\nSunset dinner cruise 18.00-20.00 กับ ...\\nBangkok by night 20.30-22.30\\nใช้เวลา 2 ชั่วโมงในการชื่นชมทรรศนียภาพริม 2 ฝั่งแม่น้ำเจ้าพระยา และเพลิดเพลินกับรสชาติอาหารจากครัวที่มีชื่อเสียง อย่าง Mango tree\\n\\nทางเรือจะให้มารอล่วงหน้าอย่างน้อย 10 นาที พีเลยต้องแอบแว๊บงานมาตอน 4 โมงกว่าๆเพื่อมุ่งหน้าไปยัง Asiatique ที่เป็นสถานที่ที่เรืิอจะมาคอยรับ\\n\\nขึ้นเรือมาปุ๊บ พนักงานต้อนรับก็มาพร้อมพวงมาลัย และเชิญไปที่โต๊ะ ถ้าคนไม่เยอะมาก สามารถเลือกโต๊ะนั่งเองได้เลยว่าจะนั่ั่งไหน นั่งเรียบร้อย พนักงานจะมีผ้าเย็นผสมกลิ่นการบูรมาเสิร์ฟ เพื่อเพิ่มความสดชื่นก่อนเริ่มเดินทาง\\n(ส่วนตัว ไม่ชอบกลิ่นอะไรแรงๆ เลยวางไว้เฉยๆ)\\n\\nออกเดินทางได้ซักพัก เค้าก็เริ่มต้นด้วย ของทานเล่นก่อนเลย \\n\\n- Fried vegetable spring roll with crispy fries noodles -\\nมาจานย่อมๆ น่ารัก เป๊าะเปี๊ยะทอดมากรอบ แอบอมน้ำมันนิดหน่อย ไส้ด้านในมีวุ้นเส้น รสชาติหวานจากผัก อร่อยดีค่ะ ส่วนหมี่กรอบ ชอบมากกกกก กรอบ ร่วน หวานอมเปรี้ยว อร่อยค่ะ!!\\n\\nหลังจากเสิร์ฟของว่างก่อน ก็ปล่อยให้เพลิดเพลินกับวิวรอบด้านเรือเล็กน้อย เรือจะสร้างให้เห็นวิวทั้ง 2 ด้าน ด้านหน้าก็มีพื้นที่ให้เดินไปถ่ายรูปกับสะพานสวยๆ อย่างสะพานพระราม 8 ได้ด้วย (ถ้าฝนไม่ตก)\\n\\n*ถ้าฝนตก เค้าก็จะมีแผ่นพลาสติกใสมากันด้านหน้าและรอบๆ ให้ค่ะ \\n\\nลืมบอกว่า เรืออันนี้ค่อนข้าง privateมาก เพราะเค้าไม่ได้เน้นจำนวนคน แต่เน้นความหรู โรแมนติก \\n(จริงๆ ควรมากับหนุ่มนะเนี่ย ????)\\nและเป็นส่วนตัว เพราะจะมีแค่ 20กว่าโต๊ะเท่านั้น \\n\\nกลับมาเรื่องอาหารกันต่อ \\n- Mixed Thai appetisers - มี 4 อย่าง\\n@ Pomelo salad\\nยำส้มโอ เป็นอาหารไทยที่หาทานไม่ได้เยอะตามทั่วไป ทานแล้วสดชื่นมาก เพราะส้มโอออกเปรี้ยวอมหวาน เข้ากับน้ำยำที่ทำมารสชาติไม่เหมือนให้คนต่างชาติทาน แต่รสชาติออกไทยเลยค่ะ \\n@ Pla goong\\nกุ้งมา 1 ตัวใหญ่พอดีคำเลยค่ะ เนื้อกุ้งสด หวาน น้ำยำก็เปรี้ยว กลมกล่อม\\n@ Yum makua\\nยำมะเขือ พีไม่ค่อยทานมะเขือเท่าไหร่ แต่อันนี่ทานแล้ว ไม่มีกลิ่นเหม็นเขียว นุ่ม รสชาติจัดดี ออกหวานมะเขือด้วยค่ะ\\n@ Nua namtok\\nเนื้อน้ำตก ตอนแรกเพื่อนจะกินแล้ว พอรู้ว่าเป็นเนื้อ ส่งมาให้พีเลยค่ะ เนื้อนุ่มมาก หอม ยำมาได้รสชาติกำลังดี เปรี้ยวเค็ม ครบทุกรส หอมข้าวคั่ว\\n\\nก่อนถึง Main course มีคั้นด้วยซุป\\n- Tom yum with River prawn -\\nอันนี้เก๋มาก ในวิธีการเสิร์ฟ พอดีพีกับเพื่อนไปถ่ายรูปที่หัวเรือเพลิน เดินกลับมามีจานพร้อมฝาครอบอยู่บนโต๊ะ พอนั่งปุ๊บ พนักงานก็มาเปิดฝา พร้อมบีบมะนาวลงไป ตามด้วยกา เทน้ำต้มยำราดเห็ดและกุ้งแม่น้ำที่อยู่ในจาน \\nรสชาติ เข้มข้นกำลังดี หวาน เปรี้ยว กลมกล่อม เนื้อกุ้งแม่น้ำ นุ่ม ไม่สาก อร่อยดีค่ะ พีประทับใจตั้งแต่กรรมวิธีละ 55555\\n\\nก่อนเริ่มmain course เค้าจะมี Lime sorbet เพื่อล้างปากก่อนด้วย เก๋มาก!! รสชาติเปรี้ยว หวาน อร่อยค่ะ ติดใจ!!!!! แต่มาแก้วเล็กๆ เท่านั้นเอง\\n(เกือบไม่ดื่มละ เพราะคิดว่ามีแอลกอฮอล์)\\n\\nMain course \\n*เค้าจะมีให้เลือก 4 อย่าง พีได้ชิม 3 อย่าง เอ๊ะ! ยังไง\\n- Bone-in organic pork chop with Panang sauce - (ของพี)\\nพีเป็นคนไม่ชอบทานแกงกะทิทั้งหลาย เพราะไม่ค่อยชอบพวกเครื่องเทศ แต่ยอมเลยกับpork chopจานนี้ สีสันน่าทานสุดๆ เนื้อหมูนุ่มมากกก ไม่ต้องใช้มีด ก็เลาะออกมากินได้ง่ายมาก นุ่ม สุกกำลังดี เครื่องแกงก็ไม่เผ็ดมาก ถึงเครื่องสุดๆ เข้นข้ม มัน รสชาติกลมกล่อม อร่อยค่ะ พีทานหมดชิ้นเลย \\nเสิร์ฟมาพร้อมข้าวกล้อง แครอทและบล๊อคโคลี่ลวก\\n\\n- Grain fed slow-cooked Angus beef rib with Green curry sauce - (ของเจ้าของเรือ)\\nพอดีเจ้าของเรือ เดินทางมาด้วย เลยได้พูดคุยจนมานั่งร่วมโต๊ะด้วย เค้าเลยบอกว่าอันนี้เป็นอีก 1 เมนูที่เค้าภูมิใจนำเสนอ แบ่งมาให้ทาน ชิ้นนึง\\nปกติชอบทานเนื้ออยู่แล้ว อยากบอกว่า เนื้อเลาะออกง่ายมาก นุ่มมมม ไม่เหนียวเลย แถมแกงเขียวหวานก็ซึมเข้าเนื้อเลยค่ะ สำหรับคนชอบหวานน่าจะชอบ เพราะแกงเขียวหวาน รสชาติค่อนไปทางหวานสมชื่อ\\n\\n- Grilled sea Tiger prawn with garlic lime sauce - (ของเพื่อนสาว)\\nอันนี้ก็ให้เพื่อนตัดมาชิ้นเล็ก ๆ ชิมนิดหน่อย พอรู้รสชาติได้บ้าง กลิ่นกระเทียมหอม กุ้งเนื้อนุ่ม หวานปนเค็มเล็กๆ เสิร์ฟพร้อมน้ำจิ้มซีฟู้ด เพื่อนบอกอร่อยค่ะ \\n\\nสุดท้าย แต่ไม่ท้ายสุด \\nDessert \\n- ข้าวเหนียวมะม่วง + caramel pudding topping ด้วยลิ้นจี่+ขนุน -\\nอร่อยมากกกกกกก ทั้ง 2 อย่างเลย \\nข้าวเหนียวมะม่วง มะม่วงหวานกำลังดี ทานพร้อมกับข้าวเหนียวที่ชุ่มด้วยน้ำกะทิเข้มข้น อร่อย และฟินนนนนนสุดๆ \\nพุดดิ้งหอมกลิ่นคาราเมล แต่ไม่หวานเลี่ยนอย่างที่คิด แต่ชอบตรงรสชาติของลิ้นจี่และขนุน ที่ทำให้แปลกใหม่และอร่อยลงตัวสุดๆ แทบอยากจะขออีกที่เลยค่ะ!! \\n* เจ้าของบอกว่า ข้าวเหนียวมะม่วงจะคงไว้ทุกฤดูกาล แต่พุดดิ้ง อาจจะสลับเปลี่ยนไปเป็นเมนูอื่นๆ บ้าง\\n\\nสุดท้ายเค้าจะเสิร์ฟ กาแฟ/ชาให้ล้างปาก ก่อนจบทริป\\n\\nตลอดทางจะได้ชมทรรศนียภาพ ริมฝั่งแม่น้ำ ทั้งสะพานซังฮี้ วัดอรุณ วัดพระแก้ว พระบรมราชวัง ศิริราช และจบที่สะพานพระราม 8 แล้วย้อนกลับมาที่Asiatique \\n\\nค่าเสียหาย 2000+7% vat+10% service charge กับ 6 Thai fusion course set menu และบรรยากาศโรแมนติก ก็ถือว่าคุ้มนะคะ \\n\\nใครมีแขกบ้านแขกเมือง เพื่อนต่างชาติ หรือต้องการพาคู่มาสวีท พามาได้เลยนะคะ รับรอง เค้าจะประทับใจอย่างแน่นอน ????</td>\n",
              "      <td>0</td>\n",
              "    </tr>\n",
              "  </tbody>\n",
              "</table>\n",
              "</div>"
            ],
            "text/plain": [
              "     Review ID  ... KMeans ID\n",
              "95          96  ...         3\n",
              "249        250  ...         0\n",
              "\n",
              "[2 rows x 3 columns]"
            ]
          },
          "metadata": {},
          "execution_count": 25
        }
      ]
    },
    {
      "cell_type": "code",
      "metadata": {
        "colab": {
          "base_uri": "https://localhost:8080/",
          "height": 1000
        },
        "id": "pbf8Iri4O7Ys",
        "outputId": "abb56aae-88c5-42d2-914d-b2557027c67f"
      },
      "source": [
        "df[df[\"Review\"].str.contains(\"วัง\")]"
      ],
      "execution_count": 26,
      "outputs": [
        {
          "output_type": "execute_result",
          "data": {
            "text/html": [
              "<div>\n",
              "<style scoped>\n",
              "    .dataframe tbody tr th:only-of-type {\n",
              "        vertical-align: middle;\n",
              "    }\n",
              "\n",
              "    .dataframe tbody tr th {\n",
              "        vertical-align: top;\n",
              "    }\n",
              "\n",
              "    .dataframe thead th {\n",
              "        text-align: right;\n",
              "    }\n",
              "</style>\n",
              "<table border=\"1\" class=\"dataframe\">\n",
              "  <thead>\n",
              "    <tr style=\"text-align: right;\">\n",
              "      <th></th>\n",
              "      <th>Review ID</th>\n",
              "      <th>Review</th>\n",
              "      <th>KMeans ID</th>\n",
              "    </tr>\n",
              "  </thead>\n",
              "  <tbody>\n",
              "    <tr>\n",
              "      <th>4</th>\n",
              "      <td>5</td>\n",
              "      <td>ชอบมาทานร้านนี้ถ้าอยากกินอาหารเวียดนามใกล้บ้าน อยู่ในซอยราชครูเข้ามานิดเดียวทางซ้ายมือ\\nที่จอดรถค่อนข้างน้อยเพราะต้องแชร์กับร้านค้าในเวิ้งเดียวกัน บางครั้งอาจต้องออกไปจอดตามซอยข้างๆ\\n\\nอาหารที่นี่มีหลายหลากเมนู อร่อยทุกเมนูที่เคยทาน น้ำจิ้มให้มาอย่างสะใจ ขอเพิ่มได้ตลอด \\nร้านตกแต่งเหมือนร้านอาหารเวียดนามทั่วไป คือต้องมีรูปเกี่ยวกับเวียดนามและหญิงสาวเวียดนามแต่งตัวมาอวดทรวดทรงที่ผอมบางเพราะทานกันแต่ผัก \\nผิดหวังอย่างเดียวคือกาแฟเวียดนามไม่ได้มาในถ้วยกดให้น้ำหยด แต่ชงมาให้สำเร็จ รสชาติเลยไม่เข้มข้นและออกหวานเกินไป สั้งพวกน้ำผลไม้ปั่นแทน\\nราคาเหมาะสมกับคุณภาพและปริมาณ\\n</td>\n",
              "      <td>3</td>\n",
              "    </tr>\n",
              "    <tr>\n",
              "      <th>6</th>\n",
              "      <td>7</td>\n",
              "      <td>สวัสดีเพื่อนๆสมาชิกนักรีวิวร้านอาหารชาว Wongnai.com ทุกท่านครับ\\nไปกินไปเที่ยวถ่ายรูปเก็บความประทับใจมาฝากทุกคนสไตล์ Captain Ton กันอีกแล้วครับ\\n\\nวันนี้ได้รับคำแนะนำจากคุณด๊ะ (อย่าเรียกว่าเชิญนะเพราะมื้อนี้เสียเงินเอง) PR ของโรงแรม LE FENIX แนะนำมา\\nว่าตอนนี้กำลังมีเทศกาลบุฟเฟต์เบอร์เกอร์ พร้อมอาหารกลางวันแบบสุดคุ้ม ในราคาเพียง 229 บาท\\nพอดีว่าบ้านอยู่รามอินทรา ต้องถ่อไปไกลยันสุขุมวิท ก็ต้องคิดกันนิดนึง อืม.... ได้ครับ ตอบตกลงไป \\nพร้อมจองที่ไว้แล้ว ออกเดินทางกันได้เลย.... ได้ยินของถูกเป็นไม่ได้เชียว-*-\\n\\nมาถึงก็เดินลงมาจากสถานีรถไฟฟ้านานา เดินตรงมาอีกนิดนึง ถึงหน้าปากซอย เปิด Google Maps ดู\\nจะเดินเข้าไปก็กระไรอยู่นะ ไกลมาก... นั่งวินเข้าไปเลยก็แล้วกัน\\n\\nถึงแล้วโรงแรม LE FENIX ดูเล็กนิดเดียวเอง ส่วนตัวคิดว่ามันจะใหญ่กว่านี้ซะอีก\\nไปๆเดินเข้าไปกัน ก่อนจะเข้าไปถามพี่ยามก่อนว่าห้องอาหารอยู่ชั้นไหน พี่ยามบอกชั้น 3 เลยครับ\\nไม่รอช้าขึ้นลิฟต์ไปกันเลย\\n\\nออกมาจากลิฟต์ปุ๊ป ชนเข้ากับห้องอาหารแบบไม่ต้องเดินหาให้เมื่อยเลย ไม่รอช้า\\nถ่ายรูปบรรยากาศมาให้ชมกันก่อนครับ ดูบรรยากาศสบายๆ น่านั่งนานๆดีครับ \\n\\nมุมติดหน้าต่างก็ดูนั่งสบาย รับแสงกลางวันมองรถวิ่งไปมาเบาๆ น่านั่งไปอีกแบบ\\nก่อนจะเดินสำรวจก็ต้องบอกน้องๆเด็กเสิร์ฟกันก่อน เดี๋ยวแตกตื่นกันอีก คุณด๊ะ แนะนำมา\\nจองไว้ 2 ที่ครับ น้องวิ่งเข้าไปในครัวแล้วบอกว่าพี่เขามาแล้ว... วิ่งกลับออกมาบอกเราว่า\\nถ่ายรูปได้เลยค่ะ คุณด๊ะให้เตรียมไว้หมดแล้ว งั้นผมไม่เกรงใจนะครับ เริ่มถ่ายเรียงกันเลย\\nว่ามีอะไรให้เราทานกันบ้าง ผมจะไล่จากไลน์ด้านในออกไปนะครับ เริ่มจากมุมของทานเล่นกันก่อน\\n\\nข้าวผัดและไก่ผัดเม็ดมะม่วงหิมพานต์\\nผักโขมอบชีส และเส้นสปาเก็ตตี้\\nไวท์ซอสแฮมเห็ด และซอสมะเขือเทศ\\nไก่เทริยากิ ดูสีมันเข้มข้นมาก \\nหมูผัดซอสเม๊กซิกัน\\nซุปมะเขือเทศข้นๆ\\nขนมปังพร้อมเครื่องปิ้ง และมีบาร์ให้ตัดขนาดได้ตามใจ\\nเหล่าผลไม้สดบนน้ำแข็ง\\nเค้กและเครปต่างๆ\\nไอศกรีมรสสรอเบอรี่ในถังน้ำแข็งท๊อปปิ้งเครื่องต่างๆได้ตามสไตล์เรา\\nขนมไทยๆอย่างลอดช่อง ก็มีให้บริการ\\nน้ำดื่มต่างๆ พร้อมแก้วใบจิ๋ว\\nชา กาแฟร้อน พร้อมนมและครีมสูตรต่างๆ เติมน้ำตาลได้ตามใจ\\n\\nหมดบาร์ด้านนอกแล้วมาสำรวจบาร์ตรงกลางกันบ้าง\\nสลัดสูตรต่างๆที่เชฟปรุงมาให้พร้อมทาน\\nก๋วยเตี๋ยวลุยสวนแบบไทยๆ\\nยำวุ้นเส้น และลาบไก่\\nหมูมะนาวสีสันจัดจ้าน\\nซูชิหน้าต่างๆ\\nสลัดบาร์พร้อมน้ำสลัดสูตรต่างๆ มีให้เลือกเยอะมาก\\nสำรวจเสร็จแล้ว กลับมานั่งพักที่โต๊ะกันก่อน\\n\\nสำรวจเมนูเบอร์เกอร์กันก่อน ดูแล้วก็มีไม่กี่อย่างนะ เอางี้ละกันสั่งมาทุกอย่างเลยอย่างละ 2 ชิ้น\\nสั่งที่พนักงานได้เลย ถึงเราไม่สั่งก็มีน้องพนักงานมาวนที่โต๊ะให้เราสั่งได้สะดวกเลยครับ\\nไปตักอาหารอื่นๆ แล้วมาเริ่มชิมกันดีกว่า\\n\\nเริ่มออเดิร์ฟเบาๆกับขนมปังหน้าหมูกรอบๆหอมๆ โอโคโนมิยากิ กรอบนอกนุ่มใน \\nและของทานเล่นสไตล์เม็กซิกัน เรียกว่าอะไรไม่รู้ แต่มีรสเปรี้ยวหวานเผ็ดๆ ทานกับแป้งกรอบๆอร่อยดีครับ\\n\\nสปาเก็ตตี้ไวท์วอสแฮมเห็ด ไวท์ซอสเข้มข้น รสกลมกล่อม หอมกลิ่นแฮม ทานกับเส้นสปาเก็ตตี้\\nที่ลวกมากำลังดี เหนียวนุ่มอร่อยมาก จานนี้แนะนำเลยครับ\\n\\nตามมาด้วยสลัดสูตรตามใจ Captain Ton ผักสดกรอบเย็นๆได้มาตรฐาน \\nแต่น้ำสลัดนี้รสเข้มข้นอร่อยมาก เข้มข้นสะใจดีจริงๆ\\n\\nผักโขมอบชีสรสเข้มข้น เปรี้ยวครีมชีสเค็มๆและหอม \\nที่สำคัญมันเข้มข้นมากๆ ระวังจะเลี่ยนกันไปก่อนนะครับ \\n\\nจานนี้เป็นรวมอาหารไทย และสลัดแบบฝรั่งไว้ในจานเดียวกัน\\nเริ่มจากข้าวผัด จืดมาก เหมือนกินข้าวเปล่าเลยล่ะ แต่เอานะสไตล์ฝรั่ง\\nไก่ผัดมะม่วงหิมพาต์ ไก่นำไปชุบแป้งทอกแล้วนำมาผัดด้วยซอสสูตรเข้มข้น อร่อยม๊าก\\nหมูมะนาวที่นี่ก็รสเปรี้ยวเค็ม ตัดหวานนิดๆพอกลมกล่อม หมูก็นุ่ม อร่อยอีกแล้ว\\nลาบไก่ บอกได้คำเดียวว่าแซ่บมาก!!! เอาเป็นว่าอาหารไทยของที่นี่อร่อยสำหรับเราแต่ฝรั่งคงร้องจ๊ากเลยล่ะ\\nส่วนสลัดทั้งแฮมเมลอน ไส้กรอกแอปเปิ้ลเขียว น้ำสลัดปรุงรสชาติมารสมันๆเปรี้ยวๆ ส่วนตัวว่า\\nไม่ค่อยเข้ากันเท่าไหร่ แต่ผู้ช่วยบอกว่าอร่อยดี อืม... ลิ้นใครลิ้นมันนะ \\n\\nหมูผัดซอสเม๊กซิกันรสเข้มข้น หอมกลิ่นเหล้าจีนมาก ตอนแรกนึกว่าอาหารจีนด้วยซ้ำ หมูนุ่ม\\nอร่อยซอสเผ็ดๆ พอสะดุ้งแล้วก็หายไป อร่อยมากครับ จานนี้แนะนำอีกแล้ว\\n\\nสปาเก็ตตี้ซอสมะเขือเทศ น้ำนองเขียว มะเขือเทศแบบว่าใสๆจืดๆหอมๆ ไม่ค่อยปลื้มครับ\\n\\nผัดผักรวมกุ้ง อ้าวไม่มีในไลน์เมื่อกี้นิ ผู้ช่วยบอกว่าไก่ผัดเม็ดมะม่วงหมด เห็นเชฟเอามาเติม\\nเลยตักมาให้ชิมดู กุ้งเด้งกรอบ ผักก็กรอบแต่ซอสข้นจนถึงเค็มไปหน่อย ผมว่าทานกับข้าวสวยคงลงตัวเลยล่ะ\\n\\nซุปมะเขือเทศรสเข้มข้นมาก เหมือนจะใส่แครอทและครีมลงไปอีก \\nสำหรับผมว่าเลี่ยนและเหม็นมะเขือเทศไปหน่อย ลงมติกันว่าไม่ผ่านครับ\\n\\nหมดไลน์อาหารไปแล้ว มาชิมเบอร์เกอร์ที่เราสั่งไปดีกว่า กับHawaiianหมู \\nรสหวานเปรี้ยวของสับปะรด เข้ากับหมูสับผสมหอมใหญ่และแครอท ที่ถูกนำมาทำเป็นไส้อย่างดีอร่อยครับ\\n\\nHawaiianเนื้อ รสไม่ต่างจากเมื่อกี้เท่าไหร่ แต่ว่าหอมกลิ่นเนื้อเพิ่มมากอีกหน่อย อร่อยเข้าไปอีก\\n\\nเบอร์เกอร์เห็ด มีแต่เห็ดอัดแน่นๆเลย แต่รสชาตินั้นค่อนข้างจืดไปหน่อย \\nแต่สำหรับคนชอบเห็ด เมนูนี้ห้ามพลาดครับ \\n\\nเบอร์เกอร์กอร์ดอนบลูหมู ที่เป็น Signature คุณด๊ะแนะนำมา ไหนล่ะชีสอ่ะ???\\nลองเปิดดููสักหน่อย อ๋ออยู่นี่เอง ส่วนรสชาตินั้นอร่อยมากครับ หอมกลิ่มแฮมและเซดด้าชีส\\nรสเค็มๆมันๆกำลังดี อร่อยสมกับที่เป็นเมนนูแนะนำเชียวล่ะ\\n\\nเบอร์เกอร์ปลาทอด ส่วนตัวผมว่าจืดไปหน่อย น่าจะเพิ่มมายองเนส\\nหรือทาร์ทาร์ซอสลงไปอีกนิด จะแจ่มมาก\\n\\nเบอร์เกอร์คลาสิคหมู รสหมูผสมหัวหอมและแครอท ตัดกับชีสเค็มๆ อร่อยดีครับ\\nเบอร์เกอร์ไก่คลาสิค ไก่มาเป็บแบบชิ้นๆต่างจากเมื่อกี้ หมักมาไม่เข้มข้นมาก จืดกว่าหมูอีก\\nเบอร์เกอร์เนื้อคลาสิค อร่อยได้รสเนื้อหอมๆ กับชีสเค็มๆ รสชาติที่ผมคุ้นเคย\\n\\nเบอร์เกอร์ไก่เม๊กซิกกัน รสชาติแบบเดียวกับหมูเม๊กซิกันที่เป็นจานๆเมื่อกี้เลย อร่อยดีครับ\\nเบอร์เกอร์ไก่เทริยากิ จืดไปหน่อย หมักมาไม่ค่อยเข้าเนื้อ จานนี้ไม่ผ่านครับ\\n\\nชิลลี่ชีสเบอร์เกอร์เนื้อปรุงรสแบบเม๊กซิกัน รสเผ็ดๆหอมๆทานเข้ากับชีสรสมันๆ เค็มๆอร่อยครับ\\nเบอร์เกอร์เนื้อโรส ที่หอมและนุ่มชุ่มฉ่ำมาก ใครรักเนื้อจานนี้ห้ามพลาด แนะนำเลยครับ เนื้อชั้นเยี่ยมจริงๆ\\n\\nไปตบท้ายของหวานกัน มองไปอีกที คนเยอะมาก แน่นร้านเชียวล่ะ \\nก็ราคาถูกและก็รสชาติใช้ได้นี่นา คนเยอะก็ไม่แปลกเนอะ\\n\\nตบท้ายด้วยเค้ก ราสเบอรี่ บลูเบอรี่ เทรามิสุ และคัสตาร์ต บอกได้เลยว่าไม่อร่อย\\nเลยเรียกน้องเด็กเสริฟมาถาม ได้ความมาว่าสั่งมาจากโรงแรมอื่น ต้องขออภัยด้วย\\nเป็นโรงแรมดังอีกต่างหาก เอาเป็นว่า \"เรื่องนี้ริวจะไม่ยุ่ง\"\\n\\nทานไอศกรีมสตรอเบอรี่กับเครปกลิ่นหอมไข่ ท๊อปปิ้งด้วยแอปเปิ้ลผัดเนยกับชินเนม่อน\\nไอศกรีมละลายเร็วมาก ถ่ายรูปแทบไม่ทันเชียวล่ะ\\n\\nคิดบิลออกมา ราคา 458 บาท Netแล้ว อันที่จริงราคานี้ไม่รวมน้ำดื่ม แต่มีลูกค้าจาก En.... มาด้วย\\nจึงมีบริการให้ ถ้าไม่มีมาวันธรรมดาก็จะมีน้ำแก้วใหญ่ให้บริการ มีเก็บค่าน้ำอีกนิดหน่อยนะครับ\\nเทศกาลเบอร์เกอร์นี้ มีไปจนถึงวันที่ 31 ต.ค. 56 นี้เท่านั้นนะครับ โดยรวมแล้วผมให้คะแนน 4/5 ก่อน\\nเพราะของทานต่างๆมีน้อย แต่สมราคา อร่อยบ้างไม่อร่อยบ้าง ให้คะแนนเท่านี้ก่อนนะ\\n\\nครั้งหน้าผม Captain Ton จะพาทุกท่านไปกินไปเที่ยวตามสไตล์ของผมที่ไหนอีก \\nติดตามกันได้ที่นี่ และ https://www.facebook.com/CaptainTonEatTravel หรือตามเครดิตในรูปได้เลยนะครับ</td>\n",
              "      <td>0</td>\n",
              "    </tr>\n",
              "    <tr>\n",
              "      <th>25</th>\n",
              "      <td>26</td>\n",
              "      <td>มีคนแนะนำมาว่าต้องร้านนี้ \\nเลยขอลองสักหน่อย ไม่ผิดหวังจริงๆ \\nเข้ามาไกลสักหน่อย ขับรถตามป้ายเค้ามา วิวแจ่มมาก มีรีสอร์ทบริการด้วย \\n\\nรสชาติอาหารดีมากๆๆ สดๆๆ อร่อยแถมไม่แพงอีก \\n\\nทานยำทิวทัศน์ เป็นยำรวมมิตรทะเลใส่ไข่มะตูม อร่อยสุดๆ \\n\\nกุ้งเผา มันสีส้มอร่าม อร่อยยย \\nเมนูอื่นๆ ก้อดูดีคะ รสชาติก้อเยี่ยม ที่สำคัญ ราคาไม่แพง คุ้มค่ากับการเดินทาง\\n\\nมี wifi ด้วย</td>\n",
              "      <td>3</td>\n",
              "    </tr>\n",
              "    <tr>\n",
              "      <th>27</th>\n",
              "      <td>28</td>\n",
              "      <td>เดือนแรกที่เค้าต่อคิวกัน 2 - 3 ชั่วโมง เราก็ว่าเค้าบ้าอ่ะ...เมืองนอกเมืองนาเค้าแจกฟรีให้ชิมในขณะที่ทำ Original Glazed สดๆ ... แล้ววันนึงอ้อมที่อ้อมเบื่อ(งาน)ถึงขีดสุด ก็ไปลองต่อแถวมั่ง ฮ่าๆๆ บ้าดีเนอะ ต่อไปก็แอบฟังคนข้างๆคุยกัน...ส่วนมากจะเป็นแบบว่า แฟนสาว \"เธอว์...เพื่อนเค้าบอกว่าอร่อยแบบละลายในปากเลยนะ อยากกิวอ่าอยากกิว\"...แฟนหนุ่ม (คิดในใจ ถ้าพูดออกมาเดี๋ยวมีงอน)\"บ้าป่าวอ่ะ ต่อไรนาน วู้ววว\" ต่อคิว 2 ชั่วโมงครึ่งค่ะ พอซื้อได้เหมือนมีชัยชนะ โดนัทอร่อยขึ้นมาอย่างไม่น่าเชื่อ แต่อ้อมซื้อแล้วก็แจกคนไปทั่วนะคะ กินแค่ 2 ชิ้นพอ แบ่งปันความสุขให้คนอื่น มีความสุขอีกสิบเท่าค่ะ\\n\\nเข้าเรื่อง!! KK นี่กินมาหลายสาขาก่อนเปิดที่ไทย ขอบอกว่า KK ไทย ไม่ทำให้ผิดหวัง Original glazed รสชาติเหมือนกันเรย :) นิ่มสยิวกิ้ววว &gt;_&lt;\" ถ้าจะให้ดีต้องกินแบบใหม่ๆเลยนะคะ แป้งจะนุ่ม น้ำตาลจะกรอบและไม่หวานเกินไป เรียกได้ว่าเป็นสุดยอดโดนัทจริงๆ กินยังไงก็ยังอร่อยค่ะ แต่ถ้าปล่อยข้ามวันแล้ว ถึงแม้จะเอามาเวฟ 8 วิ ก็จะรู้สึกว่าหวานไปนิส ขอแนะนำให้กินกะกาแฟค่ะ หวานนิสตัดกะขมหน่อย อร่ออยเหาะเลยค่ะ\\n\\nรสชาติอื่นยังไม่เคยลองสาขานี้นะคะ แต่ยังไงอ้อมว่า Original glazed ก็ฟินสุดละค่ะ ยอมรับว่าอาจจะไม่คุ้มกับการต่อคิว 2 ชั่วโมง แต่ตอนนี้คิวแค่ 10 นาที (ฝั่งติดกระจกเป็นแบบเลือกหลายรส ถ้าฝั่งด้านนอกเป็นแถว Original glazed เท่านั้น) ขอบอกว่าคุ้มอย่างแน่นอนนะคะ ขอติดให้ห้าตาวค่ะ ด้วยความที่เป็นสาวกมานาน\\n\\nปล.ตอนอ้อมซื้อ Citibank ซื้อ 12 ชิ้น (รสใดก็ได้) ได้ฟรี 6 ชิ้น Original glazed ค่ะ</td>\n",
              "      <td>3</td>\n",
              "    </tr>\n",
              "    <tr>\n",
              "      <th>32</th>\n",
              "      <td>33</td>\n",
              "      <td>ร้านกาแฟนรสิงห์ ณ วังพญาไท\\n\\nได้ยินชื่อร้านกาแฟนี้มานานแล้ว อยากลองไปทานมาก ผ่านมาผ่านไปก็หลายรอบ วันนี้โชคดีมากที่ได้มาลองทาน เพราะวันนี้แหม่มและกุ้งมาตรวจวัดสายตาที่โรงพยาบาลพระมงกุฏฯ ค่ะ ช่วงพักเที่ยงทานข้าวเสร็จก็ไม่รู้จะไปไหนค่ะ นึกได้ว่ามีร้านกาแฟนรสิงห์ ณ วังพญาไท ชื่อก็ดูมีมนต์ขลังดีนะคะ กาแฟร้านนี้อยากทานมานานแล้วอยู่ในพระราชวังพญาไทบริเวณเดียวกัน ก็เดินไปเลยค่ะ และก็ไม่ผิดหวังได้ลองทานสมใจค่ะ วันนี้ทานไม่เยอะเพราะได้ทานข้าวมาแล้ว เลยสั่งแค่กาแฟและขนมนิดหน่อยแบ่งทานกับกุ้ง\\n\\nแหม่มสั่งกาแฟ คาปูชิโน่เย็น (ราคา 40 บาท) ซึ่งเป็นกาแฟลาเต้ที่ใส่นมสด กาแฟ และโฟมนมเนียนๆ รสชาติของกาแฟหอมนุ่ม กลมกล่อมดีค่ะ และ อีกอย่างที่สั่งมาคือวาฟเฟิลราดน้ำผึ้ง ขอบอกว่าอร่อยเลยค่ะ ขนาดทานข้าวมาแล้วก็อยากทานอีก อิอิ \\n     \\n“กาแฟนรสิงห์” จะเป็นกาแฟอาราบิก้า ซึ่งเป็นกาแฟสดจากไร่ของทางร้านเอง มีเค้กโฮมเมดกว่า 10 ชนิด ซึ่งจะผลัดเปลี่ยนหมุนเวียนกันออกมาในแต่ละวัน นอกจากนี้ก็ยังมีอาหารจานเดียวที่จะหมุนเวียนเมนูกันไป โดยมีจำพวกสลัดเป็นยืนพื้น มีเวลาก็อยากไปลองทานเมนูอื่นอีกค่ะ ที่เล็งๆ ไว้จะเป็น เครปเค้กชาไทย (110 บาท) และ ช็อคโกแลตมูสกาโต (110 บาท) และที่นี่จะมีเมนูจานด่วนน่าทานเช่นกันค่ะ\\nร้าน “กาแฟนรสิงห์” ตั้งอยู่ที่ 315 อาคารเทียบรถพระที่นั่ง พระราชวังพญาไท ถนนราชวิถี แขวงทุ่งพญาไท เขตราชเทวี กทม. การเดินทางจาก ถนนราชวิถี ให้มุ่งหน้ามายังพระราชวังพญาไท (ติดกับโรงพยาบาลพระมงกุฎเกล้า) เลี้ยวเข้าพระราชวังพญาไท ร้านจะอยู่บริเวณอาคารเทียบรถพระที่นั่ง สามารถจอดรถได้บริเวณที่จอดรถของพระราชวังพญาไท ร้านเปิดทุกวัน จันทร์-ศุกร์ เปิดเวลา 08.30-19.00 น. เสาร์-อาทิตย์ เปิดเวลา 10.30-19.00 น. โทร. 0-2354-8376</td>\n",
              "      <td>2</td>\n",
              "    </tr>\n",
              "    <tr>\n",
              "      <th>37</th>\n",
              "      <td>38</td>\n",
              "      <td>ร้านใหม่พึ่งเปิดได้ 3 เดือน เลยมาลองดู ไม่ผิดหวังเลย \\nวันนี้ลอง coffee jelly  iced drip กับ บราวนี่ อร่อยอะ ใครชอบกาแฟ อยากลองพวก filter coffee ร้านนี้มีบริการนะ drip/ iced drip / moka / french press / syphon / balance syphon ขนมก้ออร่อยเลย ราคาไม่แพงอย่างที่คิด ออ ระบุ blend ได้ว่าจะเลือก blend ปกติของร้าน single original หรือ special blend</td>\n",
              "      <td>2</td>\n",
              "    </tr>\n",
              "    <tr>\n",
              "      <th>48</th>\n",
              "      <td>49</td>\n",
              "      <td>นัดกับรุ่นน้องไว้ว่าจะพาไปเลี้ยงและอยากทานกาแฟตบท้ายอร่อยๆ ก็เลยนึกถึงร้านนี้ได้ เป็นคาเฟ่แบบเก่าๆในย่านอนุสาวรีย์ ร้านนี้ตั้งอยู่ที่วังพญาไท หาไม่ยากครับ เข้ามาในเขตรั้วแล้วเหมือนกลับไปอยู่โลกสมัยเก่า ตัวอาคารสวยงามมาก ถึงมากที่สุด ให้บรรยากาศย้อนยุคดีมาก ร้านนี้มีบริการทั้งเครื่องดิ่ม ร้อน เย็น อาหาร ทานเล่น ครบกับที่ต้องการ แล้วราคาก็เร้าใจครับ วันนี้ลองสั่งมาสามอย่าง รสชาติไม่โดดเด่น กลางๆครับ ฝากท้องได้ ส่วนกาแฟก็โอเคครับ แต่ผิดที่อเมริกาโน่ดันใส่น้ำตาลมาให้ แอบเคืองนิดนึง จุดขายของร้านคงเป็นเรื่องบรรยากาศและความเป็นส่วนตัวของโต๊ะ ที่กว้างแต่โต๊ะไม่เยอะ มีโซฟาสวยมากวางอยู่ แชงเดอเรียให้ความหรูหรา ในราคามิตรภาพ \\n\\nผ่านเบย เหมาะกับนั่งแช่ทำงานมากๆครับ</td>\n",
              "      <td>2</td>\n",
              "    </tr>\n",
              "    <tr>\n",
              "      <th>63</th>\n",
              "      <td>64</td>\n",
              "      <td>เข้าวังไปจิบกาแฟกันนะครับ บอกได้เลยว่า มาร้านนี้ อิ่มท้อง แล้วก็อิ่มใจ ที่ได้รับรู้เรื่องราวประวัติศาตร์ของวังพญาไท รู้สึกภูมิใจในประเทศของเราจัง ร้านกาแฟแห่งนี้มีประวัติยาวนาน เป็นร้านกาแฟที่สืบทอดมาจากร้านกาแฟ นรสิงห์เดิมที่ตั้งอยู่มุมสนามเสือป่า ซึ่งนับเป็น ‘คาเฟ่’ แห่งแรกของสยามประเทศที่เกิดขึ้นในสมัยรัชกาลที่ 6 ปัจจุบันร้านกาแฟนรสิงห์อยู่ในเขตพระราชวังพญาไท ภายใน รพ.พระมงกุฏ ให้บรรยากาศคลาสสิกเหมือนไปจิบกาแฟในพระราชวังเก่า ที่อนุญาติให้เปิดเป็นร้านกาแฟได้ เพราะอาคารนี้เป็นเพียงอาคารเทียบรถพระที่นั่ง หรือเรียกกันว่า พระที่นั่งพิมานจักรี ซึ่งก็ให้สามัญชนเข้าใช้รอ ก่อนที่จะเข้าเฝ้าครับ โดยอาคารมีกลิ่นไอแบบตะวันตก รายละเอียดผนัง โคมไฟ หน้าต่างกระจก ดูสวยงามตามยุคสมัยนั้น หลังจากอิ่มท้องกับกาแฟ เค้ก และอาหารแล้วเรายังสามารถเดินเยี่ยมชมพระราชวังพญาไท และบริเวณโดยรอบได้อีกด้วย\\n\\nhttp://gadget4thai.com/?p=1360\\n\\nCafe de Norasingha ร้านกาแฟ นรสิงห์ ณ วังพญาไท\\n\\nร้านกาแฟนรสิงห์อยู่ในเขตพระราชวังพญาไท ภายใน รพ.พระมงกุฏ เปิดบริการทุกวัน 9 โมงเช้าถึง 1 ทุ่ม\\n\\nพิกัด GPS 13° 46′ 2″ N 100° 32′ 3″ E</td>\n",
              "      <td>2</td>\n",
              "    </tr>\n",
              "    <tr>\n",
              "      <th>69</th>\n",
              "      <td>70</td>\n",
              "      <td>ร้านเชฟมด รอบนี้มาจัดเป็นรอบที่สอง หลังจากถูกใจรอบเเรกมากๆค่ะ ร้านอยู่ไม่ไกลจากโรงเรียนเพลินพัฒนา อยู่หน้าถนนพุทธมณฑลสาย 2 ค่ะ โดยร้านเป็นตึกแถวๆเล็กๆ สามารถจอดรถได้หน้าร้่นเเละข้างทางค่ะ\\n\\nบรรยากาศร้าน ตกแต่งสไตล์เรียบหรู มีที่นั่งแบบโซฟา เเละโต๊ะธรรมดา โล่งๆ โปร่งๆ เเม้ลูกค้าจะเยอะ เเต่รู้สึกไม่อึดอัดเลยค่ะ\\n\\nเมนูอาหาร ที่นี่จะมีมีเนูพิเศษจากเชฟ ที่ต้องคอยติดตามกันบนบอร์ด ส่วนเมนูธรรมดาก็จะเป็นอาหารฟิวขั่น เเละของหวาน นอกจากนี้ แอบเห็นว่าที่นี่มีเบียร์เด็ดๆหลายอย่างด้วย ในส่วนของราคาอาหารที่นี่ ขึ้นอบู่กับวัตถุดิบของเเต่ละจานนั้นๆ นำมาชิม ดูพื้นที่ ดูอะไรเเล้ว ถือว่าสมเหตุสมผลเป็นที่สุดกับราคา ทำให้มาเเล้ว อยากกินอะไรก็สั่งแบบไม่ต้องคิดเยอะ\\n\\nมาดูอาหารที่สั่งกันดีกว่านะคะ วันนี้มากัน 9 คน สั่งกันได้หลายอย่างเลย\\n-Mozzellela Chees Ball จานนี้สั่งมา 3 จาน 5555+ ได้จานละ 6 ลูก เสิร์ฟพร้อมกับ Dip สูตรพิเศษ อร่อยถูกใจมากๆ ไม่มีเลี่ยนเลย แป้งก็บาง ชีสก็เต็มคำ ซอสมันกลมกล่อม เเถมตอนนี้ใข้ dtac reward ลดได้จานละ 30฿ เหลือเพียง 45฿ ต่อจานเท่านั้นค่ะ เอาจริงๆอร่อยกว่าชีสสติ๊กทั่วไปอะ\\n\\n-ปอเปี๊ยะผักโขมอบชีสทอด เสิร์ฟคู่กับจิ้มบ๊วยเเละสลัด สนนราคา 155 บาท กับปอเปี๊ยะ 3 ชิ้น คือแบบแป้งปอเปี๊ยะเนี่ย อร่อยมาก คือกินเเล้วรู้สึกถึงความเเตกต่าง มันกรอบแบบไท่อมน้ำมัน เคี้ยวง่ายด้วย ส่วนด้านในผักโขมสีสวยสด อร่อย สลัดก็ดี ไม่จิ้มก็ยังอร่อยเลย\\n\\n-สปาเก็ตตี้คาโบนาล่า จานนี้จัดมา 2 จาน ในราคา 165 บาท มีการวางเบคอนกรอบๆโปะหน้ามาด้วย คือรสชาติไม่จัดจ้านนะ เเต่เข้มข้นด้วยครีมที่อร่อยค่ะ หลานสาวชอบมากก\\n\\n-สลัดปูนิ่ม คือเป็นปูนิ่มที่ตัวใหญ่มากชุบแป้งทอดโปะมาวางบนสลัด คือดี น้ำสลัดเป็นเเบบของเชฟเอง กินเเล้วสดชื่น ไม่เลี่ยน ในราคา 280฿ เท่านั้นค่ะ คือจานใหญ่มาก ผักมาเต็ม แถมมีไข่ปูโรยอีก\\n\\n-ขนมปังชีสปู อันนี้ทางร้านเเนะนำมา ไม่สั่งไม่ได้เเล้ว เสิร์ฟมา ขนมปัง 3 ชิ้นที่โปะหน้าด้วยชีสเเละปูอย่างหนา แกล้มด้วยสลัดมะเขือเทศออกแนวเปรี้ยวหวาน เเละมีน้ำซุปอีก คือขนมปังกรอบอร่อย หอมปู ทานเเล้วชีสยืด ตัดรสชีสด้วยสลัดนิดนึง ฟินไปดิ ราคา 165 บาทค่า\\n\\n-พ็อคช็อบราดซอสแครนเบอรี่เสิร์ฟคู่กับเเครอทผัดเนยเเละเฟรนฟรายด์ คือจานนี้เป็นจานที่ทุกคนบนโต๊ะฟิน กับความหนาของหมู หั่นออกมาชิ้นสีชมพูอ่อนๆ รสชาติเค็มนิดๆ มีกลิ่นควันอ่อนๆ ทานกับซอสที่กลมกล่อม เเละไม่เค็มโดดเนื่องจากมีเเครนเบอรี่มาช่วย โอย ฟินมาก ราคาเพียง 320 บาท\\n\\n-ซี่โครงหมูอบน้ำผึ้งเเละแอปเปิ้ล จานนี้เอาเป็นว่ากระดูกร่อน รสชาติเต็มมากหอมแอปเปิ้ล ไม่เลี่ยน ทานคู่กับโควสลอเเละมันบด ชอบมาก ร้านนี้รสชาติไม่ออกแนวบาร์บีคิวจ๋า ทานเเล้วเเตกต่างมากๆ ราคา245 บาทค่ะ\\n\\n-ชิกเก้นพาร์มา คือเสต็กอกไก่ทอดราดซอสมะเขือเทศอบด้วยชีส 3 อย่าง คือดี ชีสอบมาสีสันสวยงาม ไก่ชุ่มฉ่ำมาก ใครชอบชีสห้ามพลาดเมนูนี้เลยค่ะ ราคา 285฿ \\n\\n-ข้าวน่องเป็ดไวน์แดง(ชื่อยาวมาก) คือมันนุ่มมมมมม หนังมันอร่อย รสชาติหวานไวน์มากๆ มีขิงดองให้ด้วย เเต่รสชาติสุดๆยิ่งกว่าข้าวหน้าเป็ดอีกค่ะ เสิร์ฟมาทั้งน่องนะคะ ราคา 170฿ เท่านั้น\\n\\n-ทูน่าเสต็ก จานนี้ขอ 2 อีกแล้ว เพราะทูน่าชิ้นโตๆ ราคาเพียง 490฿ เท่านั้น คือชอบอะ หลงรักร้านนี้เพราะจานนี้ ทูน่ากริลมาในระดับมีเดียมเเรปลาสดมากกก ไม่มีเบี่ยนเลย ทานคู่กับมันบด หน่อไม้ฝรั่ง เเละสลัดมะเขือเทศ คือดี ต้องสั่ง จานนี้\\n\\n-เเซลมอนบรู๊ซ คือเสต็กแซลมอนเสิร์ฟบนขนมปังกระเทียม ราดซอสผลไม้ คือแบบขนมปังหอม กรอบ อร่อย รสชาติเข้มข้นมาก ปลาเนื้อแน่นเป็นชิ้น เเล้วเเบบน้ำสลัดผลไม้รสเเนวมะม่วงสุกอะคะ ฟินขนาดไหน ไม่มีเลี่ยนเลย สนนราคาที่ 285 บาทค่ะ\\n\\nต่อกันไปกับของหวาน สั่งมาชิมเพียง 2 อย่างเท่านั้นเพราะอิ่มกันมาก\\n-ครีมบรูเล่ 65฿ เผามาได้สวยงาม กรอบมากๆ ตักลวไปนี่ฟินเลย ไม่หวานจัด เน้นความหวานจากน้ำตาลข้างบน ถ้าได้กลิ่นน้ำตาลไหม้อีกนิดจะฟินกว่านี้\\n\\n-ชีสเค้ก จานนี้เฉยๆค่ะ เเต่วิปครีมอาหย่อย เป็นเเนวญี่ปุ่นค่ะ\\n\\nได้สั่งเครื่องดื่มพวกม็อคเทลมาด้วย ได้แก่ Summer Sweet (Lychee+Coconut) คือหอม อร่อย สดชื่นกว่าที่คิด รสชาติเด่นทั้งคู่เเต่ไม่ตีกัน อีกแก้วเป็นเบอรี่ต่างๆมีใส่มะม่วงหาวมะนาวโห่ด้วย เป็นสมนาคุณจากทางร้านเนื่องในวันเเม่แห่งชาติค่ะ อร่อย สดชื่น ซูซ่าๆ\\n\\nสิริราคาทั้งหมด รวมเเล้ว 3600 เป๊ะๆเลย น้ำเปล่าก็ขวดละ 15 บาทเท่านั้นค่ะ\\n\\nสรุป ร้านนี้ราคา อาหาร บริการ ความรวดเร็ว ผ่านทั้งหมด คือประทับใจ สั่งอะไรก็ไม่มีผิดหวัง \\n</td>\n",
              "      <td>0</td>\n",
              "    </tr>\n",
              "    <tr>\n",
              "      <th>70</th>\n",
              "      <td>71</td>\n",
              "      <td>สารภาพว่าไม่เคยคิดจะไปต่อคิวซื้อมากินเองครับ บังเอิญมีรุ่นน้องที่ไม่ได้เจอกันนานชวนไปเป็นเพื่อน แล้วเค้าให้ซื้อได้คนละกล่อง เลยเข้าไปต่อคิวซื้อให้น้องเพิ่มอีกกล่องนึง น้องใจดีแบ่งมาให้ชิมหนึ่งชิ้นถ้วน ^^\"\\n\\nรออยู่เกือบสองชั่วโมง ได้ลัดคิวเพราะสั่ง original แบบ glazed ทั้งกล่อง หลังร้านจะมีที่นั่งนะครับ เป็นโต๊ะเก้าอี้ แต่ไม่ค่อยมีคนนั่งซักเท่าไหร่ ก็สะดวกดีสำหรับการนัดพบกัน (ถ้าร้านยังอยู่ต่อไปนะ ^^)\\n\\nมาถึงตัวโดนัท เสียดายที่ใส่กล่องทิ้งไว้นานแล้วเลยไม่ค่อยอุ่น ถ้าเสร็จใหม่ๆหรือเอาไปอบเพิ่มน่าจะดีกว่านี้ เนื้อแป้งนิ่มมากถ้าเทียบกับยี่ห้อใกล้เคียงที่เป็นแบบเดียวกัน ทำให้เวลาจับเบาๆน้ำตาลก็จะร่วงออกมาง่ายไปหน่อย\\n\\nน้องบอกว่าหวานไป ผมเห็นด้วยส่วนนึง เพราะแป้งนิ่มเวลากินก็จะทำให้รับรสหวานจากแป้งได้ง่ายกว่า ยิ่งทำให้น้ำตาลที่เคลือบอยู่แบบไม่หนา ซึ่งหวานพอดีอยู่แล้วดันหวานขึ้นไปอีก แต่ถ้ากินพร้อมกาแฟน่าจะเวิร์กครับ\\n\\nก็หวังว่าจะอยู่ต่อไปนานๆ อย่าโรยราไปตามความนิยมที่ยังไงๆ ก็ต้องลดลงตามเวลา่นะครับ :D</td>\n",
              "      <td>3</td>\n",
              "    </tr>\n",
              "    <tr>\n",
              "      <th>71</th>\n",
              "      <td>72</td>\n",
              "      <td>จริงๆจะไปกินร้านอื่นครับที่อยู่ในซอยเดียวกัน แต่ดันแวะร้านนี้ก่อนถึงที่หมาย 555+ บรรยากาศภายนอกตอนค่ำผมนึึกว่าร้านคาราโอเกะนั่งดิ๊งค์ซะอีก ก้อเล่นติดไฟเป็นสีๆกระพริบๆ แต่พอเอาเข้าจริงต้องบอกว่าเก๋ไก๋ สไตส์ลูกทุ่งคันทรี กินกันตรงชั้น2ระเบียงร้าน ผมได้ลอง3เมนู จานแรก ส้มตำปูม้า รสชาติแซ่บดี ใช้ปูุม้าขนาดใหญ่น้องๆsizeปูนึ่งทีเดียว ปูสด เนื้อเยอะสะใสเนื้อปูหวานฉ่ำไม่คาว สุดยอดมั๊กๆ จานทีี่2 กุ้งแช่น้ำปลา จานนี้ส่วนตัวคิดว่ารสชาติธรรมดา กุ้งตัวเล็กๆไปหน่อย แต่เขาทำสะอาดดี ผ่าเอาเส้นดำหลังกุ้งออกเกลี้ยงเลย ซึ่งผิดกับร้านอื่นๆทีี่เคยกินทีี่มักจะผ่าให้แต่ไม่เอาเส้นหลังออกให้ครับ จานที่3 ปลาช่อนระเบียงไม้ วิธีทำเหมือนกะนึ่งมะนาว แต่เป็นต้มยำน้ำข้น ข้นคักจริงๆใส่นมสดหอมมันมากมาย ปลาช่อนสดตัวใหญ่sizeกำลังดี เนื้อใสไม่ยุยไร้คาว อร่อยมากกก ซึ่งเขาว่าเป็นเมนูเอกของร้าน สมราคาคุยครับ อร่อยจริงๆคอนเฟิร์ม  ที่จอดรถสะดวก บริการดี เจ้าของเป็นกันเอง ราคาผมว่า ไม่แพงนะ ร้านอยู่ลึกไปหน่อยแต่ชิมรสชาติแล้วต้องบอกว่า ไม่ผิดหวังครับ</td>\n",
              "      <td>0</td>\n",
              "    </tr>\n",
              "    <tr>\n",
              "      <th>76</th>\n",
              "      <td>77</td>\n",
              "      <td>มาถึงเมืองชลอีกครั้งค่า จาไปพัทยา แต่มอเตอร์เวย์รถติดในวันหยุดยาว เลยตัดสินใจเลี้ยวออกมาเมืองชล ผ่านตลาดชลคิดว่าต้องมีร้านอร่อยซ่อนตัวแน่กับเมืองดังภาคตะวันออก เลยขอตามรอยนักชิมในwongnai. คิดว่าร้านนี้แปลกฝุดๆ เลยขอลอง\\n\\nมากับโชคจริงๆค่าวันนี้ มาไม่หลงเลยจ้า แถมมาตอนคนโล่งไม่แน่นต่างหาก ได้โต๊ะในร้านมีพัดลมเลยสบายๆค่ะ พอสั่งเสร็จ อุต๊ะคนมาแยะเลยสั่งนั่งทานและสั่งกลับ แต่เจ้าของร้านและพนักงานต้อนรับดีค่ะ บรรยายกาศบ้านๆแบบนี้  ชิวๆเอาไปสองดาวครึ่ง ถ้ารักบรรยายกาศเก่าๆเอาไป3.5ดาวจ้า\\n\\nลองสั่งเลยจ้ากับเมนูนอกแนวนิดๆนะ แต่ไม่แหวก เพราะโอกาสกลับมาทานอีกคงจะยากหน่อย อยากเก็บความทรงจำดีๆ เริ่มจาก\\n\\nข้าราดกระเพราะปูส์และกั้งส์  ใส่ \"ส์\" ให้เพราะแยะจ้า รสชาติอเคเลย จัดจ้านเผ็ดร้อน ปูมาแยะเป็นเนื้อกรรเชียงเล็กๆ มาแยะเชียวค่า กั้งตัวเขื่องเรียงมาสองตัวจ้า เนื้อแน่นหนา. สมราคา150บาท สี่ดาวค่า\\n\\nอีกจานเป็นข้าวหมูกระเทียมหมูสามชั้รทอดมาเต็มจานรสชาติดีค่ะหวานเค็มพอดีเข้ากับกระเทียมหอม เสริฟบนข้าวร้อนๆ ฟินค่ะ สี่เาวได้ค่า ถ้าไม่ชอบเผ็ด กับราคา50บาท\\n\\nน้ำชามะลิหอมๆฟรีจ้า แถมด้วยต้นหอมให้มาทีเป็นกอง แก้เผ็ดแก้เลี่ยนดีค่ะ ไม่ผิดหวังสมราคาคุยจิงๆดิส์ส์ส์\\n\\nแอบดูข้าวกระเพราหมึกแต่ไม่ได้ลองค่า เล่นให้หมึกชิ้นเบ้งแบบหมึกย่างไม้โตๆเต็มจานมองไม่เห็นข้าวเลย เสียดายไกลไปหน่อย ไม่งั้นมาประจำแน่ค่า\\n</td>\n",
              "      <td>3</td>\n",
              "    </tr>\n",
              "    <tr>\n",
              "      <th>83</th>\n",
              "      <td>84</td>\n",
              "      <td>การไปกินเริ่มจากอากาศร้อนเลยไปหาที่นั่งเล่นชิลๆ และหลายคนแนะนำ ร้านนี้ตั้งอยู่ตรงวังพญาทัยตรงมุขที่ยื่นออกมา พอเดินเข้าไปจะเจอกับโซฟาที่มีจำนวนจำกัด เลยมักจะได้นั่งโต๊ะ แต่โซฟาน่านั่งมากนะ \\n\\nเรื่องเมนูมีทั้งกาแฟ นม ชา อาหาร ส่วนขนมต้องไปยืนดูเองในตู้นะจ๊ะ \\n\\nบริการดีนะ สุภาพ แต่พนักงานจะพูดงงๆหน่อยอะ 555\\n\\nเมนูโปรดเราคือhorlickร้อน อร่อย อุ่นๆ หอมๆ จริงๆคือwhitemaltแหละ แก้วนึงประมาณ65มั้งนะ ไม่แน่ใจ ส่วนกาแฟนี่เราว่าไม่ผ่านอะ ไม่ค่อยอร่่อย==\"\\n\\nส่วนขนม เครปเค้กชาไทยอร่อยจิง แล้วก็lemon tartก็ใช้ได้ ชิ้นอาจจะเล็กไปหน่อยสำหรับtartนะ ชิ้นละ120 เราว่าแพงเมื่อเทียบกะกาแฟอะ แต่ก็อร่อยเมื่อเทียบกะราคา</td>\n",
              "      <td>2</td>\n",
              "    </tr>\n",
              "    <tr>\n",
              "      <th>89</th>\n",
              "      <td>90</td>\n",
              "      <td>ผมเห็นรีวิวจากคุณ RiceMango ผมก็หาโอกาสว่างตามมาลองชิม ก็เป็นอย่างที่ได้รีวิวไว้เลย บรรยากาศร้านร่มรื่น ตอนนี้เวลา 14:44 น. ไม่รู้สึกร้อนเลยสักนิด เหมาะแก่การนั่งชิวมากๆครับ กาแฟ แล้วก็เค้กเจ้าของร้านบอกว่าทำเอง รสชาติโอเคมากๆเลย  \\nต้องมาลองครับ ไม่ผิดหวังแน่นอน</td>\n",
              "      <td>3</td>\n",
              "    </tr>\n",
              "    <tr>\n",
              "      <th>96</th>\n",
              "      <td>97</td>\n",
              "      <td>ขับรถเข้ามาในซอยโรงพยาบาลสมิติเวช (สุขุมวิท 49) เลย Fuji UFM Supermarket ฝั่งซ้ายมือมาหน่อย ก็จะเห็น Community Mall ขนาดไม่ใหญ่ไม่โตตั้งอยู่บนฝั่งเดียวกันชื่อ Terrace 49 เลี้ยวรถเข้ามาจอดใต้อาคาร เดินผ่านหน้าร้านกาแฟ Starbucks ไต่บันไดขึ้นมาหนึ่งชั้นก็จะเจอร้านอาหาร La Bottega ตั้งประจันหน้าอยู่ นับว่าร้านนี้ก็มีขนาดกว้างขวางอยู่ เพราะมีทั้งพื้นที่ภายในร้านและนอกร้านแบบ Outdoor สิริรวมแล้วน่าจะจุคนได้ไม่ต่ำกว่า 50 ที่นั่ง\\n\\nเมื่ออาทิตย์ที่ผ่านมาได้แวะมาชิม เพิ่งจะมีโอกาสได้มาเขียนรีวิว พร้อมอัพภาพยั่วน้ำลาย ไม่พูดพร่ำทำเพลงมาเร่ิมสั่งอาหารกันเลย\\n- Baby Spinach Salad topped with Italian Sausage and Orange Dressing (สลัดผักโขมทานกับไส้กรอกอิตาเลียนราดน้ำซอสส้ม) Highly recommended อร่อยมาก ปกติเขาเสิร์ฟกับ parma ham แต่ผมขอดัดแปลงเล็กน้อย\\n- Portobello Mushroom Salad with baby Spinach mint and honey dressing (สลัดเห็ดใส่ผักโขมราดซอสมินต์และน้ำผึ้ง) จานนี้เฉยๆ นะ\\n- Spaghetti Vongole (สปาเก็ตตี้หอยลาย) Signature menu ของร้าน หน้าตาดี รสชาติพอรับได้\\n- Homemade Basil Spaghetti with Blue crab meat in lobster bisque sauce (สปาเก็ตตี้โหระพาโรยด้วยเนื้อปูราดด้วยซอสล็อบเสตอร์) สปาเก็ตตี้รสชาติข้าวผัดปู ไม่ขอแนะนำ \\n- Ravioli Pumpkin with seafood in white wine sauce (เกี๊ยวอิตาเลียนทำมาจากฟักทองทานกับอาหารทะเลราดด้วยซอสไวน์ขาว) เป็นเมนูเส้นที่แนะนำเพราะรสชาติซอสซีฟู้ดนี่ใช้ได้เลย\\n- Paccheri with saute italian sausage tomato sauce and fennel seeds (เส้นเพนเน่ยักษ์กับไส้กรอกอิตาเลียนสับราดซอสมะเขือ) ไส้กรอกอิตาเลียนเอามาผัดแห้งพริกกระเทียมจะอร่อยกว่านี้ครับ เมนูนี้ไม่ขอแนะนำ\\n- Sea Bass foil cooked with white wine herbs (ปลากะพงกับซอสไวน์ขาว) เป็น Main Course ที่ราคาไม่เบาเลย 890 บาท อร่อยปานกลาง รสชาติไม่ค่อยจัดจ้านเท่าไหร่\\n- Mussel Cooked in White Wine Sauce (หอยแมลงภู่ในซอสไวน์ขาว) ตั้งแต่ทานมาจานนี้ดูจะน่าผิดหวังเป็นที่สุด ประการแรกคือหอยมันเล็กมาก หอยไทยบ้านเรายังใหญ่กว่านี้เลย ไม่ต้องเทียบกับหอยนิวซีแลนด์ ประการที่สองบางชิ้นแอบติดกลิ่นคาวมา โชคดีที่ไม่ท้องเสีย ประการที่สามรสชาติมันไม่ได้เรื่อง น้ำลวกหอยคงปนอยู่กับไวน์ขาวมากไป เลยทำให้รสชาติของสมุนไพรและเครื่องปรุงรสไม่ค่อยซึมเข้าไปในตัวหอย \\n\\n\\nในบรรดาเมนูเส้นที่สั่งไป 4 ชนิด ผมชอบรสชาติของ Pumpkin Ravioli ที่สุด อาจเป็นเพราะมันเป็น Seafood Sauce ที่ถูกปากคนไทย ไม่หวานหรือไม่เค็มจัด แต่ถ้าพูดถึง Presentation Style ก็ต้อง Spaghetti Vongole สปาเก็ตตี้หอยลายที่จัดเรียงออกมาได้ดูน่าทานมากๆ จานที่ค่อนข้างผิดหวังคือ Basil Spaghetti with Blue Crab Meat แม้เส้นจะลวกได้กำลังดีแต่พอมาทานกับเนื้อปูที่ค่อนข้างมีกลิ่นคาว มันให้บรรยากาศเหมือนกินข้าวผัดปูยังไงไม่รู้ (อันนี้ความรู้สึกส่วนตัวล้วนๆ เลยคิดว่ามันไม่น่าจะเข้ากันเท่าไหร่) ส่วนอีกจานที่เป็นเส้น Penne ยักษ์ จะดีกว่านี้ถ้าเอา Italian Sausage มาผัดแห้ง เพราะเวลาถูกสับผสมเข้าไปในซอสมะเขือมันทำให้ไม่สามารถแยกกลิ่นและรสออกจากกันได้ สรุปว่าเสียดายรสดั้งเดิมของมันจริงๆ โดยรวมสำหรับเมนูเส้น ผมให้คะแนนคุณภาพเส้น 9 เต็ม 10 เส้น Homemade ของร้านนี้เขาทำออกมาได้ดี ไม่ว่าจะเป็นเส้นอะไรก็ตาม ส่วนการรังสรรค์เมนูผมให้แค่ 8 เพราะมีบางจานดูส่วนผสมไม่ค่อยเข้ากันเท่าไหร่ ด้านรสชาติผมให้ 7 เพราะทุกจานติดเค็มไปเยอะ เข้าใจว่าเชฟคงมือหนักโรยเกลือลงไปในทุกสิ่งอย่างอัน One Pinch of Salt (หนึ่งหยิบมือของเชฟคงจะเท่าหนึ่งอุ้งมือของเราเป็นแน่)\\n\\nหลังจากลองกินไปแล้วหลายเมนู ต้องยอมรับว่าเส้นสปาเก็ตตี้โฮมเมดเจ้านี้อร่อยใช้ได้ ติดตรงที่วิธีปรุงรสน้ำซอสยังไม่ค่อยถูกใจ และเกือบทุกเมนูที่สั่งไปในวันนั้นมันจะติดเค็มเกลือไปซะทุกอย่าง แม้หน้าตาจะดูดีมีชาติสกุล แต่รสชาติยังต้องปรับปรุงอีกพอสมควร สงสัยวันนี้ Chef Luca Appino จะไม่ได้ลงมาคุมเอง\\n\\nตั้งใจจะปิดท้ายทานของหวานที่ร้านอื่นเพราะชักเริ่มไม่แน่ใจว่าผลลัพธ์จะออกมาเป็นอย่างไร กับเกลือที่ยังคงรักษาความเค็มในเมนูคาว ไหนๆ ก็ไหนๆ ให้มันรู้ดำรู้แดงกันไปเลย เลยสั่งของหวานไป 2 จานคือ Profiterole with Pistacchio Cream &amp; Chocolate Covering (340 บาท) กับ Panna Cotta with wild berry sauce (220 บาท) ผลลัพธ์ออกมาว่าไม่ผ่านทั้งคู่ จานแรกเหมือนทานเอแคลร์ราดคัสตาร์ดซอส ส่วนอีกจานเหมือนทานโยเกิร์ตราดด้วยบลูเบอร์รี่ สิริรวมแล้วมื้อนี้สั่งไปร่วม 11 จานอีกไม่กี่พันบาทราคาก็จะเฉียดหมื่น หน้ามืดเลยครับผม ครั้งต่อไปจำไว้อย่าวู่วาม ถ้าวันไหนรู้สึกหิวโหย ควรไปทานบุฟเฟต์โรงแรมจะดีกว่าครับ\\n\\nหลังจากที่ได้ทานอาหารคาวหวานมาอย่างหนักกับร้านที่ขึ้นชื่อว่าอร่อยที่สุด ณ เวลานี้ ผมต้องขอแย้งว่าไม่เห็นด้วยเท่าไหร่นัก คือแบบว่าเราพกความคาดหวังมาเต็มเปี่ยมว่าจะได้ชิมอาหารที่ต้องชูนิ้วโป้ง 2 ข้างให้ แต่โชคไม่เข้าข้าง วันนี้เชฟไม่สามารถซื้อใจผมได้ เกือบจะได้เก็บร้านนี้เป็น One of The Best Italian Restaurants in BKK แล้ว แต่ขอ Pending ชื่อไว้ก่อนจนกว่าจะได้กลับมาแก้ตัวใหม่อีกครั้ง ในคืนวันที่พระจันทร์เป็นใจ แต่ถ้าใครผ่านไปผ่านมาแถวนี้จะลองท้าพิสูจน์ดูก็ได้ วันนั้นโชคอาจเข้าข้างคุณมากกว่าผม</td>\n",
              "      <td>0</td>\n",
              "    </tr>\n",
              "    <tr>\n",
              "      <th>100</th>\n",
              "      <td>101</td>\n",
              "      <td>ตอนอยู่มหาวิทยาลัย เป็นที่ประจำเลยสำหรับร้านบ้านไร่กาแฟ สาขานี้ เพราะใกล้บ้านขืนอ่านหนังสือที่บ้าน มีหวังหลับแน่เลย\\nคราวนี้เพิ่งไปมาไม่นาน ปรับปรุงเปลี่ยนแปลงไปบ้างค่ะ ดูดีขึ้น ไปนั่งอ่านหนังสืออ่านเล่นไปสั่งชาเย็นจิบไป ชิวดีค่ะ แต่ห้องน้ำอยู่ข้างล่าง ต้องไปหลายคนหน่อยค่ะ ไม่งั้นลุกเข้าห้องน้ำไกลเหลือเกิน พนักงานก็ดีค่ะ ไม่ไล่ด้วย 555 อ่านหนังสือจนโต้รุ่งได้เลยทีเดียว ชาเย็นก็เป็นรสชาติของที่นี่ค่ะ นุ่มกลมกล่อมดี</td>\n",
              "      <td>2</td>\n",
              "    </tr>\n",
              "    <tr>\n",
              "      <th>118</th>\n",
              "      <td>119</td>\n",
              "      <td>สวัสดีเพื่อนๆชาววงใน ในวันจันทร์ที่ 16 ก.ค. นะครับ สำหรับอาทิตย์นี้ทั้งอาทิตย์ นายลักกี้จะรีวิวร้านของกินที่หัวหินเกือบทั้งสัปดาห์เลย\\nโดยร้านแรกที่นายลักกี้จะมารีวิวนี้ เป็นร้านเครื่องดื่มเก๋ๆ ดีมีการออกแบบได้ดี น่านั่ง น่าถ่ายรูป โดยร้านจะอยู่ข้างๆสถานีรถไฟหัวหินเลย\\nและร้านเครื่องดื่มที่นายลักกี้จะมารีวิวในวันนี้คือ\\n\\nร้าน HuaHin Coffee Station ครับ ^^\\n\\nที่ตั้ง : ร้านจะอยู่ข้างๆสถานีรถไฟหัวหิน\\nการเดินทาง : มาถึงด้านหน้าสถานีรถไฟหัวหิน แล้วเดินไปทางซ้าย จะเจอร้านเลย\\n\\nร้าน HuaHin Coffee Station เป็นร้านกาแฟเล็กๆ ที่ตั้งอยู่ติดกับสถานีรถไฟหัวหินเลย สังเกตได้ง่าย โดยเป็นที่นิยมของคนที่มานั่งพักรอรถไฟหรือมาเดินเล่นถ่ายรูปกัน\\nร้านจะเปิดแอร์เย็นสบาย มีขายทั้งเครื่องดื่ม และของฝากเล็กๆน้อยๆติดไม้ติดมือด้วย แถมยังมีมุมสวยๆให้นั่งถ่ายรูปอีก\\nที่นั่งร้านจะมีประมาณ 5 ที่ได้ แต่โดยส่วนมากจะว่าง เพราะคนมักจะเข้ามาซื้อกินและถ่ายรูปแล้วออกเลย ไม่ค่อยนั่งแช่เท่าไหร่\\n\\nเมนูของทางร้านก็จะมีพวกเครื่องดื่มในแบบต่างๆ เช่นคาปูชิโน โกโก้ สมู๊ตตี้ คุกกี้ และเค้ก เป็นต้น\\nโดยราคาเครื่องดื่มนั้น ส่วนใหญ่แล้ว จะอยู่ที่ แบบร้อน 50 เย็น 60 ปั่น 70 บาท ส่วนพวกของกินผมไม่แน่ใจต้องสอบถามจากทางร้านเอานะครับ\\n\\nสำหรับในวันนี้ผมสั่ง โกโก้เย็น มากินครับ\\nได้มา 1 แก้ว ขนาดกลางๆ รสชาติโกโก้อร่อยมาก รสเข้มและไม่หวานนมมาก ใส่น้ำแข็งกลางๆ ทำให้ได้น้ำเยอะ ดื่มกินแล้วเย็นชื่นใจไปเลย ^^\\n\\nสรุปคะแนนตามความคิดเห็นของผม (เต็ม 5 คะแนน)\\nรสชาติ : 4.5 = สำหรับโกโก้แก้วนี้ผมว่า อร่อยเลยครับ สั่งกินได้ไม่ผิดหวัง\\nบรรยากาศ : 5 = ชอบบรรยากาศร้านมาก แอร์เย็นสบายดับร้อนได้ดี มีมุมถ่ายรูป และที่นั่งสบาย\\nบริการ : 3.5 = บริการได้ว่องไว พูดจา OK\\nราคา : 3 = ส่วนตัวแล้ว ผมว่าราคาต่อแก้วสูงไปนิด เอาน่าซื้อบรรยากาศด้วย ^^\\n\\nข้อความ ความคิดเห็นและคะแนนต่างๆ เป็นความคิดเห็นส่วนบุคคล หากสร้างความไม่พอใจประการใดก็ขออภัยมาใน ณ.ที่นี้ด้วยครับ\\nนายลักกี้ Review at 16 / 07 / 55\\n\\nมาดูรูปกันดีกว่าครับ</td>\n",
              "      <td>2</td>\n",
              "    </tr>\n",
              "    <tr>\n",
              "      <th>123</th>\n",
              "      <td>124</td>\n",
              "      <td>สวัสดีเพื่อนๆนักรีวิวร้านอาหาร ชาวWongnai.comทุกคนครับ \\nพบกับ Captain Ton พากินพาเที่ยวกันอีกแล้ว \\nสามารถติดตามรีวิวต่างๆของผมได้ที่ http://www.facebook.com/CaptainTonEatTravel และ IG ค้นหา Captain_Ton ได้เลยครับ มาติดตามความอร่อยกับผมกันเยอะๆนะครับ\\n\\nวันนี้เป็นวันเกิดของคุณแม่ผมเอง คุณน้าก็เลยจะพาคนที่บ้านไปเลี้ยงฉลองกัน คุณแม่บอกว่าอยากทานร้านนึงที่เคยออกรายการทีวีมาก่อนหน้านี้ นั่งก็คือร้านบึงสำราญฟิชชิ่งปาร์คนั่นเองครับ ร้านอยู่ที่ซอยนวมินทร์42 เข้ามาลึกพอสมควรเลย มาทานกันช่วงเวลาเย็น คนเยอะมาก รถเต็มไปหมด หาที่จอดยากสักหน่อยครับ\\n\\nมาถึงก็เข้าไปในตัวร้าน มีปลาตัวใหญ่ๆคอยต้อนรับเราเยอะแยะเลยทั้งในรูปและตัวจริงบนประตูและ ในน้ำอิอิ ในร้านเหมือนรวบรวมทุกอย่างเอาไว้ที่เดียวทั้ง ร้านอาหาร ร้านเกมส์ ร้านขายอุปกรณ์ตกปลา กาแฟสด สนุ๊กเกอร์ และห้องพักครับ\\n\\nนั่งกันติดกับบริเวณที่มีการตกปลากัน รู้ภายหลังว่าที่นี่เป็นสมาคมตกปลาด้วยนะนี่ สั่งเมนูไปแล้ว นั่งจิบน้ำดูคนตกปลา ปลาที่นี่ตัวใหญ่มากๆ มีทั้งคนที่จับได้ และเอ็นขาดกันไปตามๆกัน\\n\\nจานแรกปลากระพงทอดน้ำปลามาแล้ว ทอดมากรอบอร่อยหอมหวานกลิ่นน้ำปลากำลังดี แต่น้ำจิ้มที่ให้มาหวานมาก -*-\\n\\nจานต่อมาเป็นไก่ทอดตะไคร้ มาพร้อมตะไคร้ฝอดทอด ทานคู่กับน้ำจิ้มไก่ หรือเต้าเจี้ยว ก็อร่อยทั้งคู่ครับ\\n\\nหมึกทอดกระเทียมหอมๆ ทอดมากำลังดี เนื้อหมึกเด้งๆ ทานกับกระเทียมเจียว อร่อยจนคำสุดท้ายเลย ชอบมากๆ ทานกับข้าวสวยอีกหน่อยยิ่งอร่อยเลย\\n\\nจานพิเศษที่ชอบที่สุด กุ้งแม่น้ำเผา1กิโล ตัวโตมากๆ ทานกับซีฟู๊ดรสแซ่บ กุ้งสดหวานมัน เผามากำลังดี เนื้อเด้งกรอบ มันกุ้งก็สุกกำลังดี ราวกับคัสตาร์ตเลย สุดยอดมากๆ\\nตามด้วยต้มยำทะเลรวม ที่มากันแบบเครื่องส้นๆ ของทะเลสดมาก แถมยังมีซุปต้มยำให้เตมเป็นถ้วยๆ ทำให้การซดต้มยำร้อนๆเป็นไปแบบไม่มีสะดุด\\n\\nจานต่อมาเป็นของโปรดของคุณผู้ใหญ่เลย เด็กๆอย่างเราเกือบไม่ได้ทาน นั่นก็คือห่อหมกทะเลมะพร้าวอ่อน ที่มาในลูกมะพร้าว รสชาติเข้มข้น หอมนวลกลิ่นมะพร้าวหอม ได้ใจไปเต็มๆเลย สำหรับจานนี้\\n\\nแกนกระหล่ำผัดน้ำปลา ดูเรียบง่ายไม่โดดเด่น แต่รสชาติแบบนี้เนี่ย ให้ทานที่10จานก็ยังไหว อร่อยมาก!!!\\n\\nหมึกผัดไข่เค็ม สีดูชีดๆ ไม่ค่อยน่าทานสักเท่าไหร่ รสชาติใช้ได้ทั้งตัวหมึกก็สดปรุงรสมากำลังดี ถือว่าธรรมดามากๆสำหรับจานนี้\\n\\nตามด้วยยำกระเพาะปลารสแซ่บ กระเพาะปลากรอบๆ ยำแบบถึงเครื่อง ทานกับเม็ดมะม่วงหิมพานต์คั่วเกลือนี่เหมาะสำหรับวงเหล้านักแล\\n\\nจานต่อมากระเพาะปลาผัดแห้ง ค่อนข้างจืด ทานกับซอสพริกก็ไม่มีความโดดเด่นอะไร\\nข้าวผัดสัปปะรด ข้าวร่วนผัดมากับสัปปะรด กุนเชียง โรยหน้าด้วยหมูหยอง รสชาติธรรมดา\\nปิดท้ายด้วยไส้กรอกอีสานทอด ทอดมาหนังกรอบ แต่ไม่ค่อยเปรี้ยว แถมทานกับซอสพริกนี่ มันไม่เข้ากันจริงๆ\\n\\nร้านนี้ถ้าท่านใดจะมาทานของอร่อยแนะนำว่าให้สั่งแต่เมนูแนะนำ ที่ทางร้านเขียนไว้ในเมนูเท่านั้น เพราะหลังจากเมนูแนะนำแล้ว ก็เริ่มธรรมดา หรือแย่ไปในทันที ถือว่าอร่อยโดนใจครับ ร้านนี้ แถมยังมีบริการอื่นๆให้เลือกสรรค์อีกด้วย ใครผ่านไปมาแวะได้ครับ อร่อยไม่ผิดหวังแน่นอน แต่ต้องทำตามคำแนะนำนะครับอิอิ\\n\\nครั้งหน้าผมCaptain Ton จะอาสาพาทุกท่านไปกิน ไปเที่ยว ที่ไหนกันอีก ติดตามได้ที่นี่ \\nและที่ FB ของผมนะครับแล้วมาเป็นเพื่อนกันนะครับ ^ ^</td>\n",
              "      <td>0</td>\n",
              "    </tr>\n",
              "    <tr>\n",
              "      <th>138</th>\n",
              "      <td>139</td>\n",
              "      <td>เป็นคำถามยอดฮิต เวลาไปไหนคือ กินอะไรดี แล้วยิ่งถ้าไป ตจว. ยิ่งเป็นคำถามที่ตอบยากมาก เพราะเราไม่รู้ว่าตรงไหนอร่อย บางทีร้านอร่อยก็อยู่โคตรไกล \\n\\nร้านข้าวแกงทองพันชั่ง เป็นร้านข้าวแกงในปั้ม ปตท. จำง่ายๆ คือ ถึงแยกอ่างทอง ปุ๊บ ขับเลยไปหน่อยนึงจะเห็นปั้มปตท. เลี้ยวเข้าไปเลย จะมีป้ายร้านข้าวแกงอนู่หน้าปั้ม\\n\\nที่ร้านจะมีเมนูมากมายให้เลือกทาน ทั้งข้าวแกง ก๋วยเตี๋ยว ข้าวมันไก่ \\n\\nเราเลือก แกงมะระใส่หมู กับ ไข่ดาว (35 บาท) อารมณ์อยสกกินแกงกะทิ ขมๆ กับหมูสามชั้น รสชาติไม่ผิดหวัง แกงรสชาติขมนิดๆ กับหมูสามชั้นนิ่มๆ กินกับไข่ดาว อร่อยดี แต่รสชาติของแกงยังไม่ถึงเครื่องมากนัก คือรสชาติกลางๆ พอทานได้\\n\\nถ้าหิว เดินทางสายเอเชีบเข้า กทม. ไม่รู้จะทานอะไรแวะร้านนี้ได้ ถูก อร่อย ไม่ผิดหวัง\\n\\nปล. กินเสร็จ เรียก พนง. มาเก็บตังที่โต๊ะ เหมือนร้านข้าวแกงข้างนอก ไม่ต้องแลกคูปองนะจ๊ะ \\n</td>\n",
              "      <td>0</td>\n",
              "    </tr>\n",
              "    <tr>\n",
              "      <th>141</th>\n",
              "      <td>142</td>\n",
              "      <td>ผมเคยไปอาศัยอยู่ที่จีนมาพักนึง เลยค่อนข้างจะคุ้นเคยกับรสชาติอาหารแบบจีนแท้ ๆ ร้านนี้เป็นร้านอาหารเสฉวน ตอนเห็นรูปอาหารหน้าร้านนี่แทบจะพุ่งเข้าไปกินเลย เนื่องจากไม่ได้กินอาหารเสฉวนมานานมากแล้ว และร้านนี้ก็ไม่ทำให้ผิดหวังครับ\\n- กานกัวซานซู่ เป็นผัดผักรวมแบบขลุกขลิก ที่เด่น ๆ ก็จะเป็นรากบัว ดอกกะหล่ำ เห็ดหูหนู ผัดรวมกัน\\n- หมาล่าเข่าหยู เป็นปลาย่างราดด้วยน้ำมันพริกแบบเสฉวน พริกของที่นี่เรียกว่าฮัวเจียว จะเผ็ดแบบลิ้นชา คนที่ไม่เคยกินอาจจะรู้สึกว่ารสชาติแปลก แต่คนที่คุ้นเคยแล้วบอกเลยว่าฟิน\\n- ซวนล่าเฝิ่น เป็นเส้นก๋วยเตี๋ยวใส ๆ คล้ายวุ้นเส้น แต่เส้นจะเหนียว และดึ๋ง ๆ กว่า ใส่มาในซุปรวชาติเผ็ดเปรี้ยว\\n- ล่าจึจี เป็นไก่ทอดแห้ง ๆ ใส่กับพริกแห้งและฮัวเจียว จะอร่อยกว่านี้ถ้าไก่เป็นแบบติดหนัง ที่นี่จะเป็นเนื้อล้วน\\n- หยางโจวเฉ่าฟั่น เป็นข้าวผัดสูตรจีน รสชาติก็ธรรมดาครับ\\n- หยางโร่วช่วน (Lamb Satay) อันนี้รสชาติจะเพี้ยนจากของจีนไป ออกหวานและมีน้ำจิ้มสะเต๊ะ ถ้าของจีนแท้ ๆ จะไม่มีน้ำจิ้ม และเนื้อก็จะอุดมไปด้วยเครื่องเทศ\\n- กุ้งผัดบลอคเคอรี่ รสช่ติโอเคครับ\\n\\nถ้าใครอยากลองอาหารเสฉวนแนะนำร้านนี้เลย รสชาติใกล้เคียงกับเสฉวนแท้ ๆ ไม่ต้องไปกินไกลถึงเมืองจีน ผมกินด้วยความเอร็ดอร่อยมาก ไปกิน 3 คน สั่งมา 7 อย่าง อิ่มและฟินมาก</td>\n",
              "      <td>0</td>\n",
              "    </tr>\n",
              "    <tr>\n",
              "      <th>147</th>\n",
              "      <td>148</td>\n",
              "      <td>มาแบบงงๆ หายากนิดนึง แต่ถ้าหาเจอแล้วไม่ผิดหวังเลยคะ ที่นี่นอกจากจะเป็นร้านกาแฟและร้านอาหารสไตล์อิตาเลียนแล้ว รู้สึกว่าจะเปิดสอนทำอาหารด้วย ซึ่งอาหารอร่อยยมากคะ แนะนำคาร์โบนาล่า เลย เข้มข้นสุดๆ เค้กก็อร่อยยยย</td>\n",
              "      <td>2</td>\n",
              "    </tr>\n",
              "    <tr>\n",
              "      <th>149</th>\n",
              "      <td>150</td>\n",
              "      <td>จอดรถริมถนนหน้าร้าน ไม่ต้องกังวลที่เหลือเฟือเพราะเป็นถนนซอย \\n\\nอาหารจานเด่นจะเป็นสปาเกตตี ลองมาหลายจานก็อร่อยทั้นั้น เส้น al dante พอดี รสเข้มข้น คาโบนารา ผัดพริกกระเทียม อร่อยหมด ข้าวจานเดียวก็ใช้ได้แต่ไม่เด่นเท่าเส้นราคาก็จะไม่ถึงร้อย แต่พาสต้าจะร้อยขึ้นไปจนสองร้อยกว่า ปีกไก่ทอดสั่งมากินแล้วห่อเหี่ยวมาก ก็แห้งอร่อยใช้ได้แต่จานนึงมีปีกกลางผ่าครึ่งอยู่ 5 ชิ้น! ขายจานละ 60 จานที่ใส่มาว่าเล็กแล้วยังดูโหรงเหรงเลย ขายแพงขึ้นแต่ปริมาณเหมาะกับหนึ่งจานจะดูดีกว่านี้ คราวหลังเจออย่างนี้จะถ่ายรูปเอาไว้\\n\\nเค้กก็อร่อยดีแต่ค่อนข้างแพง ชี้นละเกือบร้อยถึงร้อยกว่าๆ ทีเด็ดอยู่ที่พวกเครปชอบมากกว่า เบาๆดี  เครปซอสส้ม เครปไส้กล้วยราดช็อก อร่อย\\n\\nกาแฟเป็นส่วนที่น่าผิดหวัง เพราะขึ้นชื่อว่าร้านกาแฟแต่กาแฟไม่อร่อย ลาตเต้ร้อนไม่ร้อนเลยสงสัยสตีมนมไม่ได้ที่ ลาตเต้อาร์ตก็ออกมาน่าเกลียดขนาดไม่มียังดีกว่า ไม่ได้เข้าไปมองว่าใช้เครื่องยี่ห้ออะไร \\n\\nสถานที่เป็นบ้านที่ดัดแปลงเป็นร้าน จะคับแคบหน่อย มีไม่กี่โต๊ะ ตกแต่งบรรยากาศน่ารักดี แอร์ไม่เย็น ถ้าโต๊ะเต็มต้องไปนั่งโต๊ะเสริมอีกห้องนึงซึ่งโต๊ะ เก้าอี้ บรรยากาศแย่กว่ากันมากๆ\\n\\nสรุปอาหารอร่อยแต่ราคาแพงยังกะอยู่ในห้าง ร้านอยู่ในซอยลึกราคาน่าจะเป็นมิตรกว่านี้ แต่ราคานี้คนก็เข้าร้านไม่ขาดสายอยู่แล้ว รถจอดหน้าร้านเต็มตลอด.</td>\n",
              "      <td>3</td>\n",
              "    </tr>\n",
              "    <tr>\n",
              "      <th>165</th>\n",
              "      <td>166</td>\n",
              "      <td>ร้านกาแผนรสิงห์ ณ วังพญาไท กับบรรยากาศคลาสสิค ในสไตล์ยุโรป ณ พระที่นั่งพิมานจักรี  ตัวอาคารก่อด้วยอิฐสวยงาม มี2 ชั้น เก้าฮี้และโต๊ะ ตกแต่งอย่างมีสไตล์มากๆๆ  ราคาของกาแฟจะตกอยู่ที่ประมาณ 45-55 บาท เมนูที่แนะนำคือ เค้กชาไทย กาแฟนรสิงห์ นอกจากนี้ยังมี อาหารคาวอีก คือ ข้าวหมูอบสไตล์ฝรั่งเศสหมูเค็มขนมปังปิ้งสลัดผัก สลัดแฮม ;waffles ร้านนี้เหมาะการถายรูปหรือมากับแฟนมากๆๆ เนื่องจาก บรรยากาศจะโรแมนติก สุดสุดและรับรองการสวีทกันแน่นอนคร้า</td>\n",
              "      <td>2</td>\n",
              "    </tr>\n",
              "    <tr>\n",
              "      <th>172</th>\n",
              "      <td>173</td>\n",
              "      <td>ร้านนี้มากินตามดีลเวปดีลชื่อดังค่ะ (ราคาดีล 198฿ จากราคาเต็ม 399฿)ร้านอยู่ที่พาวิลเลี่ยนประตูน้ำ เป็นตึกขายเสื้อผ้าตึกใหม่แถวประตูน้ำแต่ไม่ได้อยู่ติดกับแพลตตินั่มนะคะ อยู่เส้นที่ตรงจากอนุสาวรีย์ไปCTW ค่ะตึกอยู่ทางซ้ายมือ มีที่จอดรถค่ะ จอดเสร็จก็เดินผ่านร้านเสื้อผ้าขึ้นไปชั้น5จะเป็นชั้นที่รวมร้านอาหารหลายๆร้านค่ะ\\n\\nก่อนจะมากินดีลนี้เคยเข้าไปอ่านที่คนอื่นมารีวิวมีเสียงบ่นค่อนข้างเยอะค่ะ ว่าคนซื้อดีลกันเยอะมากจนพนง.บริการไม่ทัน ของเติมไม่ทัน ของบางอย่างก็ไม่มีซะงั้น เราเลยจองมากินกลางวันวันธรรมดา แถมเป็นช่วงเจอีกต่างหาก เพื่อหลีกเลี่ยงปัญหานี้ค่ะ\\n\\nมาถึงยื่นดีลพร้อมแจ้งชื่อตามที่จองไว้ มาเลทกว่าเวลาที่จองไว้ 1 ชม. แต่ไม่มีปัญหาอะไรเพราะทั้งร้านมีคนกินแค่โต๊ะเดียวค่ะ เค้าก็พาไปนั่ง ถามว่าจะเอาซุปอะไร (มิโซะ กิมจิ ชาบู) เสร็จก็เดินไปตักได้เลยค่ะ \\n\\nร้านนี้หลากหลายจริงๆ ขอแบ่งเอาเองเป็น 5 โซนแล้วกันนะคะ^^\\n1. ของทานเล่นแบบสั่งทำ (ทาโกะยากิ ยากิโซบะ พิซซ่าญี่ปุ่น) ที่โต๊ะมีคลิปดำเอาไว้ให้เอาไปหย่อยสั่งที่เคาเตอร์ค่ะ แต่เหมือนร้านโดนบ่นเรื่องทำอาหารไม่ทัน วันที่ไปเค้าเลยมีพวกทาโกะ พิซซ่าญี่ปุ่นกองไว้หน้าเคาเตอร์แล้ว ผลคืออาหารเย็นชืดค่ะ ถ้าร้อนๆน่าจะอร่อย เสียดายจังร้านน่าจะรักษาจุดยืนตัวเองไว้ว่าให้สั่งเอาจะได้ทำร้อนๆ\\n2.ของทานเล่นพวกสลัด ยำ มียำสาหร่ายไว้ให้เยอะมาก อร่อยค่ะ สลัดไข่หวาน สลัดทูน่า สลัดปลาดิบ และอื่นๆรวมเกือบ 10 อย่างแน่ะค่ะ\\n3. น้ำจิ้ม มีตั้งเป็นชั้นไว้สวยงามค่ะ เป็น 10 อย่างเลย ชาบูงา น้พจิ้มแจ่ว ซีฟู๊ด ซีอิ้ว ซอสพริกไทยดำ พอนสึ\\n4.โซนหลักค่ะ ของไว้ปิ้งย่างชาบู ผักหลายชนิดเลย ที่ชอบคือฟักทองชิ้นโต ที่อื่นไม่ค่อยมีค่ะ ด้านซีฟู๊ดมีปลาหลายชนิด แซลมอน ปลาไข่ ดอลลี่ ซาบะ ปลาหมึก กุ้งแก้ว (หอยแมงภู่ไม่มีซะงั้น จริงๆมันต้องมีนะตามที่เค้าโฆษณาอะค่ะ T-T) ตรงนี้ที่แนะนำเลยคือแซลมอนอร่อยสดค่ะ กุ้งแก้วปิ้งอร่อยมาก กรุบๆ ปลาเนื้อขาวอีกอย่าง ไม่แน่ใจว่าปลาอะไรนะคะ มันๆหน่อย อร่อยดีค่ะ อีกด้ายของโซนนี้จะเป็นพวกเนื้อ หมู ไก่ค่ะ ได้อารมณ์เหมือนกินหมูกระทะข้างทางพิกลอ่ะค่ะ เพราะร้านชาบูส่วนใหญ่จะมีเนื้อ หมูให้เลือกหลายแบบแล้วสไลซ์มาอย่างดี แต่ที่นี่ไม่ใช่ค่ะ เนื้อ หมู ไก่ แบบไม่ปรุงมีอน่างละ 1 แบบค่ะ ไม่รู้ว่าทำมาจากส่วนไหนสันนอก สันใน อะไรไม่รู้เลย หั่นกองๆไว้ค่ะ จะไปหนักที่ทำปรุงรสเยอะมาก ไก่กาแฟ ไก่กิมจิ ไก่แกงกะหรี่ 20 แบบได้มั้งคะ แต่การจัดวาง+การหั่นไม่น่ากินอะค่ะ หั่นปนกะส่วนหนัง ส่วนมันมาด้วย โซนนี้เลยชิมไปนิดเดียวจริงๆขอบายอะค่ะ ใครชอบกินเนื้อพรีเมี่ยมข้ามร้านนี้ไปเลยค่ะ\\n5.ขนมหวานค่ะ มีน้ำแข็งใส ต้องกดเครื่องเองค่ะ เครื่องของญี่ปุ่นไปมองๆเจอปุ่มon กดเลยค่ะ กดแล้วน้ำแข็งไม่ไหลออกมา พนง.เดินมาช่วยค่ะ ต้องเปิดฝาเครื่องข้างบนก่อนเพื่อใส่น้ำแข็งลงไปค่ะ เขินเลย -_-\" น้ำแข็งออกมาไม่ละเอียดมากนะคะ ปินละเย็นเจี๊ยบ(เย็นกว่าน้ำแข็งละเอียดแบบเกล็ดหิมะ) มีน้ำแดง น้ำกะทิให้เลือกราด พร้อมหน้าอีกหลากอย่างค่ะ ไปที่ตู้ไอติมบ้าง ไอติมมีเรนโบว์ ช็อกโกแลตให้โรย 4-5 แบบค่ะ นอกจากนี้ก็มี ผลไม้ แล้วก็เยลลี่ เพนนาคอตต้า \\n\\nร้านนี้เด่นเรื่องความหลากหลาย แต่คุณภาพไม่สูงค่ะ ราคาดีล 198฿ ถือว่าโอเคอยู่ แต่ถ้าราคาเต็ม 399฿ เราไม่กินค่ะ \\n\\nด้านบริการ ไม่โอค่ะ พาไปโต๊ะ จัดซุปให้ชาบูละหายไปเลยค่ะ ไม่มีการมาเก็บจานอีก ต่อให้กินจนไม่มีที่วางจานแล้วก็ไม่เก็บค่ะ ทำน้ำหกที้พื้นก็ไม่มาเช็ด ไปยืนเม้าแตกกันอยู่หน้าร้าน ขวางตรงที่จะตักซีฟู๊ดพอดีอีกต่างหาก ทั้งที่มีพนง.เกิน 10 คนแต่มีลูกค้าแค่ 2 โต๊ะแท้ๆ คงคิดว่าบุฟเฟ่ห์ลูกค้าตักกันเองอยู่แล้วเลยไม่สนใจมั้งคะ ไม่รู้จะมีพนง.เยอะขนาดนี้ไว้ทำไม\\n\\nอุ๊ย เผลอบ่นเยอะอีกแล้ว ก่อนจะจบรีวิวนี้ ขอพูดถึงเครื่องปิ้งของเค้าซักหน่อยค่ะ เค้าบอกว่าเอาเครื่องมาจากเกาหลี เก็บความร้อนดี ไม่ร้อนหน้า หน้าไม่มัน แต่!! จากที่ได้กิน ความร้อนไม่ขึ้นหน้าจริง แต่ควันขึ้นนะคะ กลับบ้านได้สระผมใหม่แน่นอน ตัวเครื่องร้อนค่ะระวังมือไปโดน โดยเฉพาะถ้ามีเด็กไปด้วยต้องระวังมากๆค่ะ ความร้อนระบายลงใต้โต๊ะด้วยค่ะ ควรใส่กางเกงขายาวไปค่ะ เรื่องความติดกระทะ คนล่นกันเยอะเลย แต่ถ้าเราราดซอสสำหรับปิ้งย่างที่มีให้ที่โต๊ะลงไปจะไม่ติดค่ะ\\n\\nจบรีวิวแล้วค่ะ ต่อไปคงงดรีวิวบุฟเฟ่ห์ซักระยะนะคะ อ้วนมากแล้ว (จริงๆคือกินบ่อยเริ่มเอียนค่ะ ฮ่าๆ)</td>\n",
              "      <td>3</td>\n",
              "    </tr>\n",
              "    <tr>\n",
              "      <th>174</th>\n",
              "      <td>175</td>\n",
              "      <td>พอดีแวะมาจากโรงพยาบาลสงฆ์ นึกขึ้นได้ว่าอยากลองมานานเลยต้องไปแวะซะหน่อย\\n  การเดินทางก็เข้ามาท่ีโรงพยาบาลพระมงกุฎ แล้วจะมีป้ายบอกทางไปวังพญาไท น่ันแหละครับ\\nบรรยากาศ ยังคงความเก่าไว้มาก น่ังชิลๆ\\nเมนูก็จะมีเปล่ียนไปทุกวัน ผมส่ัง ลาเต้เย็น ก็ใช้ได้ แต่ก็ไม่เท่ากับ ร้านท่ีเป็นร้านกาแฟ แบรนด์เนม\\nส่วนอาหารผมส่ัง สันนอกหมู ซ่ึงเป็นแฮมรมควัน กับมันบด แต่มันบดไม่ผ่านเพราะเนื้อไม่แน่น \\nแนะนำมาชมความสวยงามของวังของเจ้าสมัยก่อนครับ</td>\n",
              "      <td>3</td>\n",
              "    </tr>\n",
              "    <tr>\n",
              "      <th>192</th>\n",
              "      <td>193</td>\n",
              "      <td>[สถานที่ตั้ง]\\nThe Mall Bangkapi Fl.4 (ตรงข้าม Swensens)\\nถนนลาดพร้าว วังทองหลาง บางกะปิ กทม.\\nเปิดทุกวัน : 11.00-22.00\\n\\n[ความคิดเห็น]\\nFuku Matcha เป็นร้านชานมไข่มุกอีกทั้งยังมีซอฟครีมที่อร่อยมากๆ ส่วนตัวดาวชอบทานซอฟครีมมากกว่า แต่วันนี้พนักงานบอกที่ร้านเครื่องทำซอฟครีมพัง อุต๊ะ!!! อนาถใจมาก สงสารตัวเองที่สุด ..แง้ๆๆๆๆ???????????? \\nไม่เป็นไร เมื่อไม่มีซอฟครีมดาวเลยสั่ง \"นมสดโตเกียวบานาน่า\" หรือนมกล้วยญี่ปุ่นนั่นเอง เลือกใส่พุดดิ้งคิดเพิ่ม 15 บาท รวมราคาแก้วนี้ 70 บาทค่ะ รสชาติของนมสดหอมมากๆ หอมกลิ่นกล้วย พุดดิ้งก็อร่อย ทานเข้ากันดีค่ะ  ราคาที่ดาวจ่ายเป็นแก้วไซส์เล็กนะคะ แต่ได้มาเป็นแก้วใหญ่แบบบงงๆ ไม่รู้พนักงานทำผิดหรือตั้งใจ ดาวก็ไม่ได้ถาม ฮ่าๆๆๆ????</td>\n",
              "      <td>1</td>\n",
              "    </tr>\n",
              "    <tr>\n",
              "      <th>195</th>\n",
              "      <td>196</td>\n",
              "      <td>ส้มตำสมุทรปราการ มีร้านอร่อยเด็ด ๆ อยู่หลายร้าน ร้านเด่น ๆ ก็เช่น ส้มตำดนตรีแฟรนไชส์ชื่อดังที่ไม่หวงผงชูรส ร้านส้มตำพระคุณแม่กลางตลาดปากน้ำที่แอนตี้ผงชูรสสุด ๆ แต่อร่อยสุด ๆ เช่นกัน แต่สำหรับเขตบางพลีบางบ่อ ครูเม้งขอยกนิ้วกดไลค์ให้ \"ส้มตำโปงลาง\"\\n\\nสำหรับคนที่มาจากถนนบางนา-ตราด ให้กลับรถที่สะพานกลับรถ กม.29 บริเวณปากทางเข้า ม.เอแบค บางนา เพื่อมาเลี้ยวซ้ายเข้าชุมชนบางบ่อ เมื่อเลี้ยวแล้ว ให้ตรงไปประมาณ 200 เมตร สังเกตหมู่บ้านกัลปพฤกษ์ทางซ้ายมือ แล้วเลี้ยวเข้าไปได้เลย ร้านจะอยู่ทางขวามือเมื่อเลี้ยวเข้ามาได้ 50 เมตร หน้าร้านมีการปลูกต้นไม้เพื่อดักฝ๊่นเยอะ ๆ\\n\\nส่วนคนที่มาจากถนนสุขุมวิทสายเก่า หรือถนนเทพารักษ์ ให้เข้ามาที่บริเวณที่ว่าการอำเภอบางบ่อเสียก่อนจากนั้นขับตรงขึ้นไปผ่านตลาดสด ยาวไปอีก 2 กิโลเมตร จะเห็นหมู่บ้านกัลปพฤกษ์ทางขวามือ ก็เลี้ยวขวาเข้าไปเลยเช่นกัน\\n\\nส้มตำโปงลางเปิดสัปดาห์ละ 6 วันยกเว้นวันอาทิตย์   ร้านเปิดประมาณ 11 โมงเช้า ปิดประมาณ 3 ทุ่ม ควรหลีกเลี่ยงช่วงเที่ยง และ 6 โมงเย็นเพราะจะมีข้าราชการมากินเยอะมาก ส่วนเย็นวันศุกร์จะเป็นการรวมตัวของสาวโรงงานและหัวหน้างานที่วุ่นวายยิ่งกว่า\\n\\nเมื่อจอดรถบริเวณรอบ ๆ ร้านเรียบร้อย ก็เข้าไปเลือกที่นั่ง จะมีกระดาษและดินสอที่โต๊ะ ให้เลือกติ๊กรายการที่ต้องการ แต่กรุณาเลือกด้วยความรอบคอบ แม้ราคาจะไม่สูงคือ จานละ 40-50 บาท แต่หากเลือกหลายอย่าง อาจตกใจกับราคารวมได้\\n\\nครูเม้งขอเรียกร้านนี้ว่าส้มตำตามใบสั่งนะครับ ร้านนี้อยากกินแบบไหนให้จดลงไปในใบสั่งนั่น ห้ามสั่งปากเปล่า พนักงานจะทำไม่รับรู้ เว้นแต่คุณจะรวยมาก มากินบ่อย หรือสั่งครั้งละเป็นพันบาทขึ้นไป อ้อ หรือขับรถเบนซ์มาเท่านั้น จึงจะได้รับบริการที่แตกต่างอย่างเห็นได้ชัด เช่น หากคุณไม่กินเผ็ด ไม่กินปลาร้า จงเขียนสั่งลงไปในใบนั่นด้วย การบอกปากเปล่า อาจทำให้ส้มตำถั่วกระจกของคุณเผ็ดจี๋และกลิ่นตุ ๆ ได้ครับ\\n\\nอาหารเด็ดที่นี่นอกจากส้มตำแล้ว ก็คือไก่ย่าง อร่อยดี แต่เป็นแม่ไก่สาวตัวน้อย ยังไม่โตมาก ย่างขายเป็นตัว และเสิร์ฟเป็นตัวเท่านั้น ราคาตัวละ 120 บาทถ้วน !!! นอกจากนั้นโต๊ะไหนมาก็ต้องสั่ง ก็มี ไก่ทอดน้ำปลา เป็นน่องเล็ก ผ่าแบ ๆ เอาไปหมักซอสถั่วเหลืองจนเค็มลงทอดจนเหลือง เสิร์ฟจานละ 4 ชิ้น 60 บาท .. อีกอย่าง คือ ไก่ทอดโปงลาง ก็คือ ไก่ทอดแบบที่ BTS อ่อนนุช ใช้ส่วนต้นขาไก่ที่มีกระดูกสองชิ้น มาหมักเครื่องเทศและสมุนไพร ลงทอดร้อนจัดแล้วเสิร์ฟเช่นกัน\\n\\nนอกจากนั้นที่สาวโรงงานชอบสั่งก็เช่น เส้นหมี่ลวก มากินกับส้มตำ คงอร่อย เห็นร้อน ควันขึ้นฉุยเลย สั่งกันทุกโต๊ะ นอกจากนั้น ก็มีต้มเกาเหลาลูกชิ้นหมูเอาไว้ซดน้ำเล่น ๆ\\n\\nทุกอย่างครูเม้งชอบหมดนะ เว้นแต่เรื่องความสะอาดนี่แหละ เพราะนอกจากจะไม่ค่ยล้างครกแล้ว ถุงพลาสติกที่ใส่ข้าวเหนียวมาในกระติบ ยังไม่เปลี่ยนอีกด้วย ที่ทราบ เพราะเห็นมากับตา เขามานั่งทำตอนคนซาแล้วใกล้ ๆ โต๊ะที่ครูเม้งทาน หัวหน้าแม่ครัวจะบรรจงเอากระติบเปล่าที่คนกินแล้ว มาจัดถุงให้เข้าที่ แล้วปิดฝาพร้อมใส่ข้าวเหนียวใหม่ลงไปก่อนเสิร์ฟ หรือนี่อาจเป็นเหตุผลที่คนแถวนี้กินแต่ข้าวเปล่ากับเส้นหมี่ของร้านนี้ ไม่กินข้าวเหนียวกระมัง ที่สำคัญ ข้าวเหนียวกระติบละ 10 บาท บางลูกเราอาจคิดว่า 2 บาทเพราะมันน้อยมาก หากไปคนเดียวคงเรียกมาถามละ แต่คนที่ไปด้วยเขาขี้เกรงใจคนสุด ๆ เวลาครูเรียกพวกคนขายมาถาม โดนบ่นทุกที\\n\\nเอาเป็นว่าใครจะลองไปกินก็ระวังเรื่องนี้เอาเองละกัรนะครับ สำหรับครูเม้ง กินเสร็จก็จะแกะถุง เอาออกมาทิ้งครับ เผื่อคนขายจะสำนึก แต่ไม่รู้ว่าที่นี่ล้างหลอดเหมือนร้านส้มตำดนตรีหรือเปล่านะ จำไม่ได้ละ เพราะหลัง ๆ ไม่ได้ไปกินช่วงหลางวันแล้ว ไม่เข้าใจว่าจะลดคอสต์แบบประหลาด ๆ ไปทำไมกัน หลอดที่ล้างนี่คือ หลอดเก่าที่มีคนใช้แล้วนะครับ เอามาล้างแล้วตากแดด พร้อมเสิร์ฟใหม่ เฮ้อ น่ากลัว\\n\\n\\n</td>\n",
              "      <td>3</td>\n",
              "    </tr>\n",
              "    <tr>\n",
              "      <th>201</th>\n",
              "      <td>202</td>\n",
              "      <td>เช้านี้เกิดอยากทานข้าวแกงใต้ เหมือนทุกอย่างจะเป็นใจ เจอโดยบังเอิญซะงั้น ร้านพี่นันสังเกตุง่ายๆ อยู่ติดกับร้านต้นไม้ มีที่จอดรถกว้างขวาง ใครผ่านมาปากเกร็ดก่อนจะถึงตลาดปากเกร็ด หรือใครมาเที่ยวเกาะเกร็ดก็มาเติมพลังกันก่อน\\n\\nข้าวแกงที่นี้มีให้เลือกมากมาย รสชาติเผ็ดจัดจ้าน ที่สำคัญยังคงมีผักสดและน้ำพริกกะปิให้ตักทานให้หน่ำใจ เอาเป็นว่าไม่ผิดหวังจริงๆ อิ่มของคาวก็ทานวุ้นกะทิล้างปาก หรือจะเดินมาด้านนอกก็มีร้านกาแฟน่ารักๆ รายรอบด้วยไม้ดอกไม้ประดับก็แสนจะมีความสุข</td>\n",
              "      <td>3</td>\n",
              "    </tr>\n",
              "    <tr>\n",
              "      <th>204</th>\n",
              "      <td>205</td>\n",
              "      <td>สวัสดีเพื่อนๆพี่ๆชาวนักชิมแห่ง wongnai.com ทุกท่านครับ \\nผม Captain Ton ขออาสาส่งความสุขให้ทุกท่านกันอีกครั้งครับ \\nสามารถติดตามรีวิวต่างๆของผมได้ที่ http://www.facebook.com/CaptainTonEatTravel และ IG ค้นหา Captain_Ton ได้เลยครับ มาติดตามความอร่อยกับผมกันเยอะๆนะครับ \\n\\nคำว่า\"บุฟเฟต์\" ราวกับความสุขของเหล่าคนชอบกินและชอบความคุ้ม วันนี้ผมจะพาทุกคนมาหาความสุขกันที่ร้าน MK Buffet สาขาฟิวเจอร์ปาร์รังสิตกันครับเพราะว่าที่นี่เป็นสาขาเดียวที่มีสุกี้บุฟเฟ่ต์ ให้ทานได้ไม่อั้นตลอดทั้งวัน และทุกวันทำการ ต่างจากสาขาอื่นที่ยกเว้นเสาร์-อาทิตย์บ้าง แต่มาที่นี่ได้ทานชัวร์ครับ \\n\\nส่วนราคานั้นก็มี 2 ราคาตามช่วงเวลาได้แก่ 10.00-17.00ราคา319บาท net และหลัง 17.00เป็นต้นไป 349บาท net \\nจะไปทานเวลาไหนต้องจ่ายเท่าไหร่ก็ต้องวางแผนให้ดีนะครับ ส่วนเรื่องอาหารนั้นก็มีมากมายหลากหลายมาก ดูจากรูปแล้วกันนะครับ \\n\\nเข้ามาถึงในร้านก็เลือกที่นั่งได้ตามสะดวกเลย แต่ว่ามาเที่ยงๆแบบนี้คนเยอะมากหาที่นั่งแทบไม่ได้เลย เข้ามานั่งเกือบในสุดเลย \\n\\nสักพักพนักงานก็จะมาสอบถามว่ารับเป็นบุฟเฟต์ หรือ A la carte มาถึงถิ่นขนาดนี้แล้วก็ต้องจัดเต็ม!!! \\nก่อนทานก็ต้องอ่านกฎระเบียบการทานด้วยนะครับ มิเช่นนั้นท่านอาจจะถูกปรับเอาได้ เดี๋ยวหาว่าไม่เตือนนะ \\nสั่งเมนูที่ท่านคิดว่าอยากทาน อร่อย และคุ้ม จัดเต็มด้วย สมุดตามในฉัน(เมนู)ได้เลย \\n\\nไม่นานนักหม้อน้ำซุปสีแดงอันเป็นเอกลักษณ์ก็ถูกยกออกมาพร้อมน้ำซุปในหม้อ ปิดฝาเอาไว้ก่อน รอเดือดก่อนนะ \\nน้ำจิ้มของMK ก็หนีไม่พ้นเจ้า2สูตร ทั้งน้ำจิ้มสุกี้สูตรดั้งเดิมและสูตรเด็กน้อย รสชาติที่คุ้นเคย \\nแต่รู้สึกว่าสูตรดั้งเดิมมันจะเปรี้ยวๆไปหน่อยนะหรือเค้าปรับสูตรใหม่เพื่อลดมะนาวหว่า ??? ช่างมันเถอะ \\nส่วนใครที่เคยบ่นว่าMKหวงพริก หวงกระเทียม แต่สาขาที่นี่ไม่ใช่นะครับ ให้มาเป็นถาดวางไว้บนโต๊ะเติมได้ตามใจเลย สะใจดีจัง \\n\\nน้ำดื่มของที่นี่ก็มีหลายอย่างนะครับ ทั้งชาจีนต้นตำรับ ชานมสูตรเข้มขันสุดๆ กาแฟ ชาเขียว และน้ำอัดลมมีให้เลือกค่อนข้างหลากหลายดีครับ แต่ที่ผมติดใจที่สุดก็ต้องเจ้านี่เลย ชานมสูตรเข้มข้นมาก ถ้าใส่ไข่มุกอีกหน่อยนี้ร้านดังๆเจ๊งแน่นอน พูดเล่นนะครับแต่มันอร่อยจริงๆนะ \\n\\nไม่นานนักอาหารที่สั่งไปค่อยๆทยอยมาแล้วครับ มาในทาวเวอร์สีแดงตามแบบฉบับดั้งเดิม และติ่มซำเนื้อแน่นรสชาติเยี่ยมที่ผมเดินทางมาถึงที่นี่ก็เพื่อเจ้าสิ่งนี้นี่แหละครับ จิ้มกับจิ๊กโฉ่วสูตรเฉพาะของทางร้าน อร่อยสมกับที่เดินทางมาจริงๆ \\n\\nขนมจีบหมูอร่อยแป้งบางเนื้อแน่นสุดๆ ขนมจีบกุ้งเนื้อแน่นเคี้ยวกี่คำก็เจอกุ้ง ฮะเก่าเนื้อแน่นแต่แป้งแต่แป้งเละไปหน่อยไม่ค่อยปลื้ม \\n\\nส่วนหมี่หยกของร้าน MK เหมือนจะเป็นเกรด B หรืออย่างไร เส้นใหญ่ เหนียว กระด้าง ติดกันเป็นพรืด ไม่เหมือนที่เคยทานเมื่อก่อน ผิดหวังเล็กน้อย \\n\\nกางออกของสดมาดูกันจะๆ ว่ามีอะไรบ้าง ดูสด น่าอร่อยไม่มีปัญหาเรื่องกลิ่นและสีสันครับ นำจับต้มให้สุกตามระเบียบ คงไม่มีใครทานดิบๆเย็นๆสินะ อิอิ \\n\\nจับเนื้อมาลวกๆลองชิมดูครับ นุ่มเด้งมากแต่ไม่ค่อยชอบเท่าไหร่ส่วนตัวคิดว่าเหมือนเนื้อปลอมเลย มันเด้งๆไร้กลิ่นเนื้อชืดมากเลยครับ แต่พอทานกับน้ำจิ้มของที่นี่ก็พอถูไถไปได้ \\n\\nทานไปทานมาชักเริ่มเบื่อ เริ่มเลี่ยน สั่งซาลาเปาหมูแดงมา1เข่ง ไส้อร่อยมากครับ แต่แป้งค่อนข้างจืด และกระด้าง สรุปคือไม่ผ่านครับ \\n\\nอิ่มแล้วก็ตบท้ายด้วยของหวานอย่างไอศกรีมเชอร์เบตมะนาว และทับทิมกรอบครับ ไอศกรีมเชอร์เบตของที่นี่เข้มข้นหอมกลิ่นมะนาวดีครับ \\n\\nและทับทิมกรอบที่น้ำเเข็งมาล้นหน้า รสชาติใสๆ หอมกลิ่นควันเทียนเล็กน้อย ผสมเนื้อมะพร้าวอ่อนด้วย รสชาติใช้ได้ครับ \\n\\nโดยรวมแล้วความเห็นส่วนตัว ผมคิดว่าค่อนข้างคุ้มกับราคา คุณภาพ และความหลากหลายที่ได้รับ ผมให้คะแนน4/5 สำหรับร้านนี้ครับ \\n\\nครั้งหน้าผม Captain Ton จะอาสาพากิน พาเที่ยวครั้งต่อไปอย่าลืมติดตามผมได้ที่นี่ และ FB นะครับ ^ ^</td>\n",
              "      <td>3</td>\n",
              "    </tr>\n",
              "    <tr>\n",
              "      <th>205</th>\n",
              "      <td>206</td>\n",
              "      <td>ร้านกาแฟในวัง ตั้งแต่สมัย รัชกาลที่ 6 ร้านนี้เคยปิดไปแล้วรอบนึงเพราะความเก่าของสถานที่ แต่ก็ได้รับการซ่อมแซมเรียบร้อย ถึงจะซ่อมแซมแต่ก็ยังคงบรรยากาศแบบคลาสิกสไตล์ยุโรปไว้อย่างเหนียวแน่น นั่งแล้วให้ความรู้สึกเหมือนได้ย้อนยุคกลับไปสมัยก่อนยังไงยังงั้นเลย ร้านนี้มีแต่คนแนวๆ ชอบมาแวะเวียนถ่ายรูปกัน เมนูนอกจากกาแฟสดที่หอมกรุ่นแล้ว ยังมีเค้กให้เลือกกินกันก็เยอะพอสมควร แต่ที่ห้ามพลาดเลย คือ ข้าวหน้าไก่ ยังอร่อยอย่างยิ่ง ควรสั่งมากินด่วนๆ</td>\n",
              "      <td>2</td>\n",
              "    </tr>\n",
              "    <tr>\n",
              "      <th>212</th>\n",
              "      <td>213</td>\n",
              "      <td>แดดเริ่มร่ม ลมเริ่มตกก็ถึงเพลานั่งจิบชากาแฟตามธรรมเนียมของเหล่าบรรดาผู้ดีอังกฤษ วัฒนธรรมการดื่มชากาแฟนี้ถ่ายทอดมาหลายยุคหลายสมัยไม่เพียงแต่ในแดนตะวันตกอันไกลโพ้น แต่ได้แผ่ขยายความนิยมชมชอบบรรยากาศความชิลมาถึงแผ่นดินสยามแห่งนี้....\\n\\nร้านกาแฟนรสิงห์ แห่งนี้เป็นเรือนเทียบพระที่นั่งของเหล่าบรรดาข้าราชบริพาล ขุนน้ำขุนนางในกาลก่อน เปรียบก็เหมือนเรือนรับรองรอเข้าเฝ้านั่นเอง เวลาผ่านมานานหลายปีดีดักเรือนเทียบพระที่นั่งแห่งนี้ก็ได้รับการปรับปรุง ตกแต่งให้เข้ากับกาลสมัยโดยยังคงไว้ซึ่งกลิ่นไอแห่งตำนานที่เปี่ยมไปด้วยมนต์ขลังมิเสื่อมคลาย\\n\\nร้านกาแฟ นรสิงห์ ณ วังพญาไท พร้อมบริการเครื่องดื่มทั้งชา กาแฟ เบเกอร์รี่ สำหรับผู้เขียนแล้วรสชาติชาดูจะธรรมดาไม่โดดเด่นนัก แต่สิ่งที่อยากแนะนำเรียกว่ามาแล้วไม่ทานไม่ได้คงจะเป็นเมนูอาหารที่ทางร้านมีบริการอย่างค่อนข้างจำกัด เช่น ข้าวหน้าไก่ มัสมั่นไก่ ที่ต้องขอบอกว่ารสชาตินุ่มลิ้นสมกับเป็นตำรับชาววังจริงๆ (recommendอย่างแรง) อีกเมนูที่ถือว่าหาทานได้ไม่ง่ายนักอย่าง หมูเค็มขนมปังปิ้ง ที่เสิร์ฟมาพร้อมปลาดุกผัดพริกขิงกรอบๆ หอมอร่อยอย่าบอกใครเชียว(บอกเดี๋ยวหมด!!!)\\n\\nนอกจากนี้ยังมีวาฟเฟิ้ล แอปเปิ้ลแคมเบิ้ล พาย ไว้ให้เลือกทานกันอีกด้วย\\n\\nในความคิดเห็นของผู้เขียน ถึงแม้รานนี้จะเป็นร้านกาแฟ แต่รสชาติไม่โดดเด่น แต่ขอrecommendอาหารที่ถือเป็นตำรับที่น่าประทับใจ จุดเด่นน่าจะเป็นความเป็นมาและการตกแต่งร้านที่มีกลิ่นไอแห่งอดีตที่อบอวนไปด้วยมนต์ขลัง นอกจากจะอิ่มท้อง ยังอิ่มใจกับที่มาที่ไปอันยาวนาน\\n\\nปอลิง พระราชวังพญาไทเปิดให้เข้าชมด้วย ซึ่งจะแบ่งเป็นรอบๆ ใครที่ว่างอยากเต็มอิ่มกับประวัติศาสตร์ ถือว่าไม่ควรพลาดเลยทีเดียว นะ จ๊ะ</td>\n",
              "      <td>2</td>\n",
              "    </tr>\n",
              "    <tr>\n",
              "      <th>213</th>\n",
              "      <td>214</td>\n",
              "      <td>ชอบมาทานมัฟฟิ่นช็อคโกแล็ต สตอเบอรี่ บูลเบอรี่ ทางร้านจะอุ่นให้ร้อนๆเวลาเสริฟ ลูกๆจะทานคู่กันกับนมร้อนแก้วโต อร่อยและอิ่มมาก และเค็กทีรามิสุมีกลิ่นกาแฟหอมนุ่มรสชาดกำลังดี อาหารอย่างอื่นก็ดูน่าทานมาก ไม่ผิดหวังค่ะ</td>\n",
              "      <td>2</td>\n",
              "    </tr>\n",
              "    <tr>\n",
              "      <th>227</th>\n",
              "      <td>228</td>\n",
              "      <td>ถ้าพูดถึงกาแฟ ร้าน Black Canyon คงเป็นร้านแรกๆที่คุณนึกถึงใช่ไหมล่ะ แต่วันนี้เราจะไม่แนะนำเรื่องกาแฟหรอกค่ะ วันนี้เมนูที่เรายินดีนำเสนออย่างยิ่งคือเมนูอาหารค่ะ\\n\\nวันนี้เราจะพาพวกคุณมาที่ร้าน Black Canyon สาขาเซ็นทรัลซิตี้ บางนา(ชั้น 5)ค่ะ ร้านนี้จัดบรรยากาศสไตล์อเมริกัน ดูน่านั่ง มีโต๊ะให้นั่งทั้งในและหน้าร้าน โดยที่นั่งหน้าร้านจัดเป็นที่นั่งสไตล์ร้านกาแฟหรูร่วมสมัย ส่วนด้านในร้านจัดที่นั่งเป็นแบบร้านอาหารครอบครัว จัดเป็นสัดส่วน ร้านดูสะอาดสะอ้าน พนักงานงานบริการดีเยี่ยมน่าประทับใจค่ะ\\n\\nเมนูที่อยากแนะนำวันนี้มีชื่อว่า “ข้าวผัดเขียวหวานไก่” เป็นเมนูที่น่ารักทั้งหน้าตา และรสชาติก็อร่อยไม่ผิดหวังเลยล่ะค่ะ เมนูนี้เป็นการนำข้าวไปผัดกับแกงเขียวหวานไก่ ประดับประดาด้วยไข่ต้มหั่นเป็นเสี้ยว วางล้อมที่ด้านหนึ่งของจาน ส่วนอีกด้านหนึ่งได้มีการนำผักจำพวก มะเขือเทศ แตงกวาและผักจำพวกสลัดมาวางเรียงกันสวยงาม \\n\\nเรื่องของรสชาติ ด้วยความหอมหวานของเครื่องแกงบวกกับรสเผ็ดนิดๆผัดผสมกับเนื้อไก่ทำให้รสชาติออกมาเข้ากันได้ลงตัว เหมือนเรานั่งทานแกงเขียวหวานที่ครบเครื่องแกงจริงๆค่ะ ในเรื่องของราคาเองก็แสนคุ้มค่านะคะ เมนูจานนี้ราคาเพียง 85 บาทเท่านั้น\\n\\nโดยรวมนะคะ รู้สึกถูกใจกับร้าน Black Canyon สาขานี้มาก ประทับใจทั้งบริการและรสชาติอาหารเลยค่ะ อันที่จริงที่นี่มีเมนูอาหารค่อนข้างหลากหลาย ทั้งอาหารไทยและอาหารฝรั่ง รวมถึงเครื่องดื่มหลายประเภท(แต่เน้นที่กาแฟ) รับรองได้เลยค่ะว่า ถ้าคุณได้ลองมาชิมร้านนี้ คุณจะไม่ผิดหวังเลย\\n</td>\n",
              "      <td>0</td>\n",
              "    </tr>\n",
              "    <tr>\n",
              "      <th>245</th>\n",
              "      <td>246</td>\n",
              "      <td>จำได้ว่าผมมากินครั้งแรกนานมากแล้ว ร้านยังไม่ใหญ่เหมือนตอนนี้\\nชอบตรงการจัดร้านดูเป็นระเบียบ ขนมจีนที่นี่ดูน่ารักให้มาเป็นคำๆ\\nใส่มาเป็นเข่ง มีแกงเสริฟเป็นถ้วยมีหลายอย่าง ผมสั่งไก่ย่าง ขนมจีน\\nแกงเขียวหวาน ส้มตำ ทุกจานที่กินออกแนวหวานครับ หวานนิดๆ\\nไม่ถึงกับเลี่ยน สัมผัสไม่ได้ถึงรสเค็มเลย ใครกินอาหารรสชาดหวาน\\nนำมาได้เลยไม่ผิดหวัง สำหรับผมขอตัวก่อนดีกว่าแต่ก่อนที่กินผมว่า\\nไม่หวานแบบนี้นะ ยังมีอีกหลายเมนูนะแต่ผมไม่ได้ลองครับ</td>\n",
              "      <td>3</td>\n",
              "    </tr>\n",
              "    <tr>\n",
              "      <th>249</th>\n",
              "      <td>250</td>\n",
              "      <td>ล่วงเลยวันเกิดเพื่อนสนิทอีกคนมานานมากกกก \\n(คือ เดือนที่แล้ว แหะ แหะ)\\nก็เลยพามาสวีทกันตามประสาสาวโสด ????\\n\\nจริงๆ ตอนแรกชวนเจ้าของวันเกิดเดือนกรกฎาคมมา แต่ไม่ว่างมา เลยคิดว่าอาจจะไม่ได้มาแล้ว \\nแต่พอดีเพื่อนอยากมา ก็เลยพามาละกัน\\n(อยากมามาก ถึงขั้นเตรียมdressมาเปลี่ยนกันเลยงี้)\\n\\nเจ้าของเรือ จะแจ้งเวลาออกเรือมาล่วงหน้า เพราะมี 2 รอบ คือ \\nSunset dinner cruise 18.00-20.00 กับ ...\\nBangkok by night 20.30-22.30\\nใช้เวลา 2 ชั่วโมงในการชื่นชมทรรศนียภาพริม 2 ฝั่งแม่น้ำเจ้าพระยา และเพลิดเพลินกับรสชาติอาหารจากครัวที่มีชื่อเสียง อย่าง Mango tree\\n\\nทางเรือจะให้มารอล่วงหน้าอย่างน้อย 10 นาที พีเลยต้องแอบแว๊บงานมาตอน 4 โมงกว่าๆเพื่อมุ่งหน้าไปยัง Asiatique ที่เป็นสถานที่ที่เรืิอจะมาคอยรับ\\n\\nขึ้นเรือมาปุ๊บ พนักงานต้อนรับก็มาพร้อมพวงมาลัย และเชิญไปที่โต๊ะ ถ้าคนไม่เยอะมาก สามารถเลือกโต๊ะนั่งเองได้เลยว่าจะนั่ั่งไหน นั่งเรียบร้อย พนักงานจะมีผ้าเย็นผสมกลิ่นการบูรมาเสิร์ฟ เพื่อเพิ่มความสดชื่นก่อนเริ่มเดินทาง\\n(ส่วนตัว ไม่ชอบกลิ่นอะไรแรงๆ เลยวางไว้เฉยๆ)\\n\\nออกเดินทางได้ซักพัก เค้าก็เริ่มต้นด้วย ของทานเล่นก่อนเลย \\n\\n- Fried vegetable spring roll with crispy fries noodles -\\nมาจานย่อมๆ น่ารัก เป๊าะเปี๊ยะทอดมากรอบ แอบอมน้ำมันนิดหน่อย ไส้ด้านในมีวุ้นเส้น รสชาติหวานจากผัก อร่อยดีค่ะ ส่วนหมี่กรอบ ชอบมากกกกก กรอบ ร่วน หวานอมเปรี้ยว อร่อยค่ะ!!\\n\\nหลังจากเสิร์ฟของว่างก่อน ก็ปล่อยให้เพลิดเพลินกับวิวรอบด้านเรือเล็กน้อย เรือจะสร้างให้เห็นวิวทั้ง 2 ด้าน ด้านหน้าก็มีพื้นที่ให้เดินไปถ่ายรูปกับสะพานสวยๆ อย่างสะพานพระราม 8 ได้ด้วย (ถ้าฝนไม่ตก)\\n\\n*ถ้าฝนตก เค้าก็จะมีแผ่นพลาสติกใสมากันด้านหน้าและรอบๆ ให้ค่ะ \\n\\nลืมบอกว่า เรืออันนี้ค่อนข้าง privateมาก เพราะเค้าไม่ได้เน้นจำนวนคน แต่เน้นความหรู โรแมนติก \\n(จริงๆ ควรมากับหนุ่มนะเนี่ย ????)\\nและเป็นส่วนตัว เพราะจะมีแค่ 20กว่าโต๊ะเท่านั้น \\n\\nกลับมาเรื่องอาหารกันต่อ \\n- Mixed Thai appetisers - มี 4 อย่าง\\n@ Pomelo salad\\nยำส้มโอ เป็นอาหารไทยที่หาทานไม่ได้เยอะตามทั่วไป ทานแล้วสดชื่นมาก เพราะส้มโอออกเปรี้ยวอมหวาน เข้ากับน้ำยำที่ทำมารสชาติไม่เหมือนให้คนต่างชาติทาน แต่รสชาติออกไทยเลยค่ะ \\n@ Pla goong\\nกุ้งมา 1 ตัวใหญ่พอดีคำเลยค่ะ เนื้อกุ้งสด หวาน น้ำยำก็เปรี้ยว กลมกล่อม\\n@ Yum makua\\nยำมะเขือ พีไม่ค่อยทานมะเขือเท่าไหร่ แต่อันนี่ทานแล้ว ไม่มีกลิ่นเหม็นเขียว นุ่ม รสชาติจัดดี ออกหวานมะเขือด้วยค่ะ\\n@ Nua namtok\\nเนื้อน้ำตก ตอนแรกเพื่อนจะกินแล้ว พอรู้ว่าเป็นเนื้อ ส่งมาให้พีเลยค่ะ เนื้อนุ่มมาก หอม ยำมาได้รสชาติกำลังดี เปรี้ยวเค็ม ครบทุกรส หอมข้าวคั่ว\\n\\nก่อนถึง Main course มีคั้นด้วยซุป\\n- Tom yum with River prawn -\\nอันนี้เก๋มาก ในวิธีการเสิร์ฟ พอดีพีกับเพื่อนไปถ่ายรูปที่หัวเรือเพลิน เดินกลับมามีจานพร้อมฝาครอบอยู่บนโต๊ะ พอนั่งปุ๊บ พนักงานก็มาเปิดฝา พร้อมบีบมะนาวลงไป ตามด้วยกา เทน้ำต้มยำราดเห็ดและกุ้งแม่น้ำที่อยู่ในจาน \\nรสชาติ เข้มข้นกำลังดี หวาน เปรี้ยว กลมกล่อม เนื้อกุ้งแม่น้ำ นุ่ม ไม่สาก อร่อยดีค่ะ พีประทับใจตั้งแต่กรรมวิธีละ 55555\\n\\nก่อนเริ่มmain course เค้าจะมี Lime sorbet เพื่อล้างปากก่อนด้วย เก๋มาก!! รสชาติเปรี้ยว หวาน อร่อยค่ะ ติดใจ!!!!! แต่มาแก้วเล็กๆ เท่านั้นเอง\\n(เกือบไม่ดื่มละ เพราะคิดว่ามีแอลกอฮอล์)\\n\\nMain course \\n*เค้าจะมีให้เลือก 4 อย่าง พีได้ชิม 3 อย่าง เอ๊ะ! ยังไง\\n- Bone-in organic pork chop with Panang sauce - (ของพี)\\nพีเป็นคนไม่ชอบทานแกงกะทิทั้งหลาย เพราะไม่ค่อยชอบพวกเครื่องเทศ แต่ยอมเลยกับpork chopจานนี้ สีสันน่าทานสุดๆ เนื้อหมูนุ่มมากกก ไม่ต้องใช้มีด ก็เลาะออกมากินได้ง่ายมาก นุ่ม สุกกำลังดี เครื่องแกงก็ไม่เผ็ดมาก ถึงเครื่องสุดๆ เข้นข้ม มัน รสชาติกลมกล่อม อร่อยค่ะ พีทานหมดชิ้นเลย \\nเสิร์ฟมาพร้อมข้าวกล้อง แครอทและบล๊อคโคลี่ลวก\\n\\n- Grain fed slow-cooked Angus beef rib with Green curry sauce - (ของเจ้าของเรือ)\\nพอดีเจ้าของเรือ เดินทางมาด้วย เลยได้พูดคุยจนมานั่งร่วมโต๊ะด้วย เค้าเลยบอกว่าอันนี้เป็นอีก 1 เมนูที่เค้าภูมิใจนำเสนอ แบ่งมาให้ทาน ชิ้นนึง\\nปกติชอบทานเนื้ออยู่แล้ว อยากบอกว่า เนื้อเลาะออกง่ายมาก นุ่มมมม ไม่เหนียวเลย แถมแกงเขียวหวานก็ซึมเข้าเนื้อเลยค่ะ สำหรับคนชอบหวานน่าจะชอบ เพราะแกงเขียวหวาน รสชาติค่อนไปทางหวานสมชื่อ\\n\\n- Grilled sea Tiger prawn with garlic lime sauce - (ของเพื่อนสาว)\\nอันนี้ก็ให้เพื่อนตัดมาชิ้นเล็ก ๆ ชิมนิดหน่อย พอรู้รสชาติได้บ้าง กลิ่นกระเทียมหอม กุ้งเนื้อนุ่ม หวานปนเค็มเล็กๆ เสิร์ฟพร้อมน้ำจิ้มซีฟู้ด เพื่อนบอกอร่อยค่ะ \\n\\nสุดท้าย แต่ไม่ท้ายสุด \\nDessert \\n- ข้าวเหนียวมะม่วง + caramel pudding topping ด้วยลิ้นจี่+ขนุน -\\nอร่อยมากกกกกกก ทั้ง 2 อย่างเลย \\nข้าวเหนียวมะม่วง มะม่วงหวานกำลังดี ทานพร้อมกับข้าวเหนียวที่ชุ่มด้วยน้ำกะทิเข้มข้น อร่อย และฟินนนนนนสุดๆ \\nพุดดิ้งหอมกลิ่นคาราเมล แต่ไม่หวานเลี่ยนอย่างที่คิด แต่ชอบตรงรสชาติของลิ้นจี่และขนุน ที่ทำให้แปลกใหม่และอร่อยลงตัวสุดๆ แทบอยากจะขออีกที่เลยค่ะ!! \\n* เจ้าของบอกว่า ข้าวเหนียวมะม่วงจะคงไว้ทุกฤดูกาล แต่พุดดิ้ง อาจจะสลับเปลี่ยนไปเป็นเมนูอื่นๆ บ้าง\\n\\nสุดท้ายเค้าจะเสิร์ฟ กาแฟ/ชาให้ล้างปาก ก่อนจบทริป\\n\\nตลอดทางจะได้ชมทรรศนียภาพ ริมฝั่งแม่น้ำ ทั้งสะพานซังฮี้ วัดอรุณ วัดพระแก้ว พระบรมราชวัง ศิริราช และจบที่สะพานพระราม 8 แล้วย้อนกลับมาที่Asiatique \\n\\nค่าเสียหาย 2000+7% vat+10% service charge กับ 6 Thai fusion course set menu และบรรยากาศโรแมนติก ก็ถือว่าคุ้มนะคะ \\n\\nใครมีแขกบ้านแขกเมือง เพื่อนต่างชาติ หรือต้องการพาคู่มาสวีท พามาได้เลยนะคะ รับรอง เค้าจะประทับใจอย่างแน่นอน ????</td>\n",
              "      <td>0</td>\n",
              "    </tr>\n",
              "    <tr>\n",
              "      <th>252</th>\n",
              "      <td>253</td>\n",
              "      <td>ตั้งท่าจะไปกินมานานแล้ว พอดีเพื่อนฝรั่งที่เคยทำงานด้วยกัน กลับมาทำงานที่เมืองไทย เลยถือโอกาสพาไปกินที่นี่ซะเลย\\nวันนั้นไปเดินรอร้านเปิดกันด้วยนคะ เพราะร้านเค้าเปิดประมาณ 6 โมงเย็นอ่ะ แต่พวกเรามาเร็วไป เลยต้องไปกินโกโก้กันที่ร้านกาแฟแถวนั้นก่อน \\n\\nที่กินกันวันนั้น จัดว่าปริมาณเยอะสำหรับคน 3 คนนะ ไม่รู้ว่ากินกันหมดไปได้ไง ตอนที่สั่งก็หิวอ่ะ พออาหารมาแล้วก็ โอ้ !!! เยอะแฮะแต่อร่อยทุกอย่างเลยนะ \\n\\nที่สั่งวันนั้นก็มี ดังนี้ (ราคาจะโดยประมาณนะคะ เพราะจำไมได้ ลืมจดมา เวลาหิวๆ จะลืมสิ้นทุกสิ่งอย่าง)\\nพิซซ่าหน้าพาร์มาแฮมกับมาสคาโปเนชีส ตัวพาร์มาแฮมชิ้นอาจจะไม่ใหญ่นัก แต่ว่าหนาอยู่นะคะ ส่วนมาสคาโปเนชีสนี่ วางมาเต็มแผ่นพิซซ่าเลย หอมมันยืดเหนียว อร่อยสุดๆ มันเป็นพิซซ่าที่แป้งเหนียวนุ่ม ท๊อปปิ้งเองก็เหนียวนุ่มและรสชาติเข้มข้นแบบฝรั่งๆ จานนี้ประทับใจนะ ถ้าใครชอบกินพิซซ่าหน้านี้ ขอแนะนำให้สั่งมากินค่ะ ราคาประมาณ 280 บาท\\n\\nต่อมาเป็นคาลามารี ที่การจัดวางเก๋มาก เพราะเสิร์ฟมาในถังใบเล็กๆ น่ารักดี ตัวแป้งจะเป็นแบบบางๆ ไม่ได้หนามาก เราว่าเค้าน่าจะผสมแป้งแบบน้ำน้อยอ่ะ เลยไม่ได้มาแนวแบบแป้งหนาเป็นเทมปุระ รสชาติก็เค็มๆ มันๆ ดีค่ะ เอาไปจิ้มซอสที่เปรี้ยวๆ แล้วจะเข้ากันได้ดีเลย จานนี้ราคา 150-180 บาทนะ\\n\\nอีกจานอันนี้เราสั่ง เป็นซัลมอนอะไรสักอย่างนะ จำชื่อเมนูไม่ได้ อารมณ์ประมาณแซลมอนดิบ วางมาบนน้ำยำที่มีเบสเป็นน้ำพริกเผาอ่ะค่ะ จะหอมตะไคร้มากๆ ตัวน้ำยำรสชาติจะออกหวานนำนะคะ ตามด้วยเค็มและเผ็ดนิดๆ เนื้อซัลมอนก้สดนะ นุ่มเนียน ไม่คาว อร่อยแปลกแหวกแนวดีค่ะ เพราะยังไม่เคยกินแบบนี้ที่ไหนเหมือนกัน ราคาประมาณ 230 -250 บาท\\n\\nจานสุดท้ายนี้เพื่อนสั่ง เป็นซูชิโรลชุบแป้งทอด ข้างในซูชิโรลมีอะไรบ้างก็จำไม่ได้ละ รู้แต่ว่ามีอะโวคาโดนะคะ อร่อยดีค่ะ กรอบนอกนุ่มใน แต่เวลากินต้องระวังความร้อนที่ยังระอุอยู่ในตัวข้าวนิดนึงนะ ไม่งั้นจะปากพองเอาได้ ราคาก็น่าจะประมาณ 180 -250 บาทนะ\\n\\nส่วนเครื่องดื่ม เราสั่งชาวานิลลาเย็นไป ได้มาเป็นชาร้อนหนึ่งกา แล้วก็ขอน้ำแข็งเค้ามาหนึ่งโถเล็ก ส่วนเพื่อนฝรั่งสั่งเหล้า ชื่อว่าอะไรแบงค็อกๆ สักอย่างนี่แหละ เราแอบชิมไป มันเป็นแม่โขงผสมกับมะนาวและตะไคร้อ่ะค่ะ หอมๆ เปรี้ยวๆ ขมๆ ดีเหมือนกินน้ำต้มยำที่ไม่ใส่พริกนะ\\n\\nมื้อนั้นหมดไปพันห้าค่ะ หารกันแล้วก็ตกคนละประมาณ 500 กว่าบาท จัดว่าแพงเอาการเลยทีเดียว\\n\\nแนะนำว่าถ้าใครจะไป ให้โทรไปจองที่ก่อนนะคะ ไม่งั้นเดี๋ยวไม่มีที่นั่งดีๆ เพราะทุกคนเค้าโทรมาจองที่กันก่อนทั้งนั้น เรากับเพื่อนไม่ได้จอง เลยต้องไปนั่งตรงห้องด้านหลัง ที่เหมือนอยู่ในชั้นใต้ดินแทน เลยอดเห็นวิวสวยๆ ด้านหน้าร้านเลย อยากนั่งตรงบาร์ด้านที่มันติดกับกระจกร้านด้านหน้าอ่ะ แล้วตอนเราออกมา ก็เห็นมีฝรั่งนั่งอยู่บนขั้นบันไดหน้าตึกหลังแรกของร้าน โดยมีตั่งเล็กๆ วางเครื่องดื่มและอาหารเบาๆ อยู่ข้างหน้า ไม่รู้ว่ามันเป็นที่เสริมพิเศษ หรือเค้าจัดไว้ให้สำหรับคนที่มานั่งรอที่นั่งด้านในว่างก็ไม่รู้สิ\\n</td>\n",
              "      <td>3</td>\n",
              "    </tr>\n",
              "    <tr>\n",
              "      <th>254</th>\n",
              "      <td>255</td>\n",
              "      <td>ด้วยคอนเซ็ปของอาหารที่แปลกแหวกแนว\\nเลยต้องขอโดนสักที!!\\n\\nบรรยากาศร้านตกแต่งสไตล์โมเดิน เพดานสูงโปร่ง พื้นที่ร้านกว้างขวาง นั่งแล้วดูโล่งโปร่งสบายดี\\nเมนูก็มีให้เลือกหลากหลาย ล้วนแต่แปลกๆทั้งนั้น\\nแต่จานเล็กและให้ปริมาณน้อย แต่ก็ทำให้ได้กินหลายเมนู\\n\\nมาที่อาหารกันบ้าง\\nแน่นอนว่าอาหารญี่ปุ่น ขาดไม่ได้ คือวาซาบิ\\nเมื่อมารวมกับส้มตำในชื่อเมนูชื่อยาว\\n\"ส้มคำวาซาบิแซลมอนซาชิมิ\" 175฿\\nใครชอบทานวาซาบิไม่ผิดหวังแน่\\nรสชาติแซ่บซี๊ด วาซาบิขึ้นจมูกกำลังดี\\nถึงแซลมอนไม่สดมาก แต่อยู่ในส้มตำจานนี้ก็อร่อยดี\\n\\n\"เกี๊ยวซ่าซอสมะขามหวานเผ็ด\" 90฿\\nตัวเกี๊ยวซ่าเป็นแบบปกติ แต่แปลกที่น้ำซอส\\nเป็นซอสมะขามเปรี้ยวนิดๆ คีบเกี๊ยวซ่าจิ้มซอสมะขาม อร่อยแปลกดีจริง\\n\\n\"ข้าวห่อสาหร่ายไส้น้ำพริกหมูแซ่บเว่อร์\" 100฿\\nข้าวห่อจานนี้ ขอบอกว่าแปลกใหม่และอร่อยมาก\\nแต่รสชาติออกเผ็ดตามชื่อเมนูที่ว่าแซ่บเว่อร์!!\\nมีน้ำพริกหมูแยกใส่ถ้วยมาให้แซ่บอีกต่างหาก\\nใครชอบกินรสจัด แนะนำจานนี้เลย\\n\\nรวมมิตรยากิ ชุดเล็ก\\nเป็นจานย่าง มีเห็ดและกุ้งพันเบคอนย่าง\\nอร่อยดีนะ แต่ให้มาน้อยไปหน่อย\\n\\nสุดท้าย ลาบแซลมอนซาชิมิ 180฿\\nแซลมอน กินกับลาบ ก็อร่อยนะ...จะบอกให้\\n\\nสรุปร้านนี้ประทับใจ ไม่ผิดหวังที่เข้ามาลอง\\n\\n\\n</td>\n",
              "      <td>0</td>\n",
              "    </tr>\n",
              "    <tr>\n",
              "      <th>256</th>\n",
              "      <td>257</td>\n",
              "      <td>ถ้าใครไม่อยากพาคุณแม่ไปกินอาหารหนักๆ หรือไม่อยากออกไปนอกบ้านตอนกลางค่ำกลางคืน \"ร้านกาแฟนรสิงห์\" ก็เป็นตัวเลือกที่น่าสนใจ เพราะเป็นร้านที่เหมาะกับการนั่งชิลล์ในตอนกลางวันมากๆ เนื่องจากเป็นร้านอยู่ที่ในวังพญาไท อาคารเทียบรถพระที่นั่ง เป็นตึกเก่าทรงยุโรปที่ตกแต่งสวยงาม ดูขรึมขลังมลังเมลืองทั้งตัวอาคาร การตกแต่ง เฟอร์นิเจอร์ นั่งกินเครื่องดื่มและอาหารไป ก็หามุมสวยๆ ถ่ายรูปกับคุณแม่เก็บไว้เป็นที่ระลึกได้เลย เพราะร้านสวยแบบคลาสสคิทุกมุม ส่วนอาหารก็เน้นเมนูง่ายๆ แต่ไม่ธรรมดา เพราะมาแบบเมนูชาววัง เช่น ขนมปังปิ้งหมูเค็มสูตรชาววัง แต่ถ้าอยากลองเมนูร่วมสมัย ก็ต้องลองเครปเค้กชาไทยที่รสชาติหวานหอมละมุน แล้วชวนคุณแม่เลือกเครื่องดื่มร้อนๆ หรือเครื่องดื่มเย็นๆ สักแก้ว มานั่งดื่มให้ชื่นใจ ลองชาราสพ์เบอร์รี่ หรือชารสมิ้นท์ หรือถ้าคุณแม่ชอบความหอมเข้มข้นปลุกให้ตื่นของกาแฟ ก็ต้องสั่งคาปูชิโน่เย็นมาลอง เพราะรสชาติเข้มข้นถึงใจ ถ้าพาคุณแม่มานั่งร้านกาแฟร้านนี้ คุณแม่อาจจะเพลินกับบรรยากาศจนลืมกลับบ้านเลยก็็เป็นได้</td>\n",
              "      <td>2</td>\n",
              "    </tr>\n",
              "    <tr>\n",
              "      <th>263</th>\n",
              "      <td>264</td>\n",
              "      <td>ครัวจันผา เขาใหญ่\\nสวัสดีค่ะ วันนี้พวกเรากว่า 20 ชีวิต เดินทางมาหาอากาศหนาวๆ ที่เขาใหญ่กันค่ะ แต่ผิดหวังไม่หนาวเอาซะเลยแถมร้อนอีกต่างหาก &gt;_&lt; พอถ่ายรูปที่บ้านรมควัน smoke house เสร็จก็กะหาร้่านกาแฟหรือร้านอาหารทานกัน แฮ่ะๆ ในแกงค์ไม่มีใครหาข้อมูลร้านอาหารมาเลยค่ะ หาแต่ที่เที่ยว ขับรถไปเรืี่อยๆ โชคดีเจอร้านจันผาค่ะ อยู่ริมถนนธนะรัชต์ ประมาณกม.ที่ 18 ใกล้ๆ กับโรงแรมกรีนเนอร์รี่เลยค่ะ\\n\\nเค้าบอกว่าร้านอาหารนี้เพิ่งเปิดใหม่ได้ไม่นานค่ะ แต่กินขาดด้วยรสชาติอาหารไทยต้นตำรับแท้ๆ ทั้งปลาช่อนเผาแม่ลา เสิร์ฟพร้อมน้ำจิ้มสามอย่าง ทั้งน้ำจิ้มแจ่ว ซีฟู้ด และสะเดาน้ำปลาหวาน ที่กล่าวมาน้องๆ สั่งปลาช่อนเผาแม่ลามาอย่างเดียวเองค่ะ ส่วนเมนูอื่นที่สั่งมาก็อร่อยค่ะ\\n\\nแถมด้านหลังร้านเค้าก็จะมีที่พักอย่างโรแมนติกรีสอร์ทให้บริการ อิ่มแล้วเช็คอินไปนอนฝันหวานกันได้เลย แต่พวกเราจองที่พักไว้แล้ว อิอิ อด ไว้รอบหน้าล่ะกันค่ะ วันนี้ลองทานอาหารก่อน\\n\\nอาหารแนะนำ : ปลาช่อนเผาแม่ลา\\nเวลาเปิด : เปิดทุกวัน 11.00-22.00 น.\\nที่อยู่ : ร้านอยู่ติดริมถนนธนะรัชต์ \\nเบอร์โทรศัพท์ : 044-297-490-1</td>\n",
              "      <td>3</td>\n",
              "    </tr>\n",
              "    <tr>\n",
              "      <th>269</th>\n",
              "      <td>270</td>\n",
              "      <td>เจอร้านครั้งแรกตะลึงกับความอลังการของร้านมากๆ ใหญ่โตเกินกว่าจะเป็นร้านเค้ก ตกแต่งดูดี เหมาะกับสมัยนี้ที่คนเน้นถ่ายรูปอาหารสวยๆไปพร้อมกับสถานที่สวยๆ  เป็นรีวิวหนึ่งในรีิวิวที่ใช้เวลานานมากค่ะ เนื่องจากเกิดอาการตบะแตก ซื้อเค้กไปทั้งหมด 6 ชิ้น ซึ่งกว่าจะละเลียดกินหมดได้ ใช้เวลาเข้าไป 3 วัน ... เกิดเป็นผู้หญิงช่่างลำบากสะจริง  \\nเค้กขิ้นละประมาน 80 บาท หน้าตาสวยงามมากกกกกกมาย\\n \\nเค้กมะม่วงชีส  เป็นชีสเค้กเคลียบด้วยเจลาตินและแยมมะม่วง ที่...มันไม่มะม่วงเอาสะเลยอ่ะ ออกส้มเล็กๆด้วยซ้ำ แต่ตัวชีสเค้กข้างในนุ่มอร่อยมากๆๆๆ หักคะแนนที่ผิดหวังเรื่องกลิ่นมะม่วง\\n\\nช๊อตเค้กสตอเบอรรี่  ไม่หวานมาก ธรรมดาๆ หักคะแนนที่เราแอบงับป้ายไปเพราะนึกว่ากินได้ - - สรุปเป็นกระดาษแข็ง\\n\\nทิรามิซุ  ส่วนตัวเราว่ามันหวานไปนิดค่ะ ความขมหอมของกาแฟน้อยไปหน่อย แต่อร่อยใช้ได้\\n\\n**ดาร์คช๊อกอะไรสักอย่าง - -  ตัวนี้เด็ดอร่อยมาก ช๊อคสะใจ ขมดี อร่อยมากกกกก &gt;_&lt;\\n\\n**ช๊อคโกแลตคาราเมล  เป็นเหมือนมูสชั้นนอกข้างในเป็นเค้ก เป็นคาราเมลตรงกลาง อร่อยโคตรๆค่ะ \\n\\nมองบลังค์ ตัวนี้...เก็บไว้กินท้ายสุด สรุป ไม่กล้ากิน เพราะว่ากลัวมันหมดอายุ - -\\n\\nถือว่าเป็นเค้กที่หน้าตาสวยงาม แปลกๆ ได้รสสัมผัสที่แปลกออกไปในหนึ่งชิ้น น่าสนใจเลยทีเดียวค่ะ\\n\\nขอเตือน!!! เค้กจะอร่อยต้องกินที่ร้านค่ะ บางชิ้นละลายบ้างหรือรสเปลี่ยนได้ถ้าผ่านไปหลายวัน  :-( อย่าบ้าเห่อซื้อเหมือนเราและกินไม่หมด มันน่าเสียดายย\\n</td>\n",
              "      <td>3</td>\n",
              "    </tr>\n",
              "    <tr>\n",
              "      <th>279</th>\n",
              "      <td>280</td>\n",
              "      <td>รีวิวในครั้งนี้ไม่ใช่สเต็กในร้าน steak lao นะครับ....แต่ผมขอพูดถึงขนมที่ขายอยู่ในร้านนั่นก็คือ \\nbarbe papa(บาร์บี้ปาป้า้) เป็นเหมือนขนมสายไหมกลมๆเล็กๆสีสวยน่าทานครับ...\\nกระปุกละ 50 บาทมีข้างในอยู่ประมาณ 10 ลูกได้...รสชาดจะมีอยู่หลายรสแล้วแต่สีครับ\\nแต่พอผมชิมแล้วผิดหวังมาก..มันมีแค่รสหวานครับ(ไม่อร่อยเลยแถมยังพาลหิวน้ำอีก)(ไม่ต่างกับคุณไปทานน้ำตาลก้อนที่ใส่กับกาแฟแล้วอมช็อคโกแลตหรือรสชาดที่คุณต้องการตามลงไปยังอร่อยซะกว่าครับผมว่า)\\n\\nแต่แพคเกจสวยครับอันนี้ยอมรับซึ่งก็ดูเก๋ไก๋มีสไตล์ครับถ้าจะถือเดินแต่รสชาดผมขอบายครับ...ไม่ปลื้มจริงๆ\\n\\nJust Eat It!!!\\n\\n</td>\n",
              "      <td>3</td>\n",
              "    </tr>\n",
              "  </tbody>\n",
              "</table>\n",
              "</div>"
            ],
            "text/plain": [
              "     Review ID  ... KMeans ID\n",
              "4            5  ...         3\n",
              "6            7  ...         0\n",
              "25          26  ...         3\n",
              "27          28  ...         3\n",
              "32          33  ...         2\n",
              "37          38  ...         2\n",
              "48          49  ...         2\n",
              "63          64  ...         2\n",
              "69          70  ...         0\n",
              "70          71  ...         3\n",
              "71          72  ...         0\n",
              "76          77  ...         3\n",
              "83          84  ...         2\n",
              "89          90  ...         3\n",
              "96          97  ...         0\n",
              "100        101  ...         2\n",
              "118        119  ...         2\n",
              "123        124  ...         0\n",
              "138        139  ...         0\n",
              "141        142  ...         0\n",
              "147        148  ...         2\n",
              "149        150  ...         3\n",
              "165        166  ...         2\n",
              "172        173  ...         3\n",
              "174        175  ...         3\n",
              "192        193  ...         1\n",
              "195        196  ...         3\n",
              "201        202  ...         3\n",
              "204        205  ...         3\n",
              "205        206  ...         2\n",
              "212        213  ...         2\n",
              "213        214  ...         2\n",
              "227        228  ...         0\n",
              "245        246  ...         3\n",
              "249        250  ...         0\n",
              "252        253  ...         3\n",
              "254        255  ...         0\n",
              "256        257  ...         2\n",
              "263        264  ...         3\n",
              "269        270  ...         3\n",
              "279        280  ...         3\n",
              "\n",
              "[41 rows x 3 columns]"
            ]
          },
          "metadata": {},
          "execution_count": 26
        }
      ]
    },
    {
      "cell_type": "code",
      "metadata": {
        "colab": {
          "base_uri": "https://localhost:8080/",
          "height": 1000
        },
        "id": "EgLzQVEhLPXk",
        "outputId": "dd15f945-2508-4037-e976-c45dbb664969"
      },
      "source": [
        "df[df[\"Review\"].str.contains(\"[ก-ฮ]สา\")]"
      ],
      "execution_count": 27,
      "outputs": [
        {
          "output_type": "execute_result",
          "data": {
            "text/html": [
              "<div>\n",
              "<style scoped>\n",
              "    .dataframe tbody tr th:only-of-type {\n",
              "        vertical-align: middle;\n",
              "    }\n",
              "\n",
              "    .dataframe tbody tr th {\n",
              "        vertical-align: top;\n",
              "    }\n",
              "\n",
              "    .dataframe thead th {\n",
              "        text-align: right;\n",
              "    }\n",
              "</style>\n",
              "<table border=\"1\" class=\"dataframe\">\n",
              "  <thead>\n",
              "    <tr style=\"text-align: right;\">\n",
              "      <th></th>\n",
              "      <th>Review ID</th>\n",
              "      <th>Review</th>\n",
              "      <th>KMeans ID</th>\n",
              "    </tr>\n",
              "  </thead>\n",
              "  <tbody>\n",
              "    <tr>\n",
              "      <th>4</th>\n",
              "      <td>5</td>\n",
              "      <td>ชอบมาทานร้านนี้ถ้าอยากกินอาหารเวียดนามใกล้บ้าน อยู่ในซอยราชครูเข้ามานิดเดียวทางซ้ายมือ\\nที่จอดรถค่อนข้างน้อยเพราะต้องแชร์กับร้านค้าในเวิ้งเดียวกัน บางครั้งอาจต้องออกไปจอดตามซอยข้างๆ\\n\\nอาหารที่นี่มีหลายหลากเมนู อร่อยทุกเมนูที่เคยทาน น้ำจิ้มให้มาอย่างสะใจ ขอเพิ่มได้ตลอด \\nร้านตกแต่งเหมือนร้านอาหารเวียดนามทั่วไป คือต้องมีรูปเกี่ยวกับเวียดนามและหญิงสาวเวียดนามแต่งตัวมาอวดทรวดทรงที่ผอมบางเพราะทานกันแต่ผัก \\nผิดหวังอย่างเดียวคือกาแฟเวียดนามไม่ได้มาในถ้วยกดให้น้ำหยด แต่ชงมาให้สำเร็จ รสชาติเลยไม่เข้มข้นและออกหวานเกินไป สั้งพวกน้ำผลไม้ปั่นแทน\\nราคาเหมาะสมกับคุณภาพและปริมาณ\\n</td>\n",
              "      <td>3</td>\n",
              "    </tr>\n",
              "    <tr>\n",
              "      <th>13</th>\n",
              "      <td>14</td>\n",
              "      <td>เคยเป็นไหมกันไหมคะ หลังอาหารมื้อใหญ่ ต่อให้อิ่มยังง๊ายยังไงก็ต้องจัดของหวานต่อ ไม่ว่าจะเป็นเค้ก ไอศครีม น้ำหวาน บลาๆๆ ...\\n\\nจริงๆ ตอนเด็กๆ ก็ไม่เคยเรียนนะคะ ว่ากระเพาะคนเราแยกส่วนของคาว ของหวานได้ เช่นตอนนี้กระเพาะส่วนของคาวเต็มแม๊กซ์แล้ว แต่ยังพื้นที่ยังเหลือสำหรับส่วนของหวาน ดังนั้นเธอสามารถไปต่อได้จ้ะ ยังไงก็ตาม คนส่วนใหญ่ (รวมถึงอิฉัน) ไปต่อค่ะ\\n\\nวันนี้เป็นชานมไข่มุก สัญชาติไต้หวันค่ะ ราคาเริ่มที่ 40 บาทใต้ตึกเอ็มไพร์ค่ะ ไม่ต้องตามมาถึงนี่นะคะ ร้านเค้ามี10กว่าสาขา ในหลายห้าง รวมถึงสถานที่ที่วัยรุ่น (อย่างพวกเรา) ชอบไปอยู่แล้ว เช่น สยามค่ะ\\n\\nเมนูก็หลากหลายดี มีทั้งชา กาแฟ สมูตตี้ และยังมีพวกแนวผลไม้ เช่น สตอเบอรี่ค่ะ\\n\\nท้อปปิ้งก็เปลี่ยนได้นะ นอกจากไข่มุก ก็มีเยลลี่ พุดดิ้ง เฉาก๊วย โอเรโอ (บางครั้งเลือกไม่ถูก จบที่ใส่ทุกอย่าง)\\n\\nรูปวันนี้เป็นชานม สำหรับเด็กกำลังโต (ด้านข้าง) ต้องการพลังงานสูง ในวันที่ต้องรีบส่งงานให้เจ้านายค่ะ\\n\\nรสชาติ โอเค มาได้เรื่อยๆ เวลาต้องการใช้พลัง จริงๆรสชาติไม่ได้ต่างจากชานมเจ้าอื่นอะไรมากนักค่ะ \\n\\nตอนนี้มีโปรโมชั่น อัพไซท์ ของคนใช้เครือข่ายทรู จ่ายราคาไซท์ เอ็ม 40 บาท แต่ได้ดื่มไซท์ ใหญ่ราคา 50 บาทค่ะ หมดเขต 30 กย 57 ค่ะ\\n</td>\n",
              "      <td>1</td>\n",
              "    </tr>\n",
              "    <tr>\n",
              "      <th>14</th>\n",
              "      <td>15</td>\n",
              "      <td>ตอนเย็นๆหน่อยถ้าลงจากรถไฟฟ้าราชเทวีแล้วเดินย้อนมาทางสะพานหัวช้าง ตรงฝั่งโรงแรมเอเชีย เราอาจจะเห็นร้านส้มตำเรียงรางอยู่ริมฟุตบาทสามถึงสี่ร้านด้วยกัน \\n\\nหลายคนอาจจะอยากลองกิน แต่ไม่รู้ร้านไหนอร่อยสุด วัดจากคนที่นั่งกินอยู่ก็ไม่ได้ เพราะว่าคนเยอะเหมือนกันเกือบทุกร้าน \\n\\nวันนี้เราก็เลยจะมาบอกค่ะว่าสำหรับเราร้านไหนอร่อยสุด เผื่อว่าจะเป็นทางเลือกให้เพื่อนๆที่กำลังอยากไปลอง แต่ไม่รู้จะกินร้านไหนดี ร้านนี้ไม่มีชื่อร้านนะ เพราะฉะนั้นเราบอกพิกัดเอาน่าจะง่ายสุด \\n\\nร้านนี้ ถ้ามาจากโรงแรมเอเชียจะถึงเป็นร้านแรกเลย อยู่ใกล้ๆกับเซเว่น ประมาณตรงหน้าคริสตจักรพอดีเลย ร้านก็จะเป็นร้านรถเข็นข้างทางทั่วไป แต่ว่าสะอาดนะ \\n\\nแม่ครัวแล้วก็ผู้ช่วยใส่หมวก เก็บผม สวมผ้ากับเปื้อนครบเลย แต่งตัวก็สะอาดสะอ้านดี มาดูอาหารที่เราสั่งกันบ้างดีกว่า \\n\\nเนื่องจากไม่ได้กินส้มตำมานาน วันนี้เราจึงสั่งกันด้วยความคลุ้มคลั่ง ทั้งหมดเก้าอย่าง มาดูตามกันไปทีละอย่างแล้วกัน\\n\\nมาเริ่มที่ ส้มตำไทย อันนี้อร่อย มะละกอกรอบ กุ้งแห้งตัวใหญ่ ไม่เหม็นหืน รสชาติกลมกล่อม หวานพอดี ไม่หวานมาก \\n\\nจานต่อไปเป็นตัวซั่วปูปลาร้า รสชาติปลาร้าเข้มข้น ปลาร้าเป็นปลาร้าต้ม สะอาดและไม่เหม็น รสชาติดี ไม่เผ็ดมาก \\n\\nถัดมาเป็นตับหวาน ตับชิ้นไม่เล็กไม่ใหญ่ พอดีคำ แต่ชิ้นหนา ลวกมากำลังดี ไม่แข็งเกินไป รสชาติอร่อย กลมกล่อม แต่เผ็ดไปนิดนึง \\n\\nจานต่อไปเป็นหมูมะนาว จานนี้เราว่าไม่ค่อยเวิร์ก หมูให้มาเยอะ แต่หมูค่อนข้างแข็ง อาจจะเป็นเพราะลวกนานไป แล้วก็รสชาติยังไม่แซ่บเท่าที่ควร คือมีแต่รสเผ็ดอย่างเดียว จานนี้ไม่ผ่าน (แต่ก็หมดนะ55)\\n\\n ถัดมาเป็นคอหมูย่าง จานนี้ปลื้ม หมูติดมันหน่อยๆ ไม่มันมาก ทำให้ไม่เลี่ยน หมูชิ้นหนา เคี้ยวเต็มปากเต็มคำ จิ้มน้ำจิ้มแจ่ว อร่อยมาก \\n\\nอีกจานเป็นเนื้อย่าง อันนี้เป็นของพี่เรา เอาแบบไม่ติดมัน เลยค่อนข้างแห้งหน่อย แต่ก็ใช้ได้นะ เนื้อไม่เหนียวมาก \\n\\nถัดมาเป็นปลาเผาเกลือ จำไมได้จริงๆว่าเป็นปลาสำลี หรือปลานิล แต่ว่าเนื้อปลาสดดี หวาน เค้าแร่ปลามาสวยดี เลาะก้างตรงกลางออกให้ด้วย ทานง่ายมาก น้ำจิ้มก็อร่อยดี \\n\\nยังไม่หมดยังมีหอยแครงลวกอีก ลวกมากำลังดีไม่สุกเกิน ไม่เลือดเกิน น้ำจิ้มก็แซ่บดี \\n\\nสุดท้ายเป็นจิ้มจุ่มหมู เราเอาแต่เนื้อหมู เป็นหมูสันนอก เนื้อๆเน้นๆไม่ติดมันเลย หมูนุ่ม ไม่แข็งเลย น้ำซุปก็รสชาติกลมกล่อมดี ไม่จืด \\n\\nหมดแล้ว เยอะมาก เก้าอย่าง สาบานว่านี่กินกันสามคน เยอะมาก กินเสร็จแทบกลิ้งกลับ\\n\\n ราคาทั้งหมดนี้รวมเบียร์หนึ่งขวด โค้กลิตร น้ำแข็งสองถัง แล้วก็ข้าวเหนียวสามกระติ๊บประมาณแปดร้อยนิดๆ ไม่ถึงเก้าร้อย คุ้มยิ่งกว่าคุ้มอีก ทั้งอิ่ม ทั้งอร่อย</td>\n",
              "      <td>0</td>\n",
              "    </tr>\n",
              "    <tr>\n",
              "      <th>18</th>\n",
              "      <td>19</td>\n",
              "      <td>เคยทานทองม้วนสดมาหลายร้านแล้ว \\nถ้าจะทานแบบอร่อยๆ ใส่มะพร้าวอ่อนต้องร้านนี้เลยครับ\\nไม่ตัองไปไกลถึงตลาดสามชุกร้อยปี\\nจุดสำคัญก็ตรงที่มะพร้าวอ่อนนี่แหละครับ\\nร้านอยู่ในปั้ม. ปตท. ก่อนถึงบายพาสเลี่ยงเมืองสุพรรณ</td>\n",
              "      <td>3</td>\n",
              "    </tr>\n",
              "    <tr>\n",
              "      <th>23</th>\n",
              "      <td>24</td>\n",
              "      <td>ระหว่างมุ่งหน้าสู่ชัยภูมิ เราแวะเติมพลังกันที่ร้านก๋วยเตี๋ยวตำลึงขึ้นชื่อ ร้านออกจะลึกลับนิดนึง ขับเข้ามาในซอยสุระนารายณ์ 19 (ซอยหมู่บ้านศิวพร) หากขับไปเรื่อยๆ รับรองหาไม่เจอ เพราะต้องใช้ถนนสายในเลียบไปเรื่ิยๆ ก่อนวกซ้ายเข้าซอย 19 เป็นร้าน 2 คูหาขนาดใหญ่ หน้าร้านกว้างขวาง ขายทั้งก๋วยเตี๋ยวตำลึง ไก่ตุ๋น เป็ดตุ๋น น้ำตก อาหารตามสั่ง และชากาแฟ เปิดพร้อมขายราวๆ 8:30-9:00 ปิด 15:30 โดยประมาณ ช่วง 11:00-14:00 น.โซนห้องแอร์จะเปิดให้บริการ คิดค่าหัวเพิ่มคนละ 5 บาท (ตอนช่วงเที่ยงคนแน่นมาก)\\n\\nเมนูเด็ด: ก๋วยเตี๋ยวต้มยำตำลึง ผัดซีอิ๊ว\\nความอร่อยระดับ 8\\nความสะอาดระดับ 7\\nการบริการระดับ 7\\n\\nโดยรวมถือเป็นร้านที่ประทับใจในเรื่องรสชาติ อร่อยโดยไม่ต้องปรุง ถัดจากร้านนี้ซึ่งเป็นร้านพ่อ จะมีร้านของลูกที่ตั้งห่างไปเพียง 2 หลังคาเรือน ร้านนี้ปิดเย็นกว่า where where is where where กินของอร่อยทั้งที ต้องกินร้านต้นตำรับสูตรพ่อครับ\\n</td>\n",
              "      <td>3</td>\n",
              "    </tr>\n",
              "    <tr>\n",
              "      <th>...</th>\n",
              "      <td>...</td>\n",
              "      <td>...</td>\n",
              "      <td>...</td>\n",
              "    </tr>\n",
              "    <tr>\n",
              "      <th>277</th>\n",
              "      <td>278</td>\n",
              "      <td>ร้่านฝ้ายเป็นร้านคู่กับเมืองเชียงใหม่มานาน อยู่มานานจนมีหลายสาขา แต่สาขาท่ีผมชิมอยู่ท่ีโรงพยาบาลมหาราช (สวนดอก) ร้านนี้เป็นร้านเล็กๆ ประมาณ 8-10 โต๊ะ ขายทั้งอาหาร เครื่องดื่มและเบเกอรี่ แต่ผมขอรีวิว แค่กาแฟนะครับ เพราะชิมอย่างเดียว อย่างอื่นไม่มีข้อมูลครับ\\n   \\n  เมนูท่ีลอง: ลาเต้เย็น(50บาท) ชิมคำเเลก อยากเอาไปคืน ไม่สมราคาเลยครับ รสมันบาดคอไงไม่รู้ กาแฟมันไม่เข้ากับนม ผมไม่แนะนำครับ\\n \\n  การบริการ: ธรรมดาทั่วไป\\n</td>\n",
              "      <td>2</td>\n",
              "    </tr>\n",
              "    <tr>\n",
              "      <th>279</th>\n",
              "      <td>280</td>\n",
              "      <td>รีวิวในครั้งนี้ไม่ใช่สเต็กในร้าน steak lao นะครับ....แต่ผมขอพูดถึงขนมที่ขายอยู่ในร้านนั่นก็คือ \\nbarbe papa(บาร์บี้ปาป้า้) เป็นเหมือนขนมสายไหมกลมๆเล็กๆสีสวยน่าทานครับ...\\nกระปุกละ 50 บาทมีข้างในอยู่ประมาณ 10 ลูกได้...รสชาดจะมีอยู่หลายรสแล้วแต่สีครับ\\nแต่พอผมชิมแล้วผิดหวังมาก..มันมีแค่รสหวานครับ(ไม่อร่อยเลยแถมยังพาลหิวน้ำอีก)(ไม่ต่างกับคุณไปทานน้ำตาลก้อนที่ใส่กับกาแฟแล้วอมช็อคโกแลตหรือรสชาดที่คุณต้องการตามลงไปยังอร่อยซะกว่าครับผมว่า)\\n\\nแต่แพคเกจสวยครับอันนี้ยอมรับซึ่งก็ดูเก๋ไก๋มีสไตล์ครับถ้าจะถือเดินแต่รสชาดผมขอบายครับ...ไม่ปลื้มจริงๆ\\n\\nJust Eat It!!!\\n\\n</td>\n",
              "      <td>3</td>\n",
              "    </tr>\n",
              "    <tr>\n",
              "      <th>284</th>\n",
              "      <td>285</td>\n",
              "      <td>ผมชอบร้านกาแฟในเครือ อเมซอน ซ่งส่วนใหญ่เปิดในปั๊มน้ำมัน\\nแต่ร้านนี้ เปิดในห้าง เป็นร้านการแฟมาตรฐานเลยครับ\\nผมชอบสาขานี้ เพราะ ร้านมันสวยดี เมื่อมันอยู่ในห้าง สีเขียวทำให้สดชื่น\\n\\nผมมากินกาแฟหลายครั้งแล้ว รสชาติก็เป็นมาตรฐานของอเมซอนนะครับ\\nคาปูชิโน่ ก็ไม่โดดเด่น แต่ก็อร่อยมาตรฐาน\\nที่ผมชอบก็คือ สูตร อเมซอนครับ จะดื่มร้อน\\nถ้าธรรมดาก็ 45 บาท\\nถ้า อเมซอนพิเศษ ซึ่งกาแฟจะขมเข้มข้นขึ้น ก็ 50 บาท อันนี้สะใจดี\\nดื่มแล้วตาโตแข็งดี\\n\\nส่วนเค็ก ถ้าเป็นเค๊กที่มีครีมบนหน้า ไม่แนะนำครับ ไม่อร่อย เนื้อเค๊กแข็ง\\nถ้าอยากกิน ก็กินแบบที่เขาทำเล็กๆ น้อยๆ มาขายดีกว่า\\nเพราะคิดว่า ทางร้านเขาคงรับมาขายต่ออีกที เพราะอเมซอนไม่ทำเค็กขายเอง</td>\n",
              "      <td>2</td>\n",
              "    </tr>\n",
              "    <tr>\n",
              "      <th>288</th>\n",
              "      <td>289</td>\n",
              "      <td>ร้านพายจริณ เป็นร้านคาเฟ่และเบเกอรี่เล็กๆที่มีสาขาแรกอยู่ที่เชียงรายค่ะ \\nตอนนี้มาเปิดสาขาใหม่ที่เชียงใหม่ ซอยนิมมาน 11 ค่ะ \\nร้านนี้มีเมนูเด่นๆเลยคือพายโฮมเมดรสชาติดีค่ะ ด้วยแป้งพายสูตรเด็ดของทางร้าน \\nที่ทั้งกรุบกรอบและหอมชุ่มเนยมากๆเลยค่ะ อีกทั้งมีพายหลากหลายรสชาติให้เลือกด้วยค่ะ \\nตัวแนะนำคือพายแมคคาเดเมียค่ะ ที่มีถั่วแมคคาเดเมียอัดแน่นเต็มหน้าพายเลยค่ะ หรือ \\nคนรักช๊อคโกแล๊ตต้องห้ามพลาด พายช๊อคโกแล๊ตเข้มข้นๆ หรือ เอาใจคนรักความสดชื่น \\nเป็นพายมะนาวซูพรีม ก็เปรี้ยวจี๊ดจ๊าดสะใจมากๆเลยค่ะ ทั้งเปรี้ยวและสดชื่นมากๆเลยค่ะ \\nนอกจากพายแล้วก็ยังมีกาแฟสดบริการด้วยค่ะ จะใช้เมล็ดกาแฟสูตรของทานร้าน \\nทานเข้ากันกับพายมากๆค่ะ หรือจะทานคู่กับชาทางร้านก็มีบริการค่ะ สำหรับราคาก็ไม่แพงมากค่ะ \\nอร่อยแล้วก็มีให้เลือกหลากหลายมากๆเลยค่ะ</td>\n",
              "      <td>3</td>\n",
              "    </tr>\n",
              "    <tr>\n",
              "      <th>290</th>\n",
              "      <td>291</td>\n",
              "      <td>เมื่อวานไปเดินเล่นเดอะมอลล์บางแค แล้วเห็นร้าน sometime’s ซึ่งเป็นร้านที่เป็นสาขา ก็เลยคิดถึงร้านที่เป็นออริจินอลขึ้นมา ร้านนี้เคยไปเมื่อสามสี่ปีก่อน ไปแล้วประทับใจมาก คิดไว้เลยว่าจะต้องมาอีก แต่เวลาผ่านไปก็ลืม พอมาเจอมินิซัมไทม์ก็เลยคิดถึง อยากไปขึ้นมาแบบปัจจุบันทันด่วน พอได้โอกาสก็เลยชวนเพื่อนสาวไปนั่งเม้าท์กันซะเลย ร้านนี้มีนกฮูกเป็นสัญลักษณ์ของร้าน ธีมหลักจะตกแต่งโทนเข้มๆดูลึกลับๆหน่อย แต่จริงๆแล้วที่ร้านมีหลายโซน แต่ละโซนก็ตกแต่งต่างแบบต่างสไตล์กันไป มีทั้งนั่งในร้านแล้วก็นั่งข้างนอก อาหารก็มีทั้งของคาวของหวานและเครื่องดื่ม เข้าไปในร้าน กลิ่นแรกที่สัมผัสได้คือกลิ่นกาแฟ หอมมาก ได้กลิ่นแล้วผ่อนคลายสุดๆ วันนี้เราสั่งลาเต้ร้อนมากินกับดับเบิ้ลดาร์กช้อคโกแลต ลาเต้รสกลมกล่อมดี จิบอุ่นๆกับฟองนมนุ่มๆ ส่วนเค้กก็อร่อยนะคะ ไม่หวานมากเพราะเป็นดาร์กช้อคโกแลต แต่ก็ไม่ได้ขมเกินไป เค้กอร่อย ชิ้นใหญ่ดีค่ะ แต่ยังไม่ได้แบบ โอ้วว อร่อยสุดๆอะไรขนาดนั้นนะคะ แต่อยู่ในขั้นอร่อยแหละ งงมั้ย55 เพื่อนเราสั่งซุปฟักทองของแนะนำของร้านมากิน เค้าบอกว่ารสกลมกล่อมดี แต่เราไม่ชอบฟักทองเลยขอบาย ส่วนคาโบนาร่าที่เพื่อนสั่งมาชิมไปคำนึงอร่อยค่ะ ข้นๆ ชีสเยอะ เยิ้มๆเลย กินคำแรกอร่อยดีนะคะ แต่ไม่รู้กินหมดจานจะเลี่ยนรึป่าว จำได้ว่าครั้งที่แล้วเรามากินโรตีแกงเขียวหวานไก่อร่อยมาก จำรายละเอียดรสไม่ได้หรอกเพราะนานแล้ว ที่จำได้คืออร่อย ส่วนเค้กครั้งที่แล้วเรากินบานอฟฟี่ ชิ้นโตๆ อร่อยเหมือนกันค่ะ แต่มาครั้งนี้ไม่อยากสั่งซ้ำ อยากลองของใหม่บ้าง สรุปเลยนะคะ ร้านนี้บรรยากาศดีมาก มีหลายมุมให้เลือกนั่งแล้วแต่อารมณ์เลยค่ะ เป็นอีกร้านนึงที่เราประทับใจมากๆ เพราะร้านสวย นั่งสบาย อาหารอร่อย พนักงานเป็นกันเอง ส่วนราคาก็ทั่วๆไปนะ ไม่ได้ถูก แต่ก็ไม่ได้แพงเว่อร์กว่าที่อื่นหรอก อ้อลืมบอกไป ร้านนี้อยู่ระหว่างซอบปรีดีพนมยงค์38กับ40นะ อยู่ริมถนนเลย หาไม่ยาก</td>\n",
              "      <td>3</td>\n",
              "    </tr>\n",
              "  </tbody>\n",
              "</table>\n",
              "<p>78 rows × 3 columns</p>\n",
              "</div>"
            ],
            "text/plain": [
              "     Review ID  ... KMeans ID\n",
              "4            5  ...         3\n",
              "13          14  ...         1\n",
              "14          15  ...         0\n",
              "18          19  ...         3\n",
              "23          24  ...         3\n",
              "..         ...  ...       ...\n",
              "277        278  ...         2\n",
              "279        280  ...         3\n",
              "284        285  ...         2\n",
              "288        289  ...         3\n",
              "290        291  ...         3\n",
              "\n",
              "[78 rows x 3 columns]"
            ]
          },
          "metadata": {},
          "execution_count": 27
        }
      ]
    },
    {
      "cell_type": "markdown",
      "metadata": {
        "id": "3aNJxg2ATtmK"
      },
      "source": [
        "#**Result discussion**"
      ]
    },
    {
      "cell_type": "markdown",
      "metadata": {
        "id": "cQ2SOjNKT1d7"
      },
      "source": [
        "Tuning List\n",
        "\n",
        "*   Remove UMAP (Use 512-dimensions embedded vectors)\n",
        "*   Remain Kmean K = 4\n",
        "*   Change tokenization method to \"Longest\"\n",
        "*   Add remove word ['u', 'b', 'n', 'nn', 'nn-', '\\n', 'ร้าน', 'กิน', 'ทาน', 'ผม','กก','สวัสดี', 'เก','ก','า','ร้า','เรา','ฉัน']\n",
        "*   Add new word {\"สตารบัก\", \"ปลาร้า\",\"ไม่อร่อย\",\"เรา\",\"หนอ\",\"เสนอ\"}\n",
        "*   Query some interesting word to read full review"
      ]
    },
    {
      "cell_type": "markdown",
      "metadata": {
        "id": "S6tvgEpWNeqE"
      },
      "source": [
        "Group 1 : Restaurant Reviewer\n",
        "> กลุ่มนี้เน้นรีวิวร้านอาหารเป็นหลัก หลากหลายราคาและประเภทของอาหาร ภาพรวมจะรีวิวออกมาในแง่บวก ทั้งในด้านของ รสชาติอาหาร ราคาและบริการ\n",
        "\n",
        "Group 2 : Cafe Hopper\n",
        "> กลุ่มนี้เน้นรีวิวร้านกาแฟและคาเฟ่น่ารักๆหรือมีสไตล์ ชอบ ชานมไข่มุก เค้ก เบเกอรี่เป็นพิเศษ นักรีวิวเป็นเพศหญิงมากกว่าเพศชาย\n",
        "\n",
        "Group 3 : Coffe Lover\n",
        "> กลุ่มนี้เน้นรีวิวกาแฟ เป็นนักดื่มที่พร้อมละเมียดละไมกับรสชาติกาแฟ ขอเพียงกาแฟถูกปาก คุณภาพดี ไม่ว่าจะอยู่แห่งหนใดก็จะสรรหามารีวิว ตัวอย่างยอดฮิตเช่นกาแฟนรสิงห์ วังพญาไท จนไปถึง กาแฟเจลลี่บีนในตรอกซอกซอยก็มีมาให้รีวิวกัน \n",
        "\n",
        "Group 4 : Criticizer\n",
        "> กลุ่มนี้เน้นการรีวิวสะท้อนคุณภาพของร้านอาหารเทียบกับราคาที่จ่ายไปว่าสมเหตุสมผลหรือไม่ เป็น real voice from customers หลายๆรีวิวอาจได้รับการบริการที่ไม่ดี รสชาติอาหารที่ไม่สมกับความคาดหวังจึงมีการบ่น ตำหนิ หรือกระทั่งด่า ถือว่าเป็นกลุ่มที่ชมแรงด่าแรง\n",
        "\n"
      ]
    }
  ]
}